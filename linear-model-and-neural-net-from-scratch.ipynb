{
 "cells": [
  {
   "cell_type": "markdown",
   "id": "3001a05d",
   "metadata": {
    "papermill": {
     "duration": 0.15789,
     "end_time": "2023-08-10T20:08:36.484400",
     "exception": false,
     "start_time": "2023-08-10T20:08:36.326510",
     "status": "completed"
    },
    "tags": []
   },
   "source": [
    "## Introduction"
   ]
  },
  {
   "cell_type": "markdown",
   "id": "b0370533",
   "metadata": {
    "papermill": {
     "duration": 0.170787,
     "end_time": "2023-08-10T20:08:36.846301",
     "exception": false,
     "start_time": "2023-08-10T20:08:36.675514",
     "status": "completed"
    },
    "tags": []
   },
   "source": [
    "In this notebook we're going to build and train a deep learning model \"from scratch\" -- by which I mean that we're not going to use any pre-built architecture, or optimizers, or data loading frameworks, etc.\n",
    "\n",
    "We'll be assuming you already know the basics of how a neural network works. If you don't, read this notebook first: [How does a neural net really work?\n",
    "](https://www.kaggle.com/code/jhoward/how-does-a-neural-net-really-work). We'll be using Kaggle's [Titanic](https://www.kaggle.com/competitions/titanic/) competition in this notebook, because it's very small and simple, but also has displays many of the tricky real-life issues that we need to handle in most practical projects. (Note, however, that this competition is a small \"learner\" competition on Kaggle, so don't expect to actually see much benefits from using a neural net just yet; that will come once we try our some real competitions!)\n",
    "\n",
    "It's great to be able to run the same notebook on your own machine or Colab, as well as Kaggle. To allow for this, we use this code to download the data as needed when not on Kaggle (see [this notebook](https://www.kaggle.com/code/jhoward/getting-started-with-nlp-for-absolute-beginners/) for details about this technique):"
   ]
  },
  {
   "cell_type": "code",
   "execution_count": 1,
   "id": "48ee916a",
   "metadata": {
    "execution": {
     "iopub.execute_input": "2023-08-10T20:08:37.182391Z",
     "iopub.status.busy": "2023-08-10T20:08:37.181601Z",
     "iopub.status.idle": "2023-08-10T20:08:37.199519Z",
     "shell.execute_reply": "2023-08-10T20:08:37.198649Z"
    },
    "papermill": {
     "duration": 0.184928,
     "end_time": "2023-08-10T20:08:37.202365",
     "exception": false,
     "start_time": "2023-08-10T20:08:37.017437",
     "status": "completed"
    },
    "tags": []
   },
   "outputs": [],
   "source": [
    "import os\n",
    "from pathlib import Path\n",
    "\n",
    "iskaggle = os.environ.get('KAGGLE_KERNEL_RUN_TYPE', '')\n",
    "if iskaggle: path = Path('../input/titanic')\n",
    "else:\n",
    "    path = Path('titanic')\n",
    "    if not path.exists():\n",
    "        import zipfile,kaggle\n",
    "        kaggle.api.competition_download_cli(str(path))\n",
    "        zipfile.ZipFile(f'{path}.zip').extractall(path)"
   ]
  },
  {
   "cell_type": "markdown",
   "id": "806d9b80",
   "metadata": {
    "hidden": true,
    "papermill": {
     "duration": 0.154375,
     "end_time": "2023-08-10T20:08:37.515236",
     "exception": false,
     "start_time": "2023-08-10T20:08:37.360861",
     "status": "completed"
    },
    "tags": []
   },
   "source": [
    "Note that the data for Kaggle comps always lives in the `../input` folder. The easiest way to get the path is to click the \"K\" button in the top-right of the Kaggle notebook, click on the folder shown there, and click the copy button.\n",
    "\n",
    "We'll be using *numpy* and *pytorch* for array calculations in this notebook, and *pandas* for working with tabular data, so we'll import them and set them to display using a bit more space than they default to."
   ]
  },
  {
   "cell_type": "code",
   "execution_count": 2,
   "id": "8c1309ef",
   "metadata": {
    "execution": {
     "iopub.execute_input": "2023-08-10T20:08:37.829486Z",
     "iopub.status.busy": "2023-08-10T20:08:37.829016Z",
     "iopub.status.idle": "2023-08-10T20:08:39.290361Z",
     "shell.execute_reply": "2023-08-10T20:08:39.289299Z"
    },
    "papermill": {
     "duration": 1.620049,
     "end_time": "2023-08-10T20:08:39.293074",
     "exception": false,
     "start_time": "2023-08-10T20:08:37.673025",
     "status": "completed"
    },
    "tags": []
   },
   "outputs": [],
   "source": [
    "import torch, numpy as np, pandas as pd\n",
    "np.set_printoptions(linewidth=140)\n",
    "torch.set_printoptions(linewidth=140, sci_mode=False, edgeitems=7)\n",
    "pd.set_option('display.width', 140)"
   ]
  },
  {
   "cell_type": "markdown",
   "id": "a01ebd6a",
   "metadata": {
    "heading_collapsed": true,
    "papermill": {
     "duration": 0.15467,
     "end_time": "2023-08-10T20:08:39.602698",
     "exception": false,
     "start_time": "2023-08-10T20:08:39.448028",
     "status": "completed"
    },
    "tags": []
   },
   "source": [
    "## Cleaning the data"
   ]
  },
  {
   "cell_type": "markdown",
   "id": "60221501",
   "metadata": {
    "hidden": true,
    "papermill": {
     "duration": 0.154327,
     "end_time": "2023-08-10T20:08:39.911604",
     "exception": false,
     "start_time": "2023-08-10T20:08:39.757277",
     "status": "completed"
    },
    "tags": []
   },
   "source": [
    "This is a *tabular data* competition -- the data is in the form of a table. It's provided as a Comma Separated Values (CSV) file. We can open it using the *pandas* library, which will create a `DataFrame`."
   ]
  },
  {
   "cell_type": "code",
   "execution_count": 3,
   "id": "1fa539a2",
   "metadata": {
    "execution": {
     "iopub.execute_input": "2023-08-10T20:08:40.228154Z",
     "iopub.status.busy": "2023-08-10T20:08:40.227812Z",
     "iopub.status.idle": "2023-08-10T20:08:40.282931Z",
     "shell.execute_reply": "2023-08-10T20:08:40.281941Z"
    },
    "hidden": true,
    "papermill": {
     "duration": 0.21594,
     "end_time": "2023-08-10T20:08:40.285469",
     "exception": false,
     "start_time": "2023-08-10T20:08:40.069529",
     "status": "completed"
    },
    "scrolled": true,
    "tags": []
   },
   "outputs": [
    {
     "data": {
      "text/html": [
       "<div>\n",
       "<style scoped>\n",
       "    .dataframe tbody tr th:only-of-type {\n",
       "        vertical-align: middle;\n",
       "    }\n",
       "\n",
       "    .dataframe tbody tr th {\n",
       "        vertical-align: top;\n",
       "    }\n",
       "\n",
       "    .dataframe thead th {\n",
       "        text-align: right;\n",
       "    }\n",
       "</style>\n",
       "<table border=\"1\" class=\"dataframe\">\n",
       "  <thead>\n",
       "    <tr style=\"text-align: right;\">\n",
       "      <th></th>\n",
       "      <th>PassengerId</th>\n",
       "      <th>Survived</th>\n",
       "      <th>Pclass</th>\n",
       "      <th>Name</th>\n",
       "      <th>Sex</th>\n",
       "      <th>Age</th>\n",
       "      <th>SibSp</th>\n",
       "      <th>Parch</th>\n",
       "      <th>Ticket</th>\n",
       "      <th>Fare</th>\n",
       "      <th>Cabin</th>\n",
       "      <th>Embarked</th>\n",
       "    </tr>\n",
       "  </thead>\n",
       "  <tbody>\n",
       "    <tr>\n",
       "      <th>0</th>\n",
       "      <td>1</td>\n",
       "      <td>0</td>\n",
       "      <td>3</td>\n",
       "      <td>Braund, Mr. Owen Harris</td>\n",
       "      <td>male</td>\n",
       "      <td>22.0</td>\n",
       "      <td>1</td>\n",
       "      <td>0</td>\n",
       "      <td>A/5 21171</td>\n",
       "      <td>7.2500</td>\n",
       "      <td>NaN</td>\n",
       "      <td>S</td>\n",
       "    </tr>\n",
       "    <tr>\n",
       "      <th>1</th>\n",
       "      <td>2</td>\n",
       "      <td>1</td>\n",
       "      <td>1</td>\n",
       "      <td>Cumings, Mrs. John Bradley (Florence Briggs Th...</td>\n",
       "      <td>female</td>\n",
       "      <td>38.0</td>\n",
       "      <td>1</td>\n",
       "      <td>0</td>\n",
       "      <td>PC 17599</td>\n",
       "      <td>71.2833</td>\n",
       "      <td>C85</td>\n",
       "      <td>C</td>\n",
       "    </tr>\n",
       "    <tr>\n",
       "      <th>2</th>\n",
       "      <td>3</td>\n",
       "      <td>1</td>\n",
       "      <td>3</td>\n",
       "      <td>Heikkinen, Miss. Laina</td>\n",
       "      <td>female</td>\n",
       "      <td>26.0</td>\n",
       "      <td>0</td>\n",
       "      <td>0</td>\n",
       "      <td>STON/O2. 3101282</td>\n",
       "      <td>7.9250</td>\n",
       "      <td>NaN</td>\n",
       "      <td>S</td>\n",
       "    </tr>\n",
       "    <tr>\n",
       "      <th>3</th>\n",
       "      <td>4</td>\n",
       "      <td>1</td>\n",
       "      <td>1</td>\n",
       "      <td>Futrelle, Mrs. Jacques Heath (Lily May Peel)</td>\n",
       "      <td>female</td>\n",
       "      <td>35.0</td>\n",
       "      <td>1</td>\n",
       "      <td>0</td>\n",
       "      <td>113803</td>\n",
       "      <td>53.1000</td>\n",
       "      <td>C123</td>\n",
       "      <td>S</td>\n",
       "    </tr>\n",
       "    <tr>\n",
       "      <th>4</th>\n",
       "      <td>5</td>\n",
       "      <td>0</td>\n",
       "      <td>3</td>\n",
       "      <td>Allen, Mr. William Henry</td>\n",
       "      <td>male</td>\n",
       "      <td>35.0</td>\n",
       "      <td>0</td>\n",
       "      <td>0</td>\n",
       "      <td>373450</td>\n",
       "      <td>8.0500</td>\n",
       "      <td>NaN</td>\n",
       "      <td>S</td>\n",
       "    </tr>\n",
       "    <tr>\n",
       "      <th>...</th>\n",
       "      <td>...</td>\n",
       "      <td>...</td>\n",
       "      <td>...</td>\n",
       "      <td>...</td>\n",
       "      <td>...</td>\n",
       "      <td>...</td>\n",
       "      <td>...</td>\n",
       "      <td>...</td>\n",
       "      <td>...</td>\n",
       "      <td>...</td>\n",
       "      <td>...</td>\n",
       "      <td>...</td>\n",
       "    </tr>\n",
       "    <tr>\n",
       "      <th>886</th>\n",
       "      <td>887</td>\n",
       "      <td>0</td>\n",
       "      <td>2</td>\n",
       "      <td>Montvila, Rev. Juozas</td>\n",
       "      <td>male</td>\n",
       "      <td>27.0</td>\n",
       "      <td>0</td>\n",
       "      <td>0</td>\n",
       "      <td>211536</td>\n",
       "      <td>13.0000</td>\n",
       "      <td>NaN</td>\n",
       "      <td>S</td>\n",
       "    </tr>\n",
       "    <tr>\n",
       "      <th>887</th>\n",
       "      <td>888</td>\n",
       "      <td>1</td>\n",
       "      <td>1</td>\n",
       "      <td>Graham, Miss. Margaret Edith</td>\n",
       "      <td>female</td>\n",
       "      <td>19.0</td>\n",
       "      <td>0</td>\n",
       "      <td>0</td>\n",
       "      <td>112053</td>\n",
       "      <td>30.0000</td>\n",
       "      <td>B42</td>\n",
       "      <td>S</td>\n",
       "    </tr>\n",
       "    <tr>\n",
       "      <th>888</th>\n",
       "      <td>889</td>\n",
       "      <td>0</td>\n",
       "      <td>3</td>\n",
       "      <td>Johnston, Miss. Catherine Helen \"Carrie\"</td>\n",
       "      <td>female</td>\n",
       "      <td>NaN</td>\n",
       "      <td>1</td>\n",
       "      <td>2</td>\n",
       "      <td>W./C. 6607</td>\n",
       "      <td>23.4500</td>\n",
       "      <td>NaN</td>\n",
       "      <td>S</td>\n",
       "    </tr>\n",
       "    <tr>\n",
       "      <th>889</th>\n",
       "      <td>890</td>\n",
       "      <td>1</td>\n",
       "      <td>1</td>\n",
       "      <td>Behr, Mr. Karl Howell</td>\n",
       "      <td>male</td>\n",
       "      <td>26.0</td>\n",
       "      <td>0</td>\n",
       "      <td>0</td>\n",
       "      <td>111369</td>\n",
       "      <td>30.0000</td>\n",
       "      <td>C148</td>\n",
       "      <td>C</td>\n",
       "    </tr>\n",
       "    <tr>\n",
       "      <th>890</th>\n",
       "      <td>891</td>\n",
       "      <td>0</td>\n",
       "      <td>3</td>\n",
       "      <td>Dooley, Mr. Patrick</td>\n",
       "      <td>male</td>\n",
       "      <td>32.0</td>\n",
       "      <td>0</td>\n",
       "      <td>0</td>\n",
       "      <td>370376</td>\n",
       "      <td>7.7500</td>\n",
       "      <td>NaN</td>\n",
       "      <td>Q</td>\n",
       "    </tr>\n",
       "  </tbody>\n",
       "</table>\n",
       "<p>891 rows × 12 columns</p>\n",
       "</div>"
      ],
      "text/plain": [
       "     PassengerId  Survived  Pclass                                               Name     Sex   Age  SibSp  Parch            Ticket  \\\n",
       "0              1         0       3                            Braund, Mr. Owen Harris    male  22.0      1      0         A/5 21171   \n",
       "1              2         1       1  Cumings, Mrs. John Bradley (Florence Briggs Th...  female  38.0      1      0          PC 17599   \n",
       "2              3         1       3                             Heikkinen, Miss. Laina  female  26.0      0      0  STON/O2. 3101282   \n",
       "3              4         1       1       Futrelle, Mrs. Jacques Heath (Lily May Peel)  female  35.0      1      0            113803   \n",
       "4              5         0       3                           Allen, Mr. William Henry    male  35.0      0      0            373450   \n",
       "..           ...       ...     ...                                                ...     ...   ...    ...    ...               ...   \n",
       "886          887         0       2                              Montvila, Rev. Juozas    male  27.0      0      0            211536   \n",
       "887          888         1       1                       Graham, Miss. Margaret Edith  female  19.0      0      0            112053   \n",
       "888          889         0       3           Johnston, Miss. Catherine Helen \"Carrie\"  female   NaN      1      2        W./C. 6607   \n",
       "889          890         1       1                              Behr, Mr. Karl Howell    male  26.0      0      0            111369   \n",
       "890          891         0       3                                Dooley, Mr. Patrick    male  32.0      0      0            370376   \n",
       "\n",
       "        Fare Cabin Embarked  \n",
       "0     7.2500   NaN        S  \n",
       "1    71.2833   C85        C  \n",
       "2     7.9250   NaN        S  \n",
       "3    53.1000  C123        S  \n",
       "4     8.0500   NaN        S  \n",
       "..       ...   ...      ...  \n",
       "886  13.0000   NaN        S  \n",
       "887  30.0000   B42        S  \n",
       "888  23.4500   NaN        S  \n",
       "889  30.0000  C148        C  \n",
       "890   7.7500   NaN        Q  \n",
       "\n",
       "[891 rows x 12 columns]"
      ]
     },
     "execution_count": 3,
     "metadata": {},
     "output_type": "execute_result"
    }
   ],
   "source": [
    "df = pd.read_csv(path/'train.csv')\n",
    "df"
   ]
  },
  {
   "cell_type": "markdown",
   "id": "9e8d4d78",
   "metadata": {
    "hidden": true,
    "papermill": {
     "duration": 0.155528,
     "end_time": "2023-08-10T20:08:40.597860",
     "exception": false,
     "start_time": "2023-08-10T20:08:40.442332",
     "status": "completed"
    },
    "tags": []
   },
   "source": [
    "As we learned in the *How does a neural net really work* notebook, we going to want to multiply each column by some coefficients. But we can see in the `Cabin` column that there are `NaN` values, which is how Pandas refers to missing values. We can't multiply something by a missing value!\n",
    "\n",
    "Let's check which columns contain `NaN` values. Pandas' `isna()` function returns `True` (which is treated as `1` when used as a number) for `NaN` values, so we can just add them up for each column:"
   ]
  },
  {
   "cell_type": "code",
   "execution_count": 4,
   "id": "a5a9d932",
   "metadata": {
    "execution": {
     "iopub.execute_input": "2023-08-10T20:08:40.913196Z",
     "iopub.status.busy": "2023-08-10T20:08:40.912109Z",
     "iopub.status.idle": "2023-08-10T20:08:40.922100Z",
     "shell.execute_reply": "2023-08-10T20:08:40.921252Z"
    },
    "hidden": true,
    "papermill": {
     "duration": 0.171032,
     "end_time": "2023-08-10T20:08:40.924576",
     "exception": false,
     "start_time": "2023-08-10T20:08:40.753544",
     "status": "completed"
    },
    "tags": []
   },
   "outputs": [
    {
     "data": {
      "text/plain": [
       "PassengerId      0\n",
       "Survived         0\n",
       "Pclass           0\n",
       "Name             0\n",
       "Sex              0\n",
       "Age            177\n",
       "SibSp            0\n",
       "Parch            0\n",
       "Ticket           0\n",
       "Fare             0\n",
       "Cabin          687\n",
       "Embarked         2\n",
       "dtype: int64"
      ]
     },
     "execution_count": 4,
     "metadata": {},
     "output_type": "execute_result"
    }
   ],
   "source": [
    "df.isna().sum()"
   ]
  },
  {
   "cell_type": "markdown",
   "id": "ed54dc67",
   "metadata": {
    "hidden": true,
    "papermill": {
     "duration": 0.164106,
     "end_time": "2023-08-10T20:08:41.248499",
     "exception": false,
     "start_time": "2023-08-10T20:08:41.084393",
     "status": "completed"
    },
    "tags": []
   },
   "source": [
    "Notice that by default Pandas sums over columns.\n",
    "\n",
    "We'll need to replace the missing values with something. It doesn't generally matter too much what we choose. We'll use the most common value (the \"*mode*\"). We can use the `mode` function for that. One wrinkle is that it returns more than one row in the case of ties, so we just grab the first row with `iloc[0]`:"
   ]
  },
  {
   "cell_type": "code",
   "execution_count": 5,
   "id": "54976d13",
   "metadata": {
    "execution": {
     "iopub.execute_input": "2023-08-10T20:08:41.586619Z",
     "iopub.status.busy": "2023-08-10T20:08:41.586263Z",
     "iopub.status.idle": "2023-08-10T20:08:41.609903Z",
     "shell.execute_reply": "2023-08-10T20:08:41.608961Z"
    },
    "hidden": true,
    "papermill": {
     "duration": 0.184538,
     "end_time": "2023-08-10T20:08:41.612221",
     "exception": false,
     "start_time": "2023-08-10T20:08:41.427683",
     "status": "completed"
    },
    "tags": []
   },
   "outputs": [
    {
     "data": {
      "text/plain": [
       "PassengerId                      1\n",
       "Survived                       0.0\n",
       "Pclass                         3.0\n",
       "Name           Abbing, Mr. Anthony\n",
       "Sex                           male\n",
       "Age                           24.0\n",
       "SibSp                          0.0\n",
       "Parch                          0.0\n",
       "Ticket                        1601\n",
       "Fare                          8.05\n",
       "Cabin                      B96 B98\n",
       "Embarked                         S\n",
       "Name: 0, dtype: object"
      ]
     },
     "execution_count": 5,
     "metadata": {},
     "output_type": "execute_result"
    }
   ],
   "source": [
    "modes = df.mode().iloc[0]\n",
    "modes"
   ]
  },
  {
   "cell_type": "markdown",
   "id": "8466090c",
   "metadata": {
    "hidden": true,
    "papermill": {
     "duration": 0.15886,
     "end_time": "2023-08-10T20:08:41.929870",
     "exception": false,
     "start_time": "2023-08-10T20:08:41.771010",
     "status": "completed"
    },
    "tags": []
   },
   "source": [
    "BTW, it's never a good idea to use functions without understanding them. So be sure to google for anything you're not familiar with. E.g if you want to learn about `iloc` (which is a very important function indeed!) then Google will give you a link to a [great tutorial](https://www.shanelynn.ie/pandas-iloc-loc-select-rows-and-columns-dataframe/).\n",
    "\n",
    "Now that we've got the mode of each column, we can use `fillna` to replace the missing values with the mode of each column. We'll do it \"in place\" -- meaning that we'll change the dataframe itself, rather than returning a new one."
   ]
  },
  {
   "cell_type": "code",
   "execution_count": 6,
   "id": "b9f9599f",
   "metadata": {
    "execution": {
     "iopub.execute_input": "2023-08-10T20:08:42.255687Z",
     "iopub.status.busy": "2023-08-10T20:08:42.255333Z",
     "iopub.status.idle": "2023-08-10T20:08:42.268381Z",
     "shell.execute_reply": "2023-08-10T20:08:42.266981Z"
    },
    "hidden": true,
    "papermill": {
     "duration": 0.181808,
     "end_time": "2023-08-10T20:08:42.271131",
     "exception": false,
     "start_time": "2023-08-10T20:08:42.089323",
     "status": "completed"
    },
    "tags": []
   },
   "outputs": [],
   "source": [
    "df.fillna(modes, inplace=True)"
   ]
  },
  {
   "cell_type": "markdown",
   "id": "c5eaa3ac",
   "metadata": {
    "hidden": true,
    "papermill": {
     "duration": 0.158409,
     "end_time": "2023-08-10T20:08:42.587507",
     "exception": false,
     "start_time": "2023-08-10T20:08:42.429098",
     "status": "completed"
    },
    "tags": []
   },
   "source": [
    "We can now check there's no missing values left:"
   ]
  },
  {
   "cell_type": "code",
   "execution_count": 7,
   "id": "16d6b8d3",
   "metadata": {
    "execution": {
     "iopub.execute_input": "2023-08-10T20:08:42.905219Z",
     "iopub.status.busy": "2023-08-10T20:08:42.904095Z",
     "iopub.status.idle": "2023-08-10T20:08:42.914830Z",
     "shell.execute_reply": "2023-08-10T20:08:42.913821Z"
    },
    "hidden": true,
    "papermill": {
     "duration": 0.171979,
     "end_time": "2023-08-10T20:08:42.917116",
     "exception": false,
     "start_time": "2023-08-10T20:08:42.745137",
     "status": "completed"
    },
    "tags": []
   },
   "outputs": [
    {
     "data": {
      "text/plain": [
       "PassengerId    0\n",
       "Survived       0\n",
       "Pclass         0\n",
       "Name           0\n",
       "Sex            0\n",
       "Age            0\n",
       "SibSp          0\n",
       "Parch          0\n",
       "Ticket         0\n",
       "Fare           0\n",
       "Cabin          0\n",
       "Embarked       0\n",
       "dtype: int64"
      ]
     },
     "execution_count": 7,
     "metadata": {},
     "output_type": "execute_result"
    }
   ],
   "source": [
    "df.isna().sum()"
   ]
  },
  {
   "cell_type": "markdown",
   "id": "e45591ea",
   "metadata": {
    "hidden": true,
    "papermill": {
     "duration": 0.162938,
     "end_time": "2023-08-10T20:08:43.243982",
     "exception": false,
     "start_time": "2023-08-10T20:08:43.081044",
     "status": "completed"
    },
    "tags": []
   },
   "source": [
    "Here's how we get a quick summary of all the numeric columns in the dataset:"
   ]
  },
  {
   "cell_type": "code",
   "execution_count": 8,
   "id": "4920af74",
   "metadata": {
    "execution": {
     "iopub.execute_input": "2023-08-10T20:08:43.573592Z",
     "iopub.status.busy": "2023-08-10T20:08:43.573064Z",
     "iopub.status.idle": "2023-08-10T20:08:43.616352Z",
     "shell.execute_reply": "2023-08-10T20:08:43.614855Z"
    },
    "hidden": true,
    "papermill": {
     "duration": 0.21297,
     "end_time": "2023-08-10T20:08:43.619340",
     "exception": false,
     "start_time": "2023-08-10T20:08:43.406370",
     "status": "completed"
    },
    "tags": []
   },
   "outputs": [
    {
     "data": {
      "text/html": [
       "<div>\n",
       "<style scoped>\n",
       "    .dataframe tbody tr th:only-of-type {\n",
       "        vertical-align: middle;\n",
       "    }\n",
       "\n",
       "    .dataframe tbody tr th {\n",
       "        vertical-align: top;\n",
       "    }\n",
       "\n",
       "    .dataframe thead th {\n",
       "        text-align: right;\n",
       "    }\n",
       "</style>\n",
       "<table border=\"1\" class=\"dataframe\">\n",
       "  <thead>\n",
       "    <tr style=\"text-align: right;\">\n",
       "      <th></th>\n",
       "      <th>PassengerId</th>\n",
       "      <th>Survived</th>\n",
       "      <th>Pclass</th>\n",
       "      <th>Age</th>\n",
       "      <th>SibSp</th>\n",
       "      <th>Parch</th>\n",
       "      <th>Fare</th>\n",
       "    </tr>\n",
       "  </thead>\n",
       "  <tbody>\n",
       "    <tr>\n",
       "      <th>count</th>\n",
       "      <td>891.000000</td>\n",
       "      <td>891.000000</td>\n",
       "      <td>891.000000</td>\n",
       "      <td>891.000000</td>\n",
       "      <td>891.000000</td>\n",
       "      <td>891.000000</td>\n",
       "      <td>891.000000</td>\n",
       "    </tr>\n",
       "    <tr>\n",
       "      <th>mean</th>\n",
       "      <td>446.000000</td>\n",
       "      <td>0.383838</td>\n",
       "      <td>2.308642</td>\n",
       "      <td>28.566970</td>\n",
       "      <td>0.523008</td>\n",
       "      <td>0.381594</td>\n",
       "      <td>32.204208</td>\n",
       "    </tr>\n",
       "    <tr>\n",
       "      <th>std</th>\n",
       "      <td>257.353842</td>\n",
       "      <td>0.486592</td>\n",
       "      <td>0.836071</td>\n",
       "      <td>13.199572</td>\n",
       "      <td>1.102743</td>\n",
       "      <td>0.806057</td>\n",
       "      <td>49.693429</td>\n",
       "    </tr>\n",
       "    <tr>\n",
       "      <th>min</th>\n",
       "      <td>1.000000</td>\n",
       "      <td>0.000000</td>\n",
       "      <td>1.000000</td>\n",
       "      <td>0.420000</td>\n",
       "      <td>0.000000</td>\n",
       "      <td>0.000000</td>\n",
       "      <td>0.000000</td>\n",
       "    </tr>\n",
       "    <tr>\n",
       "      <th>25%</th>\n",
       "      <td>223.500000</td>\n",
       "      <td>0.000000</td>\n",
       "      <td>2.000000</td>\n",
       "      <td>22.000000</td>\n",
       "      <td>0.000000</td>\n",
       "      <td>0.000000</td>\n",
       "      <td>7.910400</td>\n",
       "    </tr>\n",
       "    <tr>\n",
       "      <th>50%</th>\n",
       "      <td>446.000000</td>\n",
       "      <td>0.000000</td>\n",
       "      <td>3.000000</td>\n",
       "      <td>24.000000</td>\n",
       "      <td>0.000000</td>\n",
       "      <td>0.000000</td>\n",
       "      <td>14.454200</td>\n",
       "    </tr>\n",
       "    <tr>\n",
       "      <th>75%</th>\n",
       "      <td>668.500000</td>\n",
       "      <td>1.000000</td>\n",
       "      <td>3.000000</td>\n",
       "      <td>35.000000</td>\n",
       "      <td>1.000000</td>\n",
       "      <td>0.000000</td>\n",
       "      <td>31.000000</td>\n",
       "    </tr>\n",
       "    <tr>\n",
       "      <th>max</th>\n",
       "      <td>891.000000</td>\n",
       "      <td>1.000000</td>\n",
       "      <td>3.000000</td>\n",
       "      <td>80.000000</td>\n",
       "      <td>8.000000</td>\n",
       "      <td>6.000000</td>\n",
       "      <td>512.329200</td>\n",
       "    </tr>\n",
       "  </tbody>\n",
       "</table>\n",
       "</div>"
      ],
      "text/plain": [
       "       PassengerId    Survived      Pclass         Age       SibSp       Parch        Fare\n",
       "count   891.000000  891.000000  891.000000  891.000000  891.000000  891.000000  891.000000\n",
       "mean    446.000000    0.383838    2.308642   28.566970    0.523008    0.381594   32.204208\n",
       "std     257.353842    0.486592    0.836071   13.199572    1.102743    0.806057   49.693429\n",
       "min       1.000000    0.000000    1.000000    0.420000    0.000000    0.000000    0.000000\n",
       "25%     223.500000    0.000000    2.000000   22.000000    0.000000    0.000000    7.910400\n",
       "50%     446.000000    0.000000    3.000000   24.000000    0.000000    0.000000   14.454200\n",
       "75%     668.500000    1.000000    3.000000   35.000000    1.000000    0.000000   31.000000\n",
       "max     891.000000    1.000000    3.000000   80.000000    8.000000    6.000000  512.329200"
      ]
     },
     "execution_count": 8,
     "metadata": {},
     "output_type": "execute_result"
    }
   ],
   "source": [
    "import numpy as np\n",
    "\n",
    "df.describe(include=(np.number))"
   ]
  },
  {
   "cell_type": "markdown",
   "id": "a783696e",
   "metadata": {
    "execution": {
     "iopub.execute_input": "2022-05-13T11:02:34.328433Z",
     "iopub.status.busy": "2022-05-13T11:02:34.327999Z",
     "iopub.status.idle": "2022-05-13T11:02:34.336993Z",
     "shell.execute_reply": "2022-05-13T11:02:34.335466Z",
     "shell.execute_reply.started": "2022-05-13T11:02:34.32838Z"
    },
    "hidden": true,
    "papermill": {
     "duration": 0.159265,
     "end_time": "2023-08-10T20:08:43.942554",
     "exception": false,
     "start_time": "2023-08-10T20:08:43.783289",
     "status": "completed"
    },
    "tags": []
   },
   "source": [
    "We can see that `Fare` contains mainly values of around `0` to `30`, but there's a few really big ones. This is very common with fields contain monetary values, and it can cause problems for our model, because once that column is multiplied by a coefficient later, the few rows with really big values will dominate the result.\n",
    "\n",
    "You can see the issue most clearly visually by looking at a histogram, which shows a long tail to the right (and don't forget: if you're not entirely sure what a histogram is, Google \"[histogram tutorial](https://www.google.com/search?q=histogram+tutorial&oq=histogram+tutorial)\" and do a bit of reading before continuing on):"
   ]
  },
  {
   "cell_type": "code",
   "execution_count": 9,
   "id": "7f5e2cb1",
   "metadata": {
    "execution": {
     "iopub.execute_input": "2023-08-10T20:08:44.270204Z",
     "iopub.status.busy": "2023-08-10T20:08:44.269558Z",
     "iopub.status.idle": "2023-08-10T20:08:44.572406Z",
     "shell.execute_reply": "2023-08-10T20:08:44.571656Z"
    },
    "hidden": true,
    "papermill": {
     "duration": 0.472421,
     "end_time": "2023-08-10T20:08:44.574636",
     "exception": false,
     "start_time": "2023-08-10T20:08:44.102215",
     "status": "completed"
    },
    "tags": []
   },
   "outputs": [
    {
     "data": {
      "image/png": "[encoded data removed]",
      "text/plain": [
       "<Figure size 432x288 with 1 Axes>"
      ]
     },
     "metadata": {
      "needs_background": "light"
     },
     "output_type": "display_data"
    }
   ],
   "source": [
    "df['Fare'].hist();"
   ]
  },
  {
   "cell_type": "markdown",
   "id": "1dd97d1a",
   "metadata": {
    "execution": {
     "iopub.execute_input": "2022-05-13T11:02:34.328433Z",
     "iopub.status.busy": "2022-05-13T11:02:34.327999Z",
     "iopub.status.idle": "2022-05-13T11:02:34.336993Z",
     "shell.execute_reply": "2022-05-13T11:02:34.335466Z",
     "shell.execute_reply.started": "2022-05-13T11:02:34.32838Z"
    },
    "hidden": true,
    "papermill": {
     "duration": 0.159944,
     "end_time": "2023-08-10T20:08:44.894436",
     "exception": false,
     "start_time": "2023-08-10T20:08:44.734492",
     "status": "completed"
    },
    "tags": []
   },
   "source": [
    "To fix this, the most common approach is to take the logarithm, which squishes the big numbers and makes the distribution more reasonable. Note, however, that there are zeros in the `Fare` column, and `log(0)` is infinite -- to fix this, we'll simply add `1` to all values first:"
   ]
  },
  {
   "cell_type": "code",
   "execution_count": 10,
   "id": "77082d13",
   "metadata": {
    "execution": {
     "iopub.execute_input": "2023-08-10T20:08:45.231940Z",
     "iopub.status.busy": "2023-08-10T20:08:45.231254Z",
     "iopub.status.idle": "2023-08-10T20:08:45.237317Z",
     "shell.execute_reply": "2023-08-10T20:08:45.236529Z"
    },
    "hidden": true,
    "papermill": {
     "duration": 0.174166,
     "end_time": "2023-08-10T20:08:45.239596",
     "exception": false,
     "start_time": "2023-08-10T20:08:45.065430",
     "status": "completed"
    },
    "tags": []
   },
   "outputs": [],
   "source": [
    "df['LogFare'] = np.log(df['Fare']+1)"
   ]
  },
  {
   "cell_type": "markdown",
   "id": "b201f36a",
   "metadata": {
    "hidden": true,
    "papermill": {
     "duration": 0.159321,
     "end_time": "2023-08-10T20:08:45.561287",
     "exception": false,
     "start_time": "2023-08-10T20:08:45.401966",
     "status": "completed"
    },
    "tags": []
   },
   "source": [
    "The histogram now shows a more even distribution of values without the long tail:"
   ]
  },
  {
   "cell_type": "code",
   "execution_count": 11,
   "id": "47b2f650",
   "metadata": {
    "execution": {
     "iopub.execute_input": "2023-08-10T20:08:45.882517Z",
     "iopub.status.busy": "2023-08-10T20:08:45.882143Z",
     "iopub.status.idle": "2023-08-10T20:08:46.154202Z",
     "shell.execute_reply": "2023-08-10T20:08:46.152997Z"
    },
    "hidden": true,
    "papermill": {
     "duration": 0.435795,
     "end_time": "2023-08-10T20:08:46.157236",
     "exception": false,
     "start_time": "2023-08-10T20:08:45.721441",
     "status": "completed"
    },
    "tags": []
   },
   "outputs": [
    {
     "data": {
      "image/png": "[encoded data removed]",
      "text/plain": [
       "<Figure size 432x288 with 1 Axes>"
      ]
     },
     "metadata": {
      "needs_background": "light"
     },
     "output_type": "display_data"
    }
   ],
   "source": [
    "df['LogFare'].hist();"
   ]
  },
  {
   "cell_type": "markdown",
   "id": "76d3613a",
   "metadata": {
    "hidden": true,
    "papermill": {
     "duration": 0.160305,
     "end_time": "2023-08-10T20:08:46.482437",
     "exception": false,
     "start_time": "2023-08-10T20:08:46.322132",
     "status": "completed"
    },
    "tags": []
   },
   "source": [
    "It looks from the `describe()` output like `Pclass` contains just 3 values, which we can confirm by looking at the [Data Dictionary](https://www.kaggle.com/competitions/titanic/data) (which you should always study carefully for any project!) -- "
   ]
  },
  {
   "cell_type": "code",
   "execution_count": 12,
   "id": "001c32bd",
   "metadata": {
    "execution": {
     "iopub.execute_input": "2023-08-10T20:08:46.808594Z",
     "iopub.status.busy": "2023-08-10T20:08:46.808149Z",
     "iopub.status.idle": "2023-08-10T20:08:46.815677Z",
     "shell.execute_reply": "2023-08-10T20:08:46.814751Z"
    },
    "hidden": true,
    "papermill": {
     "duration": 0.173333,
     "end_time": "2023-08-10T20:08:46.818015",
     "exception": false,
     "start_time": "2023-08-10T20:08:46.644682",
     "status": "completed"
    },
    "tags": []
   },
   "outputs": [
    {
     "data": {
      "text/plain": [
       "[1, 2, 3]"
      ]
     },
     "execution_count": 12,
     "metadata": {},
     "output_type": "execute_result"
    }
   ],
   "source": [
    "pclasses = sorted(df.Pclass.unique())\n",
    "pclasses"
   ]
  },
  {
   "cell_type": "markdown",
   "id": "6c174537",
   "metadata": {
    "hidden": true,
    "papermill": {
     "duration": 0.169014,
     "end_time": "2023-08-10T20:08:47.150644",
     "exception": false,
     "start_time": "2023-08-10T20:08:46.981630",
     "status": "completed"
    },
    "tags": []
   },
   "source": [
    "Here's how we get a quick summary of all the non-numeric columns in the dataset:"
   ]
  },
  {
   "cell_type": "code",
   "execution_count": 13,
   "id": "30f86bc2",
   "metadata": {
    "execution": {
     "iopub.execute_input": "2023-08-10T20:08:47.485134Z",
     "iopub.status.busy": "2023-08-10T20:08:47.484752Z",
     "iopub.status.idle": "2023-08-10T20:08:47.511833Z",
     "shell.execute_reply": "2023-08-10T20:08:47.511127Z"
    },
    "hidden": true,
    "papermill": {
     "duration": 0.191638,
     "end_time": "2023-08-10T20:08:47.514120",
     "exception": false,
     "start_time": "2023-08-10T20:08:47.322482",
     "status": "completed"
    },
    "tags": []
   },
   "outputs": [
    {
     "data": {
      "text/html": [
       "<div>\n",
       "<style scoped>\n",
       "    .dataframe tbody tr th:only-of-type {\n",
       "        vertical-align: middle;\n",
       "    }\n",
       "\n",
       "    .dataframe tbody tr th {\n",
       "        vertical-align: top;\n",
       "    }\n",
       "\n",
       "    .dataframe thead th {\n",
       "        text-align: right;\n",
       "    }\n",
       "</style>\n",
       "<table border=\"1\" class=\"dataframe\">\n",
       "  <thead>\n",
       "    <tr style=\"text-align: right;\">\n",
       "      <th></th>\n",
       "      <th>Name</th>\n",
       "      <th>Sex</th>\n",
       "      <th>Ticket</th>\n",
       "      <th>Cabin</th>\n",
       "      <th>Embarked</th>\n",
       "    </tr>\n",
       "  </thead>\n",
       "  <tbody>\n",
       "    <tr>\n",
       "      <th>count</th>\n",
       "      <td>891</td>\n",
       "      <td>891</td>\n",
       "      <td>891</td>\n",
       "      <td>891</td>\n",
       "      <td>891</td>\n",
       "    </tr>\n",
       "    <tr>\n",
       "      <th>unique</th>\n",
       "      <td>891</td>\n",
       "      <td>2</td>\n",
       "      <td>681</td>\n",
       "      <td>147</td>\n",
       "      <td>3</td>\n",
       "    </tr>\n",
       "    <tr>\n",
       "      <th>top</th>\n",
       "      <td>Braund, Mr. Owen Harris</td>\n",
       "      <td>male</td>\n",
       "      <td>347082</td>\n",
       "      <td>B96 B98</td>\n",
       "      <td>S</td>\n",
       "    </tr>\n",
       "    <tr>\n",
       "      <th>freq</th>\n",
       "      <td>1</td>\n",
       "      <td>577</td>\n",
       "      <td>7</td>\n",
       "      <td>691</td>\n",
       "      <td>646</td>\n",
       "    </tr>\n",
       "  </tbody>\n",
       "</table>\n",
       "</div>"
      ],
      "text/plain": [
       "                           Name   Sex  Ticket    Cabin Embarked\n",
       "count                       891   891     891      891      891\n",
       "unique                      891     2     681      147        3\n",
       "top     Braund, Mr. Owen Harris  male  347082  B96 B98        S\n",
       "freq                          1   577       7      691      646"
      ]
     },
     "execution_count": 13,
     "metadata": {},
     "output_type": "execute_result"
    }
   ],
   "source": [
    "df.describe(include=[object])"
   ]
  },
  {
   "cell_type": "markdown",
   "id": "07c745c1",
   "metadata": {
    "hidden": true,
    "papermill": {
     "duration": 0.162711,
     "end_time": "2023-08-10T20:08:47.839394",
     "exception": false,
     "start_time": "2023-08-10T20:08:47.676683",
     "status": "completed"
    },
    "tags": []
   },
   "source": [
    "Clearly we can't multiply strings like `male` or `S` by coefficients, so we need to replace those with numbers.\n",
    "\n",
    "We do that by creating new columns containing *dummy variables*. A dummy variable is a column that contains a `1` where a particular column contains a particular value, or a `0` otherwise. For instance, we could create a dummy variable for `Sex='male'`, which would be a new column containing `1` for rows where `Sex` is `'male'`, and 0 for rows where it isn't.\n",
    "\n",
    "Pandas can create these automatically using `get_dummies`, which also remove the original columns. We'll create dummy variables for `Pclass`, even although it's numeric, since the numbers `1`, `2`, and `3` correspond to first, second, and third class cabins - not to counts or measures that make sense to multiply by. We'll also create dummies for `Sex` and `Embarked` since we'll want to use those as predictors in our model. On the other hand, `Cabin`, `Name`, and `Ticket` have too many unique values for it to make sense creating dummy variables for them."
   ]
  },
  {
   "cell_type": "code",
   "execution_count": 14,
   "id": "80e5f4a3",
   "metadata": {
    "execution": {
     "iopub.execute_input": "2023-08-10T20:08:48.169218Z",
     "iopub.status.busy": "2023-08-10T20:08:48.168381Z",
     "iopub.status.idle": "2023-08-10T20:08:48.182738Z",
     "shell.execute_reply": "2023-08-10T20:08:48.181741Z"
    },
    "hidden": true,
    "papermill": {
     "duration": 0.181594,
     "end_time": "2023-08-10T20:08:48.185493",
     "exception": false,
     "start_time": "2023-08-10T20:08:48.003899",
     "status": "completed"
    },
    "tags": []
   },
   "outputs": [
    {
     "data": {
      "text/plain": [
       "Index(['PassengerId', 'Survived', 'Name', 'Age', 'SibSp', 'Parch', 'Ticket', 'Fare', 'Cabin', 'LogFare', 'Sex_female', 'Sex_male',\n",
       "       'Pclass_1', 'Pclass_2', 'Pclass_3', 'Embarked_C', 'Embarked_Q', 'Embarked_S'],\n",
       "      dtype='object')"
      ]
     },
     "execution_count": 14,
     "metadata": {},
     "output_type": "execute_result"
    }
   ],
   "source": [
    "df = pd.get_dummies(df, columns=[\"Sex\",\"Pclass\",\"Embarked\"])\n",
    "df.columns"
   ]
  },
  {
   "cell_type": "markdown",
   "id": "19fd2a35",
   "metadata": {
    "hidden": true,
    "papermill": {
     "duration": 0.161171,
     "end_time": "2023-08-10T20:08:48.512453",
     "exception": false,
     "start_time": "2023-08-10T20:08:48.351282",
     "status": "completed"
    },
    "tags": []
   },
   "source": [
    "We can see that 5 columns have been added to the end -- one for each of the possible values of each of the three columns we requested, and that those three requested columns have been removed.\n",
    "\n",
    "Here's what the first few rows of those newly added columns look like:"
   ]
  },
  {
   "cell_type": "code",
   "execution_count": 15,
   "id": "4a0030fd",
   "metadata": {
    "execution": {
     "iopub.execute_input": "2023-08-10T20:08:48.836737Z",
     "iopub.status.busy": "2023-08-10T20:08:48.836391Z",
     "iopub.status.idle": "2023-08-10T20:08:48.853027Z",
     "shell.execute_reply": "2023-08-10T20:08:48.852084Z"
    },
    "hidden": true,
    "papermill": {
     "duration": 0.182541,
     "end_time": "2023-08-10T20:08:48.855602",
     "exception": false,
     "start_time": "2023-08-10T20:08:48.673061",
     "status": "completed"
    },
    "tags": []
   },
   "outputs": [
    {
     "data": {
      "text/html": [
       "<div>\n",
       "<style scoped>\n",
       "    .dataframe tbody tr th:only-of-type {\n",
       "        vertical-align: middle;\n",
       "    }\n",
       "\n",
       "    .dataframe tbody tr th {\n",
       "        vertical-align: top;\n",
       "    }\n",
       "\n",
       "    .dataframe thead th {\n",
       "        text-align: right;\n",
       "    }\n",
       "</style>\n",
       "<table border=\"1\" class=\"dataframe\">\n",
       "  <thead>\n",
       "    <tr style=\"text-align: right;\">\n",
       "      <th></th>\n",
       "      <th>Sex_male</th>\n",
       "      <th>Sex_female</th>\n",
       "      <th>Pclass_1</th>\n",
       "      <th>Pclass_2</th>\n",
       "      <th>Pclass_3</th>\n",
       "      <th>Embarked_C</th>\n",
       "      <th>Embarked_Q</th>\n",
       "      <th>Embarked_S</th>\n",
       "    </tr>\n",
       "  </thead>\n",
       "  <tbody>\n",
       "    <tr>\n",
       "      <th>0</th>\n",
       "      <td>1</td>\n",
       "      <td>0</td>\n",
       "      <td>0</td>\n",
       "      <td>0</td>\n",
       "      <td>1</td>\n",
       "      <td>0</td>\n",
       "      <td>0</td>\n",
       "      <td>1</td>\n",
       "    </tr>\n",
       "    <tr>\n",
       "      <th>1</th>\n",
       "      <td>0</td>\n",
       "      <td>1</td>\n",
       "      <td>1</td>\n",
       "      <td>0</td>\n",
       "      <td>0</td>\n",
       "      <td>1</td>\n",
       "      <td>0</td>\n",
       "      <td>0</td>\n",
       "    </tr>\n",
       "    <tr>\n",
       "      <th>2</th>\n",
       "      <td>0</td>\n",
       "      <td>1</td>\n",
       "      <td>0</td>\n",
       "      <td>0</td>\n",
       "      <td>1</td>\n",
       "      <td>0</td>\n",
       "      <td>0</td>\n",
       "      <td>1</td>\n",
       "    </tr>\n",
       "    <tr>\n",
       "      <th>3</th>\n",
       "      <td>0</td>\n",
       "      <td>1</td>\n",
       "      <td>1</td>\n",
       "      <td>0</td>\n",
       "      <td>0</td>\n",
       "      <td>0</td>\n",
       "      <td>0</td>\n",
       "      <td>1</td>\n",
       "    </tr>\n",
       "    <tr>\n",
       "      <th>4</th>\n",
       "      <td>1</td>\n",
       "      <td>0</td>\n",
       "      <td>0</td>\n",
       "      <td>0</td>\n",
       "      <td>1</td>\n",
       "      <td>0</td>\n",
       "      <td>0</td>\n",
       "      <td>1</td>\n",
       "    </tr>\n",
       "  </tbody>\n",
       "</table>\n",
       "</div>"
      ],
      "text/plain": [
       "   Sex_male  Sex_female  Pclass_1  Pclass_2  Pclass_3  Embarked_C  Embarked_Q  Embarked_S\n",
       "0         1           0         0         0         1           0           0           1\n",
       "1         0           1         1         0         0           1           0           0\n",
       "2         0           1         0         0         1           0           0           1\n",
       "3         0           1         1         0         0           0           0           1\n",
       "4         1           0         0         0         1           0           0           1"
      ]
     },
     "execution_count": 15,
     "metadata": {},
     "output_type": "execute_result"
    }
   ],
   "source": [
    "added_cols = ['Sex_male', 'Sex_female', 'Pclass_1', 'Pclass_2', 'Pclass_3', 'Embarked_C', 'Embarked_Q', 'Embarked_S']\n",
    "df[added_cols].head()"
   ]
  },
  {
   "cell_type": "markdown",
   "id": "13a201ee",
   "metadata": {
    "hidden": true,
    "papermill": {
     "duration": 0.164314,
     "end_time": "2023-08-10T20:08:49.184692",
     "exception": false,
     "start_time": "2023-08-10T20:08:49.020378",
     "status": "completed"
    },
    "tags": []
   },
   "source": [
    "Now we can create our independent (predictors) and dependent (target) variables. They both need to be PyTorch tensors. Our dependent variable is `Survived`:"
   ]
  },
  {
   "cell_type": "code",
   "execution_count": 16,
   "id": "cd273bc6",
   "metadata": {
    "execution": {
     "iopub.execute_input": "2023-08-10T20:08:49.513348Z",
     "iopub.status.busy": "2023-08-10T20:08:49.512635Z",
     "iopub.status.idle": "2023-08-10T20:08:49.530054Z",
     "shell.execute_reply": "2023-08-10T20:08:49.529198Z"
    },
    "hidden": true,
    "papermill": {
     "duration": 0.184115,
     "end_time": "2023-08-10T20:08:49.532374",
     "exception": false,
     "start_time": "2023-08-10T20:08:49.348259",
     "status": "completed"
    },
    "tags": []
   },
   "outputs": [],
   "source": [
    "from torch import tensor\n",
    "\n",
    "t_dep = tensor(df.Survived)"
   ]
  },
  {
   "cell_type": "markdown",
   "id": "e271111b",
   "metadata": {
    "hidden": true,
    "papermill": {
     "duration": 0.162878,
     "end_time": "2023-08-10T20:08:49.861131",
     "exception": false,
     "start_time": "2023-08-10T20:08:49.698253",
     "status": "completed"
    },
    "tags": []
   },
   "source": [
    "Our independent variables are all the continuous variables of interest plus all the dummy variables we just created:"
   ]
  },
  {
   "cell_type": "code",
   "execution_count": 17,
   "id": "7d79b9a5",
   "metadata": {
    "execution": {
     "iopub.execute_input": "2023-08-10T20:08:50.191043Z",
     "iopub.status.busy": "2023-08-10T20:08:50.190502Z",
     "iopub.status.idle": "2023-08-10T20:08:50.290824Z",
     "shell.execute_reply": "2023-08-10T20:08:50.289797Z"
    },
    "hidden": true,
    "papermill": {
     "duration": 0.26637,
     "end_time": "2023-08-10T20:08:50.293214",
     "exception": false,
     "start_time": "2023-08-10T20:08:50.026844",
     "status": "completed"
    },
    "tags": []
   },
   "outputs": [
    {
     "data": {
      "text/plain": [
       "tensor([[22.0000,  1.0000,  0.0000,  2.1102,  1.0000,  0.0000,  0.0000,  0.0000,  1.0000,  0.0000,  0.0000,  1.0000],\n",
       "        [38.0000,  1.0000,  0.0000,  4.2806,  0.0000,  1.0000,  1.0000,  0.0000,  0.0000,  1.0000,  0.0000,  0.0000],\n",
       "        [26.0000,  0.0000,  0.0000,  2.1889,  0.0000,  1.0000,  0.0000,  0.0000,  1.0000,  0.0000,  0.0000,  1.0000],\n",
       "        [35.0000,  1.0000,  0.0000,  3.9908,  0.0000,  1.0000,  1.0000,  0.0000,  0.0000,  0.0000,  0.0000,  1.0000],\n",
       "        [35.0000,  0.0000,  0.0000,  2.2028,  1.0000,  0.0000,  0.0000,  0.0000,  1.0000,  0.0000,  0.0000,  1.0000],\n",
       "        [24.0000,  0.0000,  0.0000,  2.2469,  1.0000,  0.0000,  0.0000,  0.0000,  1.0000,  0.0000,  1.0000,  0.0000],\n",
       "        [54.0000,  0.0000,  0.0000,  3.9677,  1.0000,  0.0000,  1.0000,  0.0000,  0.0000,  0.0000,  0.0000,  1.0000],\n",
       "        ...,\n",
       "        [25.0000,  0.0000,  0.0000,  2.0857,  1.0000,  0.0000,  0.0000,  0.0000,  1.0000,  0.0000,  0.0000,  1.0000],\n",
       "        [39.0000,  0.0000,  5.0000,  3.4054,  0.0000,  1.0000,  0.0000,  0.0000,  1.0000,  0.0000,  1.0000,  0.0000],\n",
       "        [27.0000,  0.0000,  0.0000,  2.6391,  1.0000,  0.0000,  0.0000,  1.0000,  0.0000,  0.0000,  0.0000,  1.0000],\n",
       "        [19.0000,  0.0000,  0.0000,  3.4340,  0.0000,  1.0000,  1.0000,  0.0000,  0.0000,  0.0000,  0.0000,  1.0000],\n",
       "        [24.0000,  1.0000,  2.0000,  3.1966,  0.0000,  1.0000,  0.0000,  0.0000,  1.0000,  0.0000,  0.0000,  1.0000],\n",
       "        [26.0000,  0.0000,  0.0000,  3.4340,  1.0000,  0.0000,  1.0000,  0.0000,  0.0000,  1.0000,  0.0000,  0.0000],\n",
       "        [32.0000,  0.0000,  0.0000,  2.1691,  1.0000,  0.0000,  0.0000,  0.0000,  1.0000,  0.0000,  1.0000,  0.0000]])"
      ]
     },
     "execution_count": 17,
     "metadata": {},
     "output_type": "execute_result"
    }
   ],
   "source": [
    "indep_cols = ['Age', 'SibSp', 'Parch', 'LogFare'] + added_cols\n",
    "\n",
    "t_indep = tensor(df[indep_cols].values, dtype=torch.float)\n",
    "t_indep"
   ]
  },
  {
   "cell_type": "markdown",
   "id": "340eb0ce",
   "metadata": {
    "hidden": true,
    "papermill": {
     "duration": 0.164926,
     "end_time": "2023-08-10T20:08:50.621081",
     "exception": false,
     "start_time": "2023-08-10T20:08:50.456155",
     "status": "completed"
    },
    "tags": []
   },
   "source": [
    "Here's the number of rows and columns we have for our independent variables:"
   ]
  },
  {
   "cell_type": "code",
   "execution_count": 18,
   "id": "8a718515",
   "metadata": {
    "execution": {
     "iopub.execute_input": "2023-08-10T20:08:50.952241Z",
     "iopub.status.busy": "2023-08-10T20:08:50.951262Z",
     "iopub.status.idle": "2023-08-10T20:08:50.957138Z",
     "shell.execute_reply": "2023-08-10T20:08:50.956482Z"
    },
    "hidden": true,
    "papermill": {
     "duration": 0.175254,
     "end_time": "2023-08-10T20:08:50.959171",
     "exception": false,
     "start_time": "2023-08-10T20:08:50.783917",
     "status": "completed"
    },
    "tags": []
   },
   "outputs": [
    {
     "data": {
      "text/plain": [
       "torch.Size([891, 12])"
      ]
     },
     "execution_count": 18,
     "metadata": {},
     "output_type": "execute_result"
    }
   ],
   "source": [
    "t_indep.shape"
   ]
  },
  {
   "cell_type": "markdown",
   "id": "b215162a",
   "metadata": {
    "papermill": {
     "duration": 0.176098,
     "end_time": "2023-08-10T20:08:51.300303",
     "exception": false,
     "start_time": "2023-08-10T20:08:51.124205",
     "status": "completed"
    },
    "tags": []
   },
   "source": [
    "## Setting up a linear model"
   ]
  },
  {
   "cell_type": "markdown",
   "id": "4449d013",
   "metadata": {
    "papermill": {
     "duration": 0.163813,
     "end_time": "2023-08-10T20:08:51.647287",
     "exception": false,
     "start_time": "2023-08-10T20:08:51.483474",
     "status": "completed"
    },
    "tags": []
   },
   "source": [
    "Now that we've got a matrix of independent variables and a dependent variable vector, we can work on calculating our predictions and our loss. In this section, we're going to manually do a single step of calculating predictions and loss for every row of our data.\n",
    "\n",
    "Our first model will be a simple linear model. We'll need a coefficient for each column in `t_indep`. We'll pick random numbers in the range `(-0.5,0.5)`, and set our manual seed so that my explanations in the prose in this notebook will be consistent with what you see when you run it."
   ]
  },
  {
   "cell_type": "code",
   "execution_count": 19,
   "id": "ec191163",
   "metadata": {
    "execution": {
     "iopub.execute_input": "2023-08-10T20:08:51.976869Z",
     "iopub.status.busy": "2023-08-10T20:08:51.976261Z",
     "iopub.status.idle": "2023-08-10T20:08:51.994545Z",
     "shell.execute_reply": "2023-08-10T20:08:51.993444Z"
    },
    "papermill": {
     "duration": 0.186482,
     "end_time": "2023-08-10T20:08:51.996960",
     "exception": false,
     "start_time": "2023-08-10T20:08:51.810478",
     "status": "completed"
    },
    "tags": []
   },
   "outputs": [
    {
     "data": {
      "text/plain": [
       "tensor([-0.4629,  0.1386,  0.2409, -0.2262, -0.2632, -0.3147,  0.4876,  0.3136,  0.2799, -0.4392,  0.2103,  0.3625])"
      ]
     },
     "execution_count": 19,
     "metadata": {},
     "output_type": "execute_result"
    }
   ],
   "source": [
    "torch.manual_seed(442)\n",
    "\n",
    "n_coeff = t_indep.shape[1]\n",
    "coeffs = torch.rand(n_coeff)-0.5\n",
    "coeffs"
   ]
  },
  {
   "cell_type": "markdown",
   "id": "f0ceb4c6",
   "metadata": {
    "papermill": {
     "duration": 0.164814,
     "end_time": "2023-08-10T20:08:52.329061",
     "exception": false,
     "start_time": "2023-08-10T20:08:52.164247",
     "status": "completed"
    },
    "tags": []
   },
   "source": [
    "Our predictions will be calculated by multiplying each row by the coefficients, and adding them up. One interesting point here is that we don't need a separate constant term (also known as a \"bias\" or \"intercept\" term), or a column of all `1`s to give the same effect has having a constant term. That's because our dummy variables already cover the entire dataset -- e.g. there's a column for \"male\" and a column for \"female\", and everyone in the dataset is in exactly one of these; therefore, we don't need a separate intercept term to cover rows that aren't otherwise part of a column.\n",
    "\n",
    "Here's what the multiplication looks like:"
   ]
  },
  {
   "cell_type": "code",
   "execution_count": 20,
   "id": "f6afe15c",
   "metadata": {
    "execution": {
     "iopub.execute_input": "2023-08-10T20:08:52.660748Z",
     "iopub.status.busy": "2023-08-10T20:08:52.660006Z",
     "iopub.status.idle": "2023-08-10T20:08:52.669678Z",
     "shell.execute_reply": "2023-08-10T20:08:52.668616Z"
    },
    "papermill": {
     "duration": 0.178285,
     "end_time": "2023-08-10T20:08:52.672520",
     "exception": false,
     "start_time": "2023-08-10T20:08:52.494235",
     "status": "completed"
    },
    "tags": []
   },
   "outputs": [
    {
     "data": {
      "text/plain": [
       "tensor([[-10.1838,   0.1386,   0.0000,  -0.4772,  -0.2632,  -0.0000,   0.0000,   0.0000,   0.2799,  -0.0000,   0.0000,   0.3625],\n",
       "        [-17.5902,   0.1386,   0.0000,  -0.9681,  -0.0000,  -0.3147,   0.4876,   0.0000,   0.0000,  -0.4392,   0.0000,   0.0000],\n",
       "        [-12.0354,   0.0000,   0.0000,  -0.4950,  -0.0000,  -0.3147,   0.0000,   0.0000,   0.2799,  -0.0000,   0.0000,   0.3625],\n",
       "        [-16.2015,   0.1386,   0.0000,  -0.9025,  -0.0000,  -0.3147,   0.4876,   0.0000,   0.0000,  -0.0000,   0.0000,   0.3625],\n",
       "        [-16.2015,   0.0000,   0.0000,  -0.4982,  -0.2632,  -0.0000,   0.0000,   0.0000,   0.2799,  -0.0000,   0.0000,   0.3625],\n",
       "        [-11.1096,   0.0000,   0.0000,  -0.5081,  -0.2632,  -0.0000,   0.0000,   0.0000,   0.2799,  -0.0000,   0.2103,   0.0000],\n",
       "        [-24.9966,   0.0000,   0.0000,  -0.8973,  -0.2632,  -0.0000,   0.4876,   0.0000,   0.0000,  -0.0000,   0.0000,   0.3625],\n",
       "        ...,\n",
       "        [-11.5725,   0.0000,   0.0000,  -0.4717,  -0.2632,  -0.0000,   0.0000,   0.0000,   0.2799,  -0.0000,   0.0000,   0.3625],\n",
       "        [-18.0531,   0.0000,   1.2045,  -0.7701,  -0.0000,  -0.3147,   0.0000,   0.0000,   0.2799,  -0.0000,   0.2103,   0.0000],\n",
       "        [-12.4983,   0.0000,   0.0000,  -0.5968,  -0.2632,  -0.0000,   0.0000,   0.3136,   0.0000,  -0.0000,   0.0000,   0.3625],\n",
       "        [ -8.7951,   0.0000,   0.0000,  -0.7766,  -0.0000,  -0.3147,   0.4876,   0.0000,   0.0000,  -0.0000,   0.0000,   0.3625],\n",
       "        [-11.1096,   0.1386,   0.4818,  -0.7229,  -0.0000,  -0.3147,   0.0000,   0.0000,   0.2799,  -0.0000,   0.0000,   0.3625],\n",
       "        [-12.0354,   0.0000,   0.0000,  -0.7766,  -0.2632,  -0.0000,   0.4876,   0.0000,   0.0000,  -0.4392,   0.0000,   0.0000],\n",
       "        [-14.8128,   0.0000,   0.0000,  -0.4905,  -0.2632,  -0.0000,   0.0000,   0.0000,   0.2799,  -0.0000,   0.2103,   0.0000]])"
      ]
     },
     "execution_count": 20,
     "metadata": {},
     "output_type": "execute_result"
    }
   ],
   "source": [
    "t_indep*coeffs"
   ]
  },
  {
   "cell_type": "markdown",
   "id": "18a23c08",
   "metadata": {
    "papermill": {
     "duration": 0.166133,
     "end_time": "2023-08-10T20:08:53.004532",
     "exception": false,
     "start_time": "2023-08-10T20:08:52.838399",
     "status": "completed"
    },
    "tags": []
   },
   "source": [
    "We can see we've got a problem here. The sums of each row will be dominated by the first column, which is `Age`, since that's bigger on average than all the others.\n",
    "\n",
    "Let's make all the columns contain numbers from `0` to `1`, by dividing each column by its `max()`:"
   ]
  },
  {
   "cell_type": "code",
   "execution_count": 21,
   "id": "29cc21f9",
   "metadata": {
    "execution": {
     "iopub.execute_input": "2023-08-10T20:08:53.348834Z",
     "iopub.status.busy": "2023-08-10T20:08:53.348474Z",
     "iopub.status.idle": "2023-08-10T20:08:53.358288Z",
     "shell.execute_reply": "2023-08-10T20:08:53.357375Z"
    },
    "papermill": {
     "duration": 0.187951,
     "end_time": "2023-08-10T20:08:53.362873",
     "exception": false,
     "start_time": "2023-08-10T20:08:53.174922",
     "status": "completed"
    },
    "tags": []
   },
   "outputs": [],
   "source": [
    "vals,indices = t_indep.max(dim=0)\n",
    "t_indep = t_indep / vals"
   ]
  },
  {
   "cell_type": "markdown",
   "id": "025f91fb",
   "metadata": {
    "papermill": {
     "duration": 0.163976,
     "end_time": "2023-08-10T20:08:53.695226",
     "exception": false,
     "start_time": "2023-08-10T20:08:53.531250",
     "status": "completed"
    },
    "tags": []
   },
   "source": [
    "As we see, that removes the problem of one column dominating all the others:"
   ]
  },
  {
   "cell_type": "code",
   "execution_count": 22,
   "id": "b0dbe2fc",
   "metadata": {
    "execution": {
     "iopub.execute_input": "2023-08-10T20:08:54.027340Z",
     "iopub.status.busy": "2023-08-10T20:08:54.026400Z",
     "iopub.status.idle": "2023-08-10T20:08:54.035284Z",
     "shell.execute_reply": "2023-08-10T20:08:54.034082Z"
    },
    "papermill": {
     "duration": 0.178467,
     "end_time": "2023-08-10T20:08:54.037888",
     "exception": false,
     "start_time": "2023-08-10T20:08:53.859421",
     "status": "completed"
    },
    "tags": []
   },
   "outputs": [
    {
     "data": {
      "text/plain": [
       "tensor([[-0.1273,  0.0173,  0.0000, -0.0765, -0.2632, -0.0000,  0.0000,  0.0000,  0.2799, -0.0000,  0.0000,  0.3625],\n",
       "        [-0.2199,  0.0173,  0.0000, -0.1551, -0.0000, -0.3147,  0.4876,  0.0000,  0.0000, -0.4392,  0.0000,  0.0000],\n",
       "        [-0.1504,  0.0000,  0.0000, -0.0793, -0.0000, -0.3147,  0.0000,  0.0000,  0.2799, -0.0000,  0.0000,  0.3625],\n",
       "        [-0.2025,  0.0173,  0.0000, -0.1446, -0.0000, -0.3147,  0.4876,  0.0000,  0.0000, -0.0000,  0.0000,  0.3625],\n",
       "        [-0.2025,  0.0000,  0.0000, -0.0798, -0.2632, -0.0000,  0.0000,  0.0000,  0.2799, -0.0000,  0.0000,  0.3625],\n",
       "        [-0.1389,  0.0000,  0.0000, -0.0814, -0.2632, -0.0000,  0.0000,  0.0000,  0.2799, -0.0000,  0.2103,  0.0000],\n",
       "        [-0.3125,  0.0000,  0.0000, -0.1438, -0.2632, -0.0000,  0.4876,  0.0000,  0.0000, -0.0000,  0.0000,  0.3625],\n",
       "        ...,\n",
       "        [-0.1447,  0.0000,  0.0000, -0.0756, -0.2632, -0.0000,  0.0000,  0.0000,  0.2799, -0.0000,  0.0000,  0.3625],\n",
       "        [-0.2257,  0.0000,  0.2008, -0.1234, -0.0000, -0.3147,  0.0000,  0.0000,  0.2799, -0.0000,  0.2103,  0.0000],\n",
       "        [-0.1562,  0.0000,  0.0000, -0.0956, -0.2632, -0.0000,  0.0000,  0.3136,  0.0000, -0.0000,  0.0000,  0.3625],\n",
       "        [-0.1099,  0.0000,  0.0000, -0.1244, -0.0000, -0.3147,  0.4876,  0.0000,  0.0000, -0.0000,  0.0000,  0.3625],\n",
       "        [-0.1389,  0.0173,  0.0803, -0.1158, -0.0000, -0.3147,  0.0000,  0.0000,  0.2799, -0.0000,  0.0000,  0.3625],\n",
       "        [-0.1504,  0.0000,  0.0000, -0.1244, -0.2632, -0.0000,  0.4876,  0.0000,  0.0000, -0.4392,  0.0000,  0.0000],\n",
       "        [-0.1852,  0.0000,  0.0000, -0.0786, -0.2632, -0.0000,  0.0000,  0.0000,  0.2799, -0.0000,  0.2103,  0.0000]])"
      ]
     },
     "execution_count": 22,
     "metadata": {},
     "output_type": "execute_result"
    }
   ],
   "source": [
    "t_indep*coeffs"
   ]
  },
  {
   "cell_type": "markdown",
   "id": "c08c3845",
   "metadata": {
    "papermill": {
     "duration": 0.166229,
     "end_time": "2023-08-10T20:08:54.372116",
     "exception": false,
     "start_time": "2023-08-10T20:08:54.205887",
     "status": "completed"
    },
    "tags": []
   },
   "source": [
    "One thing you hopefully noticed is how amazingly cool this line of code is:\n",
    "\n",
    "    t_indep = t_indep / vals\n",
    "\n",
    "That is dividing a matrix by a vector -- what on earth does that mean?!? The trick here is that we're taking advantage of a technique in numpy and PyTorch (and many other languages, going all the way back to APL) called [broadcasting](https://numpy.org/doc/stable/user/basics.broadcasting.html). In short, this acts as if there's a separate copy of the vector for every row of the matrix, so it divides each row of the matrix by the vector. In practice, it doesn't actually make any copies, and does the whole thing in a highly optimized way, taking full advantage of modern CPUs (or, indeed, GPUs, if we're using them). Broadcasting is one of the most important techniques for making your code concise, maintainable, and fast, so it's well worth studying and practicing.\n",
    "\n",
    "We can now create predictions from our linear model, by adding up the rows of the product:"
   ]
  },
  {
   "cell_type": "code",
   "execution_count": 23,
   "id": "e17e6f71",
   "metadata": {
    "execution": {
     "iopub.execute_input": "2023-08-10T20:08:54.734310Z",
     "iopub.status.busy": "2023-08-10T20:08:54.733889Z",
     "iopub.status.idle": "2023-08-10T20:08:54.743171Z",
     "shell.execute_reply": "2023-08-10T20:08:54.742134Z"
    },
    "papermill": {
     "duration": 0.179154,
     "end_time": "2023-08-10T20:08:54.745859",
     "exception": false,
     "start_time": "2023-08-10T20:08:54.566705",
     "status": "completed"
    },
    "tags": []
   },
   "outputs": [],
   "source": [
    "preds = (t_indep*coeffs).sum(axis=1)"
   ]
  },
  {
   "cell_type": "markdown",
   "id": "fe8c9ae3",
   "metadata": {
    "papermill": {
     "duration": 0.164003,
     "end_time": "2023-08-10T20:08:55.076356",
     "exception": false,
     "start_time": "2023-08-10T20:08:54.912353",
     "status": "completed"
    },
    "tags": []
   },
   "source": [
    "Let's take a look at the first few:"
   ]
  },
  {
   "cell_type": "code",
   "execution_count": 24,
   "id": "7190c5c8",
   "metadata": {
    "execution": {
     "iopub.execute_input": "2023-08-10T20:08:55.412473Z",
     "iopub.status.busy": "2023-08-10T20:08:55.412152Z",
     "iopub.status.idle": "2023-08-10T20:08:55.420704Z",
     "shell.execute_reply": "2023-08-10T20:08:55.419876Z"
    },
    "papermill": {
     "duration": 0.179163,
     "end_time": "2023-08-10T20:08:55.423219",
     "exception": false,
     "start_time": "2023-08-10T20:08:55.244056",
     "status": "completed"
    },
    "tags": []
   },
   "outputs": [
    {
     "data": {
      "text/plain": [
       "tensor([ 0.1927, -0.6239,  0.0979,  0.2056,  0.0968,  0.0066,  0.1306,  0.3476,  0.1613, -0.6285])"
      ]
     },
     "execution_count": 24,
     "metadata": {},
     "output_type": "execute_result"
    }
   ],
   "source": [
    "preds[:10]"
   ]
  },
  {
   "cell_type": "markdown",
   "id": "746588c7",
   "metadata": {
    "papermill": {
     "duration": 0.17214,
     "end_time": "2023-08-10T20:08:55.764713",
     "exception": false,
     "start_time": "2023-08-10T20:08:55.592573",
     "status": "completed"
    },
    "tags": []
   },
   "source": [
    "Of course, these predictions aren't going to be any use, since our coefficients are random -- they're just a starting point for our gradient descent process.\n",
    "\n",
    "To do gradient descent, we need a loss function. Taking the average error of the rows (i.e. the absolute value of the difference between the prediction and the dependent) is generally a reasonable approach:"
   ]
  },
  {
   "cell_type": "code",
   "execution_count": 25,
   "id": "14a331f4",
   "metadata": {
    "execution": {
     "iopub.execute_input": "2023-08-10T20:08:56.107036Z",
     "iopub.status.busy": "2023-08-10T20:08:56.106692Z",
     "iopub.status.idle": "2023-08-10T20:08:56.118395Z",
     "shell.execute_reply": "2023-08-10T20:08:56.117508Z"
    },
    "papermill": {
     "duration": 0.185558,
     "end_time": "2023-08-10T20:08:56.120724",
     "exception": false,
     "start_time": "2023-08-10T20:08:55.935166",
     "status": "completed"
    },
    "tags": []
   },
   "outputs": [
    {
     "data": {
      "text/plain": [
       "tensor(0.5382)"
      ]
     },
     "execution_count": 25,
     "metadata": {},
     "output_type": "execute_result"
    }
   ],
   "source": [
    "loss = torch.abs(preds-t_dep).mean()\n",
    "loss"
   ]
  },
  {
   "cell_type": "markdown",
   "id": "6c7aa56d",
   "metadata": {
    "papermill": {
     "duration": 0.170129,
     "end_time": "2023-08-10T20:08:56.461019",
     "exception": false,
     "start_time": "2023-08-10T20:08:56.290890",
     "status": "completed"
    },
    "tags": []
   },
   "source": [
    "Now that we've tested out a way of calculating predictions, and loss, let's pop them into functions to make life easier:"
   ]
  },
  {
   "cell_type": "code",
   "execution_count": 26,
   "id": "f4d0c9ad",
   "metadata": {
    "execution": {
     "iopub.execute_input": "2023-08-10T20:08:56.794874Z",
     "iopub.status.busy": "2023-08-10T20:08:56.794541Z",
     "iopub.status.idle": "2023-08-10T20:08:56.800730Z",
     "shell.execute_reply": "2023-08-10T20:08:56.799894Z"
    },
    "papermill": {
     "duration": 0.175935,
     "end_time": "2023-08-10T20:08:56.803238",
     "exception": false,
     "start_time": "2023-08-10T20:08:56.627303",
     "status": "completed"
    },
    "tags": []
   },
   "outputs": [],
   "source": [
    "def calc_preds(coeffs, indeps): return (indeps*coeffs).sum(axis=1)\n",
    "def calc_loss(coeffs, indeps, deps): return torch.abs(calc_preds(coeffs, indeps)-deps).mean()"
   ]
  },
  {
   "cell_type": "markdown",
   "id": "dcaf637e",
   "metadata": {
    "papermill": {
     "duration": 0.168871,
     "end_time": "2023-08-10T20:08:57.139838",
     "exception": false,
     "start_time": "2023-08-10T20:08:56.970967",
     "status": "completed"
    },
    "tags": []
   },
   "source": [
    "## Doing a gradient descent step"
   ]
  },
  {
   "cell_type": "markdown",
   "id": "f6b4149a",
   "metadata": {
    "papermill": {
     "duration": 0.16929,
     "end_time": "2023-08-10T20:08:57.476390",
     "exception": false,
     "start_time": "2023-08-10T20:08:57.307100",
     "status": "completed"
    },
    "tags": []
   },
   "source": [
    "In this section, we're going to do a single \"epoch\" of gradient descent manually. The only thing we're going to automate is calculating gradients, because let's face it that's pretty tedious and entirely pointless to do by hand! To get PyTorch to calculate gradients, we'll need to call `requires_grad_()` on our `coeffs` (if you're not sure why, review the previous notebook, [How does a neural net really work?](https://www.kaggle.com/code/jhoward/how-does-a-neural-net-really-work), before continuing):"
   ]
  },
  {
   "cell_type": "code",
   "execution_count": 27,
   "id": "1b69239b",
   "metadata": {
    "execution": {
     "iopub.execute_input": "2023-08-10T20:08:57.811412Z",
     "iopub.status.busy": "2023-08-10T20:08:57.811085Z",
     "iopub.status.idle": "2023-08-10T20:08:57.818107Z",
     "shell.execute_reply": "2023-08-10T20:08:57.817188Z"
    },
    "papermill": {
     "duration": 0.177415,
     "end_time": "2023-08-10T20:08:57.820459",
     "exception": false,
     "start_time": "2023-08-10T20:08:57.643044",
     "status": "completed"
    },
    "tags": []
   },
   "outputs": [
    {
     "data": {
      "text/plain": [
       "tensor([-0.4629,  0.1386,  0.2409, -0.2262, -0.2632, -0.3147,  0.4876,  0.3136,  0.2799, -0.4392,  0.2103,  0.3625], requires_grad=True)"
      ]
     },
     "execution_count": 27,
     "metadata": {},
     "output_type": "execute_result"
    }
   ],
   "source": [
    "coeffs.requires_grad_()"
   ]
  },
  {
   "cell_type": "markdown",
   "id": "53e9178c",
   "metadata": {
    "papermill": {
     "duration": 0.169429,
     "end_time": "2023-08-10T20:08:58.164421",
     "exception": false,
     "start_time": "2023-08-10T20:08:57.994992",
     "status": "completed"
    },
    "tags": []
   },
   "source": [
    "Now when we calculate our loss, PyTorch will keep track of all the steps, so we'll be able to get the gradients afterwards:"
   ]
  },
  {
   "cell_type": "code",
   "execution_count": 28,
   "id": "cbbfd05c",
   "metadata": {
    "execution": {
     "iopub.execute_input": "2023-08-10T20:08:58.501439Z",
     "iopub.status.busy": "2023-08-10T20:08:58.501098Z",
     "iopub.status.idle": "2023-08-10T20:08:58.509715Z",
     "shell.execute_reply": "2023-08-10T20:08:58.508738Z"
    },
    "papermill": {
     "duration": 0.1787,
     "end_time": "2023-08-10T20:08:58.512048",
     "exception": false,
     "start_time": "2023-08-10T20:08:58.333348",
     "status": "completed"
    },
    "tags": []
   },
   "outputs": [
    {
     "data": {
      "text/plain": [
       "tensor(0.5382, grad_fn=<MeanBackward0>)"
      ]
     },
     "execution_count": 28,
     "metadata": {},
     "output_type": "execute_result"
    }
   ],
   "source": [
    "loss = calc_loss(coeffs, t_indep, t_dep)\n",
    "loss"
   ]
  },
  {
   "cell_type": "markdown",
   "id": "64baf1ab",
   "metadata": {
    "papermill": {
     "duration": 0.170459,
     "end_time": "2023-08-10T20:08:58.851484",
     "exception": false,
     "start_time": "2023-08-10T20:08:58.681025",
     "status": "completed"
    },
    "tags": []
   },
   "source": [
    "Use `backward()` to ask PyTorch to calculate gradients now:"
   ]
  },
  {
   "cell_type": "code",
   "execution_count": 29,
   "id": "8f5eb26a",
   "metadata": {
    "execution": {
     "iopub.execute_input": "2023-08-10T20:08:59.207007Z",
     "iopub.status.busy": "2023-08-10T20:08:59.206642Z",
     "iopub.status.idle": "2023-08-10T20:08:59.221292Z",
     "shell.execute_reply": "2023-08-10T20:08:59.220252Z"
    },
    "papermill": {
     "duration": 0.196796,
     "end_time": "2023-08-10T20:08:59.224450",
     "exception": false,
     "start_time": "2023-08-10T20:08:59.027654",
     "status": "completed"
    },
    "tags": []
   },
   "outputs": [],
   "source": [
    "loss.backward()"
   ]
  },
  {
   "cell_type": "markdown",
   "id": "d24a1011",
   "metadata": {
    "papermill": {
     "duration": 0.170702,
     "end_time": "2023-08-10T20:08:59.565876",
     "exception": false,
     "start_time": "2023-08-10T20:08:59.395174",
     "status": "completed"
    },
    "tags": []
   },
   "source": [
    "Let's see what they look like:"
   ]
  },
  {
   "cell_type": "code",
   "execution_count": 30,
   "id": "f9b62925",
   "metadata": {
    "execution": {
     "iopub.execute_input": "2023-08-10T20:08:59.919815Z",
     "iopub.status.busy": "2023-08-10T20:08:59.919437Z",
     "iopub.status.idle": "2023-08-10T20:08:59.926263Z",
     "shell.execute_reply": "2023-08-10T20:08:59.925480Z"
    },
    "papermill": {
     "duration": 0.189691,
     "end_time": "2023-08-10T20:08:59.928567",
     "exception": false,
     "start_time": "2023-08-10T20:08:59.738876",
     "status": "completed"
    },
    "tags": []
   },
   "outputs": [
    {
     "data": {
      "text/plain": [
       "tensor([-0.0106,  0.0129, -0.0041, -0.0484,  0.2099, -0.2132, -0.1212, -0.0247,  0.1425, -0.1886, -0.0191,  0.2043])"
      ]
     },
     "execution_count": 30,
     "metadata": {},
     "output_type": "execute_result"
    }
   ],
   "source": [
    "coeffs.grad"
   ]
  },
  {
   "cell_type": "markdown",
   "id": "55330961",
   "metadata": {
    "papermill": {
     "duration": 0.172595,
     "end_time": "2023-08-10T20:09:00.278027",
     "exception": false,
     "start_time": "2023-08-10T20:09:00.105432",
     "status": "completed"
    },
    "tags": []
   },
   "source": [
    "Note that each time we call `backward`, the gradients are actually *added* to whatever is in the `.grad` attribute. Let's try running the above steps again:"
   ]
  },
  {
   "cell_type": "code",
   "execution_count": 31,
   "id": "bb1fbb64",
   "metadata": {
    "execution": {
     "iopub.execute_input": "2023-08-10T20:09:00.637591Z",
     "iopub.status.busy": "2023-08-10T20:09:00.636559Z",
     "iopub.status.idle": "2023-08-10T20:09:00.647424Z",
     "shell.execute_reply": "2023-08-10T20:09:00.646426Z"
    },
    "papermill": {
     "duration": 0.194221,
     "end_time": "2023-08-10T20:09:00.650393",
     "exception": false,
     "start_time": "2023-08-10T20:09:00.456172",
     "status": "completed"
    },
    "tags": []
   },
   "outputs": [
    {
     "data": {
      "text/plain": [
       "tensor([-0.0212,  0.0258, -0.0082, -0.0969,  0.4198, -0.4265, -0.2424, -0.0494,  0.2851, -0.3771, -0.0382,  0.4085])"
      ]
     },
     "execution_count": 31,
     "metadata": {},
     "output_type": "execute_result"
    }
   ],
   "source": [
    "loss = calc_loss(coeffs, t_indep, t_dep)\n",
    "loss.backward()\n",
    "coeffs.grad"
   ]
  },
  {
   "cell_type": "markdown",
   "id": "cf57b8d8",
   "metadata": {
    "papermill": {
     "duration": 0.17227,
     "end_time": "2023-08-10T20:09:00.996019",
     "exception": false,
     "start_time": "2023-08-10T20:09:00.823749",
     "status": "completed"
    },
    "tags": []
   },
   "source": [
    "As you see, our `.grad` values are have doubled. That's because it added the gradients a second time. For this reason, after we use the gradients to do a gradient descent step, we need to set them back to zero.\n",
    "\n",
    "We can now do one gradient descent step, and check that our loss decreases:"
   ]
  },
  {
   "cell_type": "code",
   "execution_count": 32,
   "id": "c9c6756d",
   "metadata": {
    "execution": {
     "iopub.execute_input": "2023-08-10T20:09:01.362429Z",
     "iopub.status.busy": "2023-08-10T20:09:01.361761Z",
     "iopub.status.idle": "2023-08-10T20:09:01.371566Z",
     "shell.execute_reply": "2023-08-10T20:09:01.370288Z"
    },
    "papermill": {
     "duration": 0.199209,
     "end_time": "2023-08-10T20:09:01.374049",
     "exception": false,
     "start_time": "2023-08-10T20:09:01.174840",
     "status": "completed"
    },
    "tags": []
   },
   "outputs": [
    {
     "name": "stdout",
     "output_type": "stream",
     "text": [
      "tensor(0.4945)\n"
     ]
    }
   ],
   "source": [
    "loss = calc_loss(coeffs, t_indep, t_dep)\n",
    "loss.backward()\n",
    "with torch.no_grad():\n",
    "    coeffs.sub_(coeffs.grad * 0.1)\n",
    "    coeffs.grad.zero_()\n",
    "    print(calc_loss(coeffs, t_indep, t_dep))"
   ]
  },
  {
   "cell_type": "markdown",
   "id": "54367306",
   "metadata": {
    "papermill": {
     "duration": 0.169582,
     "end_time": "2023-08-10T20:09:01.718271",
     "exception": false,
     "start_time": "2023-08-10T20:09:01.548689",
     "status": "completed"
    },
    "tags": []
   },
   "source": [
    "Note that `a.sub_(b)` subtracts `b` from `a` in-place. In PyTorch, any method that ends in `_` changes its object in-place. Similarly, `a.zero_()` sets all elements of a tensor to zero."
   ]
  },
  {
   "cell_type": "markdown",
   "id": "dca569c2",
   "metadata": {
    "papermill": {
     "duration": 0.174138,
     "end_time": "2023-08-10T20:09:02.062514",
     "exception": false,
     "start_time": "2023-08-10T20:09:01.888376",
     "status": "completed"
    },
    "tags": []
   },
   "source": [
    "## Training the linear model"
   ]
  },
  {
   "cell_type": "markdown",
   "id": "7d200686",
   "metadata": {
    "papermill": {
     "duration": 0.17121,
     "end_time": "2023-08-10T20:09:02.410230",
     "exception": false,
     "start_time": "2023-08-10T20:09:02.239020",
     "status": "completed"
    },
    "tags": []
   },
   "source": [
    "Before we begin training our model, we'll need to ensure that we hold out a validation set for calculating our metrics (for details on this, see \"[Getting started with NLP for absolute beginners](https://www.kaggle.com/code/jhoward/getting-started-with-nlp-for-absolute-beginners#Test-and-validation-sets)\".\n",
    "\n",
    "There's lots of different ways we can do this. In the next notebook we'll be comparing our approach here to what the fastai library does, so we'll want to ensure we split the data in the same way. So let's use `RandomSplitter` to get indices that will split our data into training and validation sets:"
   ]
  },
  {
   "cell_type": "code",
   "execution_count": 33,
   "id": "08fa55de",
   "metadata": {
    "execution": {
     "iopub.execute_input": "2023-08-10T20:09:02.749775Z",
     "iopub.status.busy": "2023-08-10T20:09:02.749292Z",
     "iopub.status.idle": "2023-08-10T20:09:04.150119Z",
     "shell.execute_reply": "2023-08-10T20:09:04.149162Z"
    },
    "papermill": {
     "duration": 1.573931,
     "end_time": "2023-08-10T20:09:04.153078",
     "exception": false,
     "start_time": "2023-08-10T20:09:02.579147",
     "status": "completed"
    },
    "tags": []
   },
   "outputs": [],
   "source": [
    "from fastai.data.transforms import RandomSplitter\n",
    "trn_split,val_split=RandomSplitter(seed=42)(df)"
   ]
  },
  {
   "cell_type": "markdown",
   "id": "2649868e",
   "metadata": {
    "papermill": {
     "duration": 0.16857,
     "end_time": "2023-08-10T20:09:04.493043",
     "exception": false,
     "start_time": "2023-08-10T20:09:04.324473",
     "status": "completed"
    },
    "tags": []
   },
   "source": [
    "Now we can apply those indicies to our independent and dependent variables:"
   ]
  },
  {
   "cell_type": "code",
   "execution_count": 34,
   "id": "5d394b9f",
   "metadata": {
    "execution": {
     "iopub.execute_input": "2023-08-10T20:09:04.832740Z",
     "iopub.status.busy": "2023-08-10T20:09:04.832402Z",
     "iopub.status.idle": "2023-08-10T20:09:04.845767Z",
     "shell.execute_reply": "2023-08-10T20:09:04.844848Z"
    },
    "papermill": {
     "duration": 0.187021,
     "end_time": "2023-08-10T20:09:04.848424",
     "exception": false,
     "start_time": "2023-08-10T20:09:04.661403",
     "status": "completed"
    },
    "tags": []
   },
   "outputs": [
    {
     "data": {
      "text/plain": [
       "(713, 178)"
      ]
     },
     "execution_count": 34,
     "metadata": {},
     "output_type": "execute_result"
    }
   ],
   "source": [
    "trn_indep,val_indep = t_indep[trn_split],t_indep[val_split]\n",
    "trn_dep,val_dep = t_dep[trn_split],t_dep[val_split]\n",
    "len(trn_indep),len(val_indep)"
   ]
  },
  {
   "cell_type": "markdown",
   "id": "cb7394a4",
   "metadata": {
    "papermill": {
     "duration": 0.176199,
     "end_time": "2023-08-10T20:09:05.201627",
     "exception": false,
     "start_time": "2023-08-10T20:09:05.025428",
     "status": "completed"
    },
    "tags": []
   },
   "source": [
    "We'll create functions for the three things we did manually above: updating `coeffs`, doing one full gradient descent step, and initilising `coeffs` to random numbers:"
   ]
  },
  {
   "cell_type": "code",
   "execution_count": 35,
   "id": "13bd95b3",
   "metadata": {
    "execution": {
     "iopub.execute_input": "2023-08-10T20:09:05.552244Z",
     "iopub.status.busy": "2023-08-10T20:09:05.551497Z",
     "iopub.status.idle": "2023-08-10T20:09:05.556589Z",
     "shell.execute_reply": "2023-08-10T20:09:05.555881Z"
    },
    "papermill": {
     "duration": 0.179774,
     "end_time": "2023-08-10T20:09:05.559029",
     "exception": false,
     "start_time": "2023-08-10T20:09:05.379255",
     "status": "completed"
    },
    "tags": []
   },
   "outputs": [],
   "source": [
    "def update_coeffs(coeffs, lr):\n",
    "    coeffs.sub_(coeffs.grad * lr)\n",
    "    coeffs.grad.zero_()"
   ]
  },
  {
   "cell_type": "code",
   "execution_count": 36,
   "id": "0cdd46e8",
   "metadata": {
    "execution": {
     "iopub.execute_input": "2023-08-10T20:09:05.902425Z",
     "iopub.status.busy": "2023-08-10T20:09:05.902062Z",
     "iopub.status.idle": "2023-08-10T20:09:05.908183Z",
     "shell.execute_reply": "2023-08-10T20:09:05.907176Z"
    },
    "papermill": {
     "duration": 0.179806,
     "end_time": "2023-08-10T20:09:05.910423",
     "exception": false,
     "start_time": "2023-08-10T20:09:05.730617",
     "status": "completed"
    },
    "tags": []
   },
   "outputs": [],
   "source": [
    "def one_epoch(coeffs, lr):\n",
    "    loss = calc_loss(coeffs, trn_indep, trn_dep)\n",
    "    loss.backward()\n",
    "    with torch.no_grad(): update_coeffs(coeffs, lr)\n",
    "    print(f\"{loss:.3f}\", end=\"; \")"
   ]
  },
  {
   "cell_type": "code",
   "execution_count": 37,
   "id": "1b59242c",
   "metadata": {
    "execution": {
     "iopub.execute_input": "2023-08-10T20:09:06.253820Z",
     "iopub.status.busy": "2023-08-10T20:09:06.253447Z",
     "iopub.status.idle": "2023-08-10T20:09:06.258366Z",
     "shell.execute_reply": "2023-08-10T20:09:06.257410Z"
    },
    "papermill": {
     "duration": 0.178266,
     "end_time": "2023-08-10T20:09:06.260658",
     "exception": false,
     "start_time": "2023-08-10T20:09:06.082392",
     "status": "completed"
    },
    "tags": []
   },
   "outputs": [],
   "source": [
    "def init_coeffs(): return (torch.rand(n_coeff)-0.5).requires_grad_()"
   ]
  },
  {
   "cell_type": "markdown",
   "id": "9472754c",
   "metadata": {
    "papermill": {
     "duration": 0.169513,
     "end_time": "2023-08-10T20:09:06.604009",
     "exception": false,
     "start_time": "2023-08-10T20:09:06.434496",
     "status": "completed"
    },
    "tags": []
   },
   "source": [
    "We can now use these functions to train our model:"
   ]
  },
  {
   "cell_type": "code",
   "execution_count": 38,
   "id": "7d103e35",
   "metadata": {
    "execution": {
     "iopub.execute_input": "2023-08-10T20:09:06.949216Z",
     "iopub.status.busy": "2023-08-10T20:09:06.948529Z",
     "iopub.status.idle": "2023-08-10T20:09:06.954741Z",
     "shell.execute_reply": "2023-08-10T20:09:06.953563Z"
    },
    "papermill": {
     "duration": 0.184163,
     "end_time": "2023-08-10T20:09:06.957382",
     "exception": false,
     "start_time": "2023-08-10T20:09:06.773219",
     "status": "completed"
    },
    "tags": []
   },
   "outputs": [],
   "source": [
    "def train_model(epochs=30, lr=0.01):\n",
    "    torch.manual_seed(442)\n",
    "    coeffs = init_coeffs()\n",
    "    for i in range(epochs): one_epoch(coeffs, lr=lr)\n",
    "    return coeffs"
   ]
  },
  {
   "cell_type": "markdown",
   "id": "58dae512",
   "metadata": {
    "papermill": {
     "duration": 0.175437,
     "end_time": "2023-08-10T20:09:07.305407",
     "exception": false,
     "start_time": "2023-08-10T20:09:07.129970",
     "status": "completed"
    },
    "tags": []
   },
   "source": [
    "Let's try it. Our loss will print at the end of every step, so we hope we'll see it going down:"
   ]
  },
  {
   "cell_type": "code",
   "execution_count": 39,
   "id": "1e75074e",
   "metadata": {
    "execution": {
     "iopub.execute_input": "2023-08-10T20:09:07.647185Z",
     "iopub.status.busy": "2023-08-10T20:09:07.646566Z",
     "iopub.status.idle": "2023-08-10T20:09:07.663641Z",
     "shell.execute_reply": "2023-08-10T20:09:07.662673Z"
    },
    "papermill": {
     "duration": 0.190142,
     "end_time": "2023-08-10T20:09:07.666464",
     "exception": false,
     "start_time": "2023-08-10T20:09:07.476322",
     "status": "completed"
    },
    "tags": []
   },
   "outputs": [
    {
     "name": "stdout",
     "output_type": "stream",
     "text": [
      "0.536; 0.502; 0.477; 0.454; 0.431; 0.409; 0.388; 0.367; 0.349; 0.336; 0.330; 0.326; 0.329; 0.304; 0.314; 0.296; 0.300; 0.289; "
     ]
    }
   ],
   "source": [
    "coeffs = train_model(18, lr=0.2)"
   ]
  },
  {
   "cell_type": "markdown",
   "id": "332a6f7a",
   "metadata": {
    "papermill": {
     "duration": 0.19599,
     "end_time": "2023-08-10T20:09:08.032360",
     "exception": false,
     "start_time": "2023-08-10T20:09:07.836370",
     "status": "completed"
    },
    "tags": []
   },
   "source": [
    "It does!\n",
    "\n",
    "Let's take a look at the coefficients for each column:"
   ]
  },
  {
   "cell_type": "code",
   "execution_count": 40,
   "id": "35ca3d41",
   "metadata": {
    "execution": {
     "iopub.execute_input": "2023-08-10T20:09:08.426146Z",
     "iopub.status.busy": "2023-08-10T20:09:08.425413Z",
     "iopub.status.idle": "2023-08-10T20:09:08.436849Z",
     "shell.execute_reply": "2023-08-10T20:09:08.435855Z"
    },
    "papermill": {
     "duration": 0.204973,
     "end_time": "2023-08-10T20:09:08.439464",
     "exception": false,
     "start_time": "2023-08-10T20:09:08.234491",
     "status": "completed"
    },
    "tags": []
   },
   "outputs": [
    {
     "data": {
      "text/plain": [
       "{'Age': tensor(-0.2694),\n",
       " 'SibSp': tensor(0.0901),\n",
       " 'Parch': tensor(0.2359),\n",
       " 'LogFare': tensor(0.0280),\n",
       " 'Sex_male': tensor(-0.3990),\n",
       " 'Sex_female': tensor(0.2345),\n",
       " 'Pclass_1': tensor(0.7232),\n",
       " 'Pclass_2': tensor(0.4112),\n",
       " 'Pclass_3': tensor(0.3601),\n",
       " 'Embarked_C': tensor(0.0955),\n",
       " 'Embarked_Q': tensor(0.2395),\n",
       " 'Embarked_S': tensor(0.2122)}"
      ]
     },
     "execution_count": 40,
     "metadata": {},
     "output_type": "execute_result"
    }
   ],
   "source": [
    "def show_coeffs(): return dict(zip(indep_cols, coeffs.requires_grad_(False)))\n",
    "show_coeffs()"
   ]
  },
  {
   "cell_type": "markdown",
   "id": "07659d0d",
   "metadata": {
    "papermill": {
     "duration": 0.171241,
     "end_time": "2023-08-10T20:09:08.781485",
     "exception": false,
     "start_time": "2023-08-10T20:09:08.610244",
     "status": "completed"
    },
    "tags": []
   },
   "source": [
    "## Measuring accuracy"
   ]
  },
  {
   "cell_type": "markdown",
   "id": "2c014766",
   "metadata": {
    "papermill": {
     "duration": 0.173967,
     "end_time": "2023-08-10T20:09:09.129955",
     "exception": false,
     "start_time": "2023-08-10T20:09:08.955988",
     "status": "completed"
    },
    "tags": []
   },
   "source": [
    "The Kaggle competition is not, however, scored by absolute error (which is our loss function). It's scored by *accuracy* -- the proportion of rows where we correctly predict survival. Let's see how accurate we were on the validation set. First, calculate the predictions:"
   ]
  },
  {
   "cell_type": "code",
   "execution_count": 41,
   "id": "4e9292be",
   "metadata": {
    "execution": {
     "iopub.execute_input": "2023-08-10T20:09:09.477957Z",
     "iopub.status.busy": "2023-08-10T20:09:09.477352Z",
     "iopub.status.idle": "2023-08-10T20:09:09.482278Z",
     "shell.execute_reply": "2023-08-10T20:09:09.481540Z"
    },
    "papermill": {
     "duration": 0.180338,
     "end_time": "2023-08-10T20:09:09.484635",
     "exception": false,
     "start_time": "2023-08-10T20:09:09.304297",
     "status": "completed"
    },
    "tags": []
   },
   "outputs": [],
   "source": [
    "preds = calc_preds(coeffs, val_indep)"
   ]
  },
  {
   "cell_type": "markdown",
   "id": "39acf434",
   "metadata": {
    "papermill": {
     "duration": 0.170437,
     "end_time": "2023-08-10T20:09:09.825837",
     "exception": false,
     "start_time": "2023-08-10T20:09:09.655400",
     "status": "completed"
    },
    "tags": []
   },
   "source": [
    "We'll assume that any passenger with a score of over `0.5` is predicted to survive. So that means we're correct for each row where `preds>0.5` is the same as the dependent variable:"
   ]
  },
  {
   "cell_type": "code",
   "execution_count": 42,
   "id": "e5b4d6a8",
   "metadata": {
    "execution": {
     "iopub.execute_input": "2023-08-10T20:09:10.170855Z",
     "iopub.status.busy": "2023-08-10T20:09:10.170339Z",
     "iopub.status.idle": "2023-08-10T20:09:10.178278Z",
     "shell.execute_reply": "2023-08-10T20:09:10.177125Z"
    },
    "papermill": {
     "duration": 0.184272,
     "end_time": "2023-08-10T20:09:10.180755",
     "exception": false,
     "start_time": "2023-08-10T20:09:09.996483",
     "status": "completed"
    },
    "tags": []
   },
   "outputs": [
    {
     "data": {
      "text/plain": [
       "tensor([ True,  True,  True,  True,  True,  True,  True,  True,  True,  True, False, False, False,  True,  True, False])"
      ]
     },
     "execution_count": 42,
     "metadata": {},
     "output_type": "execute_result"
    }
   ],
   "source": [
    "results = val_dep.bool()==(preds>0.5)\n",
    "results[:16]"
   ]
  },
  {
   "cell_type": "markdown",
   "id": "e66e055a",
   "metadata": {
    "papermill": {
     "duration": 0.17031,
     "end_time": "2023-08-10T20:09:10.524522",
     "exception": false,
     "start_time": "2023-08-10T20:09:10.354212",
     "status": "completed"
    },
    "tags": []
   },
   "source": [
    "Let's see what our average accuracy is:"
   ]
  },
  {
   "cell_type": "code",
   "execution_count": 43,
   "id": "79aeb2b4",
   "metadata": {
    "execution": {
     "iopub.execute_input": "2023-08-10T20:09:10.868220Z",
     "iopub.status.busy": "2023-08-10T20:09:10.867901Z",
     "iopub.status.idle": "2023-08-10T20:09:10.875572Z",
     "shell.execute_reply": "2023-08-10T20:09:10.874622Z"
    },
    "papermill": {
     "duration": 0.182534,
     "end_time": "2023-08-10T20:09:10.878092",
     "exception": false,
     "start_time": "2023-08-10T20:09:10.695558",
     "status": "completed"
    },
    "tags": []
   },
   "outputs": [
    {
     "data": {
      "text/plain": [
       "tensor(0.7865)"
      ]
     },
     "execution_count": 43,
     "metadata": {},
     "output_type": "execute_result"
    }
   ],
   "source": [
    "results.float().mean()"
   ]
  },
  {
   "cell_type": "markdown",
   "id": "9ea9f582",
   "metadata": {
    "papermill": {
     "duration": 0.182813,
     "end_time": "2023-08-10T20:09:11.242421",
     "exception": false,
     "start_time": "2023-08-10T20:09:11.059608",
     "status": "completed"
    },
    "tags": []
   },
   "source": [
    "That's not a bad start at all! We'll create a function so we can calcuate the accuracy easy for other models we train:"
   ]
  },
  {
   "cell_type": "code",
   "execution_count": 44,
   "id": "266fc51d",
   "metadata": {
    "execution": {
     "iopub.execute_input": "2023-08-10T20:09:11.625606Z",
     "iopub.status.busy": "2023-08-10T20:09:11.624688Z",
     "iopub.status.idle": "2023-08-10T20:09:11.634089Z",
     "shell.execute_reply": "2023-08-10T20:09:11.633057Z"
    },
    "papermill": {
     "duration": 0.185952,
     "end_time": "2023-08-10T20:09:11.636286",
     "exception": false,
     "start_time": "2023-08-10T20:09:11.450334",
     "status": "completed"
    },
    "tags": []
   },
   "outputs": [
    {
     "data": {
      "text/plain": [
       "tensor(0.7865)"
      ]
     },
     "execution_count": 44,
     "metadata": {},
     "output_type": "execute_result"
    }
   ],
   "source": [
    "def acc(coeffs): return (val_dep.bool()==(calc_preds(coeffs, val_indep)>0.5)).float().mean()\n",
    "acc(coeffs)"
   ]
  },
  {
   "cell_type": "markdown",
   "id": "2b9f3219",
   "metadata": {
    "papermill": {
     "duration": 0.173317,
     "end_time": "2023-08-10T20:09:11.980716",
     "exception": false,
     "start_time": "2023-08-10T20:09:11.807399",
     "status": "completed"
    },
    "tags": []
   },
   "source": [
    "## Using sigmoid"
   ]
  },
  {
   "cell_type": "markdown",
   "id": "4ff5ddae",
   "metadata": {
    "papermill": {
     "duration": 0.176301,
     "end_time": "2023-08-10T20:09:12.328942",
     "exception": false,
     "start_time": "2023-08-10T20:09:12.152641",
     "status": "completed"
    },
    "tags": []
   },
   "source": [
    "Looking at our predictions, there's one obvious problem -- some of our predictions of the probability of survival are `>1`, and some are `<0`:"
   ]
  },
  {
   "cell_type": "code",
   "execution_count": 45,
   "id": "cfee8b9c",
   "metadata": {
    "execution": {
     "iopub.execute_input": "2023-08-10T20:09:12.679626Z",
     "iopub.status.busy": "2023-08-10T20:09:12.678542Z",
     "iopub.status.idle": "2023-08-10T20:09:12.686485Z",
     "shell.execute_reply": "2023-08-10T20:09:12.685412Z"
    },
    "papermill": {
     "duration": 0.182908,
     "end_time": "2023-08-10T20:09:12.688944",
     "exception": false,
     "start_time": "2023-08-10T20:09:12.506036",
     "status": "completed"
    },
    "tags": []
   },
   "outputs": [
    {
     "data": {
      "text/plain": [
       "tensor([ 0.8160,  0.1295, -0.0148,  0.1831,  0.1520,  0.1350,  0.7279,  0.7754,  0.3222,  0.6740,  0.0753,  0.0389,  0.2216,  0.7631,\n",
       "         0.0678,  0.3997,  0.3324,  0.8278,  0.1078,  0.7126,  0.1023,  0.3627,  0.9937,  0.8050,  0.1153,  0.1455,  0.8652,  0.3425])"
      ]
     },
     "execution_count": 45,
     "metadata": {},
     "output_type": "execute_result"
    }
   ],
   "source": [
    "preds[:28]"
   ]
  },
  {
   "cell_type": "markdown",
   "id": "d9c226ab",
   "metadata": {
    "papermill": {
     "duration": 0.178539,
     "end_time": "2023-08-10T20:09:13.045142",
     "exception": false,
     "start_time": "2023-08-10T20:09:12.866603",
     "status": "completed"
    },
    "tags": []
   },
   "source": [
    "To fix this, we should pass every prediction through the *sigmoid function*, which has a minimum at zero and maximum at one, and is defined as follows:"
   ]
  },
  {
   "cell_type": "code",
   "execution_count": 46,
   "id": "66080a64",
   "metadata": {
    "execution": {
     "iopub.execute_input": "2023-08-10T20:09:13.392274Z",
     "iopub.status.busy": "2023-08-10T20:09:13.391893Z",
     "iopub.status.idle": "2023-08-10T20:09:14.707363Z",
     "shell.execute_reply": "2023-08-10T20:09:14.706116Z"
    },
    "papermill": {
     "duration": 1.491818,
     "end_time": "2023-08-10T20:09:14.709931",
     "exception": false,
     "start_time": "2023-08-10T20:09:13.218113",
     "status": "completed"
    },
    "tags": []
   },
   "outputs": [
    {
     "data": {
      "image/png": "[encoded data removed]",
      "text/plain": [
       "<Figure size 432x288 with 1 Axes>"
      ]
     },
     "metadata": {
      "needs_background": "light"
     },
     "output_type": "display_data"
    }
   ],
   "source": [
    "import sympy\n",
    "sympy.plot(\"1/(1+exp(-x))\", xlim=(-5,5));"
   ]
  },
  {
   "cell_type": "markdown",
   "id": "972baee3",
   "metadata": {
    "papermill": {
     "duration": 0.172338,
     "end_time": "2023-08-10T20:09:15.055229",
     "exception": false,
     "start_time": "2023-08-10T20:09:14.882891",
     "status": "completed"
    },
    "tags": []
   },
   "source": [
    "PyTorch already defines that function for us, so we can modify `calc_preds` to use it:"
   ]
  },
  {
   "cell_type": "code",
   "execution_count": 47,
   "id": "5e20d1b8",
   "metadata": {
    "execution": {
     "iopub.execute_input": "2023-08-10T20:09:15.404263Z",
     "iopub.status.busy": "2023-08-10T20:09:15.403927Z",
     "iopub.status.idle": "2023-08-10T20:09:15.409751Z",
     "shell.execute_reply": "2023-08-10T20:09:15.408638Z"
    },
    "papermill": {
     "duration": 0.184314,
     "end_time": "2023-08-10T20:09:15.412633",
     "exception": false,
     "start_time": "2023-08-10T20:09:15.228319",
     "status": "completed"
    },
    "tags": []
   },
   "outputs": [],
   "source": [
    "def calc_preds(coeffs, indeps): return torch.sigmoid((indeps*coeffs).sum(axis=1))"
   ]
  },
  {
   "cell_type": "markdown",
   "id": "a65cd25d",
   "metadata": {
    "papermill": {
     "duration": 0.175104,
     "end_time": "2023-08-10T20:09:15.762056",
     "exception": false,
     "start_time": "2023-08-10T20:09:15.586952",
     "status": "completed"
    },
    "tags": []
   },
   "source": [
    "Let's train a new model now, using this updated function to calculate predictions:"
   ]
  },
  {
   "cell_type": "code",
   "execution_count": 48,
   "id": "42bf30f5",
   "metadata": {
    "execution": {
     "iopub.execute_input": "2023-08-10T20:09:16.113484Z",
     "iopub.status.busy": "2023-08-10T20:09:16.113130Z",
     "iopub.status.idle": "2023-08-10T20:09:16.137687Z",
     "shell.execute_reply": "2023-08-10T20:09:16.136669Z"
    },
    "papermill": {
     "duration": 0.203745,
     "end_time": "2023-08-10T20:09:16.140122",
     "exception": false,
     "start_time": "2023-08-10T20:09:15.936377",
     "status": "completed"
    },
    "tags": []
   },
   "outputs": [
    {
     "name": "stdout",
     "output_type": "stream",
     "text": [
      "0.510; 0.327; 0.294; 0.207; 0.201; 0.199; 0.198; 0.197; 0.196; 0.196; 0.196; 0.195; 0.195; 0.195; 0.195; 0.195; 0.195; 0.195; 0.194; 0.194; 0.194; 0.194; 0.194; 0.194; 0.194; 0.194; 0.194; 0.194; 0.194; 0.194; "
     ]
    }
   ],
   "source": [
    "coeffs = train_model(lr=100)"
   ]
  },
  {
   "cell_type": "markdown",
   "id": "301a59da",
   "metadata": {
    "papermill": {
     "duration": 0.176277,
     "end_time": "2023-08-10T20:09:16.491618",
     "exception": false,
     "start_time": "2023-08-10T20:09:16.315341",
     "status": "completed"
    },
    "tags": []
   },
   "source": [
    "The loss has improved by a lot. Let's check the accuracy:"
   ]
  },
  {
   "cell_type": "code",
   "execution_count": 49,
   "id": "cfbf098c",
   "metadata": {
    "execution": {
     "iopub.execute_input": "2023-08-10T20:09:16.840821Z",
     "iopub.status.busy": "2023-08-10T20:09:16.840427Z",
     "iopub.status.idle": "2023-08-10T20:09:16.847962Z",
     "shell.execute_reply": "2023-08-10T20:09:16.847287Z"
    },
    "papermill": {
     "duration": 0.184282,
     "end_time": "2023-08-10T20:09:16.850138",
     "exception": false,
     "start_time": "2023-08-10T20:09:16.665856",
     "status": "completed"
    },
    "tags": []
   },
   "outputs": [
    {
     "data": {
      "text/plain": [
       "tensor(0.8258)"
      ]
     },
     "execution_count": 49,
     "metadata": {},
     "output_type": "execute_result"
    }
   ],
   "source": [
    "acc(coeffs)"
   ]
  },
  {
   "cell_type": "markdown",
   "id": "1b953bc7",
   "metadata": {
    "papermill": {
     "duration": 0.178274,
     "end_time": "2023-08-10T20:09:17.203120",
     "exception": false,
     "start_time": "2023-08-10T20:09:17.024846",
     "status": "completed"
    },
    "tags": []
   },
   "source": [
    "That's improved too! Here's the coefficients of our trained model:"
   ]
  },
  {
   "cell_type": "code",
   "execution_count": 50,
   "id": "472ceb96",
   "metadata": {
    "execution": {
     "iopub.execute_input": "2023-08-10T20:09:17.554884Z",
     "iopub.status.busy": "2023-08-10T20:09:17.554415Z",
     "iopub.status.idle": "2023-08-10T20:09:17.565624Z",
     "shell.execute_reply": "2023-08-10T20:09:17.564543Z"
    },
    "papermill": {
     "duration": 0.189626,
     "end_time": "2023-08-10T20:09:17.568338",
     "exception": false,
     "start_time": "2023-08-10T20:09:17.378712",
     "status": "completed"
    },
    "tags": []
   },
   "outputs": [
    {
     "data": {
      "text/plain": [
       "{'Age': tensor(-1.5061),\n",
       " 'SibSp': tensor(-1.1575),\n",
       " 'Parch': tensor(-0.4267),\n",
       " 'LogFare': tensor(0.2543),\n",
       " 'Sex_male': tensor(-10.3320),\n",
       " 'Sex_female': tensor(8.4185),\n",
       " 'Pclass_1': tensor(3.8389),\n",
       " 'Pclass_2': tensor(2.1398),\n",
       " 'Pclass_3': tensor(-6.2331),\n",
       " 'Embarked_C': tensor(1.4771),\n",
       " 'Embarked_Q': tensor(2.1168),\n",
       " 'Embarked_S': tensor(-4.7958)}"
      ]
     },
     "execution_count": 50,
     "metadata": {},
     "output_type": "execute_result"
    }
   ],
   "source": [
    "show_coeffs()"
   ]
  },
  {
   "cell_type": "markdown",
   "id": "a5310d53",
   "metadata": {
    "papermill": {
     "duration": 0.173378,
     "end_time": "2023-08-10T20:09:17.916397",
     "exception": false,
     "start_time": "2023-08-10T20:09:17.743019",
     "status": "completed"
    },
    "tags": []
   },
   "source": [
    "These coefficients seem reasonable -- in general, older people and males were less likely to survive, and first class passengers were more likely to survive."
   ]
  },
  {
   "cell_type": "markdown",
   "id": "42bf41bd",
   "metadata": {
    "papermill": {
     "duration": 0.180309,
     "end_time": "2023-08-10T20:09:18.271746",
     "exception": false,
     "start_time": "2023-08-10T20:09:18.091437",
     "status": "completed"
    },
    "tags": []
   },
   "source": [
    "## Submitting to Kaggle"
   ]
  },
  {
   "cell_type": "markdown",
   "id": "998a4fb0",
   "metadata": {
    "papermill": {
     "duration": 0.174208,
     "end_time": "2023-08-10T20:09:18.622096",
     "exception": false,
     "start_time": "2023-08-10T20:09:18.447888",
     "status": "completed"
    },
    "tags": []
   },
   "source": [
    "Now that we've got a trained model, we can prepare a submission to Kaggle. To do that, first we need to read the test set:"
   ]
  },
  {
   "cell_type": "code",
   "execution_count": 51,
   "id": "8685e3e0",
   "metadata": {
    "execution": {
     "iopub.execute_input": "2023-08-10T20:09:18.972586Z",
     "iopub.status.busy": "2023-08-10T20:09:18.972211Z",
     "iopub.status.idle": "2023-08-10T20:09:18.989010Z",
     "shell.execute_reply": "2023-08-10T20:09:18.987367Z"
    },
    "papermill": {
     "duration": 0.195402,
     "end_time": "2023-08-10T20:09:18.992170",
     "exception": false,
     "start_time": "2023-08-10T20:09:18.796768",
     "status": "completed"
    },
    "tags": []
   },
   "outputs": [],
   "source": [
    "tst_df = pd.read_csv(path/'test.csv')"
   ]
  },
  {
   "cell_type": "markdown",
   "id": "f4cedc3a",
   "metadata": {
    "papermill": {
     "duration": 0.176352,
     "end_time": "2023-08-10T20:09:19.345502",
     "exception": false,
     "start_time": "2023-08-10T20:09:19.169150",
     "status": "completed"
    },
    "tags": []
   },
   "source": [
    "In this case, it turns out that the test set is missing `Fare` for one passenger. We'll just fill it with `0` to avoid problems:"
   ]
  },
  {
   "cell_type": "code",
   "execution_count": 52,
   "id": "2491f9d1",
   "metadata": {
    "execution": {
     "iopub.execute_input": "2023-08-10T20:09:19.698676Z",
     "iopub.status.busy": "2023-08-10T20:09:19.698365Z",
     "iopub.status.idle": "2023-08-10T20:09:19.703847Z",
     "shell.execute_reply": "2023-08-10T20:09:19.702856Z"
    },
    "papermill": {
     "duration": 0.183746,
     "end_time": "2023-08-10T20:09:19.706139",
     "exception": false,
     "start_time": "2023-08-10T20:09:19.522393",
     "status": "completed"
    },
    "tags": []
   },
   "outputs": [],
   "source": [
    "tst_df['Fare'] = tst_df.Fare.fillna(0)"
   ]
  },
  {
   "cell_type": "markdown",
   "id": "3dc0005c",
   "metadata": {
    "papermill": {
     "duration": 0.179782,
     "end_time": "2023-08-10T20:09:20.062632",
     "exception": false,
     "start_time": "2023-08-10T20:09:19.882850",
     "status": "completed"
    },
    "tags": []
   },
   "source": [
    "Now we can just copy the same steps we did to our training set and do the same exact things on our test set to preprocess the data:"
   ]
  },
  {
   "cell_type": "code",
   "execution_count": 53,
   "id": "d3b11b83",
   "metadata": {
    "execution": {
     "iopub.execute_input": "2023-08-10T20:09:20.420260Z",
     "iopub.status.busy": "2023-08-10T20:09:20.419811Z",
     "iopub.status.idle": "2023-08-10T20:09:20.444373Z",
     "shell.execute_reply": "2023-08-10T20:09:20.443560Z"
    },
    "papermill": {
     "duration": 0.207339,
     "end_time": "2023-08-10T20:09:20.446851",
     "exception": false,
     "start_time": "2023-08-10T20:09:20.239512",
     "status": "completed"
    },
    "tags": []
   },
   "outputs": [],
   "source": [
    "tst_df.fillna(modes, inplace=True)\n",
    "tst_df['LogFare'] = np.log(tst_df['Fare']+1)\n",
    "tst_df = pd.get_dummies(tst_df, columns=[\"Sex\",\"Pclass\",\"Embarked\"])\n",
    "\n",
    "tst_indep = tensor(tst_df[indep_cols].values, dtype=torch.float)\n",
    "tst_indep = tst_indep / vals"
   ]
  },
  {
   "cell_type": "markdown",
   "id": "97cd12d1",
   "metadata": {
    "papermill": {
     "duration": 0.175062,
     "end_time": "2023-08-10T20:09:20.797234",
     "exception": false,
     "start_time": "2023-08-10T20:09:20.622172",
     "status": "completed"
    },
    "tags": []
   },
   "source": [
    "Let's calculate our predictions of which passengers survived in the test set:"
   ]
  },
  {
   "cell_type": "code",
   "execution_count": 54,
   "id": "49fb6814",
   "metadata": {
    "execution": {
     "iopub.execute_input": "2023-08-10T20:09:21.148656Z",
     "iopub.status.busy": "2023-08-10T20:09:21.148319Z",
     "iopub.status.idle": "2023-08-10T20:09:21.155556Z",
     "shell.execute_reply": "2023-08-10T20:09:21.154733Z"
    },
    "papermill": {
     "duration": 0.187004,
     "end_time": "2023-08-10T20:09:21.158224",
     "exception": false,
     "start_time": "2023-08-10T20:09:20.971220",
     "status": "completed"
    },
    "tags": []
   },
   "outputs": [],
   "source": [
    "tst_df['Survived'] = (calc_preds(tst_indep, coeffs)>0.5).int()"
   ]
  },
  {
   "cell_type": "markdown",
   "id": "99fc640d",
   "metadata": {
    "papermill": {
     "duration": 0.178859,
     "end_time": "2023-08-10T20:09:21.537221",
     "exception": false,
     "start_time": "2023-08-10T20:09:21.358362",
     "status": "completed"
    },
    "tags": []
   },
   "source": [
    "The sample submission on the Kaggle competition site shows that we're expected to upload a CSV with just `PassengerId` and `Survived`, so let's create that and save it:"
   ]
  },
  {
   "cell_type": "code",
   "execution_count": 55,
   "id": "028a037f",
   "metadata": {
    "execution": {
     "iopub.execute_input": "2023-08-10T20:09:21.889656Z",
     "iopub.status.busy": "2023-08-10T20:09:21.889108Z",
     "iopub.status.idle": "2023-08-10T20:09:21.901828Z",
     "shell.execute_reply": "2023-08-10T20:09:21.900425Z"
    },
    "papermill": {
     "duration": 0.192337,
     "end_time": "2023-08-10T20:09:21.904620",
     "exception": false,
     "start_time": "2023-08-10T20:09:21.712283",
     "status": "completed"
    },
    "tags": []
   },
   "outputs": [],
   "source": [
    "sub_df = tst_df[['PassengerId','Survived']]\n",
    "sub_df.to_csv('sub.csv', index=False)"
   ]
  },
  {
   "cell_type": "markdown",
   "id": "31b3ece7",
   "metadata": {
    "papermill": {
     "duration": 0.176732,
     "end_time": "2023-08-10T20:09:22.259165",
     "exception": false,
     "start_time": "2023-08-10T20:09:22.082433",
     "status": "completed"
    },
    "tags": []
   },
   "source": [
    "We can check the first few rows of the file to make sure it looks reasonable:"
   ]
  },
  {
   "cell_type": "code",
   "execution_count": 56,
   "id": "382b806e",
   "metadata": {
    "execution": {
     "iopub.execute_input": "2023-08-10T20:09:22.616238Z",
     "iopub.status.busy": "2023-08-10T20:09:22.615098Z",
     "iopub.status.idle": "2023-08-10T20:09:23.726745Z",
     "shell.execute_reply": "2023-08-10T20:09:23.725376Z"
    },
    "papermill": {
     "duration": 1.294216,
     "end_time": "2023-08-10T20:09:23.729682",
     "exception": false,
     "start_time": "2023-08-10T20:09:22.435466",
     "status": "completed"
    },
    "tags": []
   },
   "outputs": [
    {
     "name": "stdout",
     "output_type": "stream",
     "text": [
      "PassengerId,Survived\r\n",
      "892,0\r\n",
      "893,0\r\n",
      "894,0\r\n",
      "895,0\r\n",
      "896,0\r\n",
      "897,0\r\n",
      "898,1\r\n",
      "899,0\r\n",
      "900,1\r\n"
     ]
    }
   ],
   "source": [
    "!head sub.csv"
   ]
  },
  {
   "cell_type": "markdown",
   "id": "affddd7a",
   "metadata": {
    "papermill": {
     "duration": 0.177426,
     "end_time": "2023-08-10T20:09:24.082557",
     "exception": false,
     "start_time": "2023-08-10T20:09:23.905131",
     "status": "completed"
    },
    "tags": []
   },
   "source": [
    "When you click \"save version\" in Kaggle, and wait for the notebook to run, you'll see that `sub.csv` appears in the \"Data\" tab. Clicking on that file will show a *Submit* button, which allows you to submit to the competition."
   ]
  },
  {
   "cell_type": "markdown",
   "id": "dd89a2d9",
   "metadata": {
    "papermill": {
     "duration": 0.176009,
     "end_time": "2023-08-10T20:09:24.434326",
     "exception": false,
     "start_time": "2023-08-10T20:09:24.258317",
     "status": "completed"
    },
    "tags": []
   },
   "source": [
    "## Using matrix product"
   ]
  },
  {
   "cell_type": "markdown",
   "id": "a3003922",
   "metadata": {
    "papermill": {
     "duration": 0.17832,
     "end_time": "2023-08-10T20:09:24.793982",
     "exception": false,
     "start_time": "2023-08-10T20:09:24.615662",
     "status": "completed"
    },
    "tags": []
   },
   "source": [
    "We can make things quite a bit neater...\n",
    "\n",
    "Take a look at the inner-most calculation we're doing to get the predictions:"
   ]
  },
  {
   "cell_type": "code",
   "execution_count": 57,
   "id": "2bbde506",
   "metadata": {
    "execution": {
     "iopub.execute_input": "2023-08-10T20:09:25.151435Z",
     "iopub.status.busy": "2023-08-10T20:09:25.151055Z",
     "iopub.status.idle": "2023-08-10T20:09:25.161532Z",
     "shell.execute_reply": "2023-08-10T20:09:25.160807Z"
    },
    "papermill": {
     "duration": 0.190766,
     "end_time": "2023-08-10T20:09:25.163668",
     "exception": false,
     "start_time": "2023-08-10T20:09:24.972902",
     "status": "completed"
    },
    "tags": []
   },
   "outputs": [
    {
     "data": {
      "text/plain": [
       "tensor([ 12.3288, -14.8119, -15.4540, -13.1513, -13.3512, -13.6469,   3.6248,   5.3429, -22.0878,   3.1233, -21.8742, -15.6421, -21.5504,\n",
       "          3.9393, -21.9190, -12.0010, -12.3775,   5.3550, -13.5880,  -3.1015, -21.7237, -12.2081,  12.9767,   4.7427, -21.6525, -14.9135,\n",
       "         -2.7433, -12.3210, -21.5886,   3.9387,   5.3890,  -3.6196, -21.6296, -21.8454,  12.2159,  -3.2275, -12.0289,  13.4560, -21.7230,\n",
       "         -3.1366, -13.2462, -21.7230, -13.6831,  13.3092, -21.6477,  -3.5868, -21.6854, -21.8316, -14.8158,  -2.9386,  -5.3103, -22.2384,\n",
       "        -22.1097, -21.7466, -13.3780, -13.4909, -14.8119, -22.0690, -21.6666, -21.7818,  -5.4439, -21.7407, -12.6551, -21.6671,   4.9238,\n",
       "        -11.5777, -13.3323, -21.9638, -15.3030,   5.0243, -21.7614,   3.1820, -13.4721, -21.7170, -11.6066, -21.5737, -21.7230, -11.9652,\n",
       "        -13.2382, -13.7599, -13.2170,  13.1347, -21.7049, -21.7268,   4.9207,  -7.3198,  -5.3081,   7.1065,  11.4948, -13.3135, -21.8723,\n",
       "        -21.7230,  13.3603, -15.5670,   3.4105,  -7.2857, -13.7197,   3.6909,   3.9763, -14.7227, -21.8268,   3.9387, -21.8743, -21.8367,\n",
       "        -11.8518, -13.6712, -21.8299,   4.9440,  -5.4471, -21.9666,   5.1333,  -3.2187, -11.6008,  13.7920, -21.7230,  12.6369,  -3.7268,\n",
       "        -14.8119, -22.0637,  12.9468, -22.1610,  -6.1827, -14.8119,  -3.2838, -15.4540, -11.6950,  -2.9926,  -3.0110, -21.5664, -13.8268,\n",
       "          7.3426, -21.8418,   5.0744,   5.2582,  13.3415, -21.6289, -13.9898, -21.8112,  -7.3316,   5.2296, -13.4453,  12.7891, -22.1235,\n",
       "        -14.9625,  -3.4339,   6.3089, -21.9839,   3.1968,   7.2400,   2.8558,  -3.1187,   3.7965,   5.4667, -15.1101, -15.0597, -22.9391,\n",
       "        -21.7230,  -3.0346, -13.5206, -21.7011,  13.4425,  -7.2690, -21.8335, -12.0582,  13.0489,   6.7993,   5.2160,   5.0794, -12.6957,\n",
       "        -12.1838,  -3.0873, -21.6070,   7.0744, -21.7170, -22.1001,   6.8159, -11.6002, -21.6310])"
      ]
     },
     "execution_count": 57,
     "metadata": {},
     "output_type": "execute_result"
    }
   ],
   "source": [
    "(val_indep*coeffs).sum(axis=1)"
   ]
  },
  {
   "cell_type": "markdown",
   "id": "7d50c69a",
   "metadata": {
    "papermill": {
     "duration": 0.17898,
     "end_time": "2023-08-10T20:09:25.518763",
     "exception": false,
     "start_time": "2023-08-10T20:09:25.339783",
     "status": "completed"
    },
    "tags": []
   },
   "source": [
    "Multiplying elements together and then adding across rows is identical to doing a matrix-vector product! Python uses the `@` operator to indicate matrix products, and is supported by PyTorch tensors. Therefore, we can replicate the above calculate more simply like so:"
   ]
  },
  {
   "cell_type": "code",
   "execution_count": 58,
   "id": "e2bb108e",
   "metadata": {
    "execution": {
     "iopub.execute_input": "2023-08-10T20:09:25.873954Z",
     "iopub.status.busy": "2023-08-10T20:09:25.872937Z",
     "iopub.status.idle": "2023-08-10T20:09:25.889852Z",
     "shell.execute_reply": "2023-08-10T20:09:25.889114Z"
    },
    "papermill": {
     "duration": 0.197244,
     "end_time": "2023-08-10T20:09:25.892846",
     "exception": false,
     "start_time": "2023-08-10T20:09:25.695602",
     "status": "completed"
    },
    "tags": []
   },
   "outputs": [
    {
     "data": {
      "text/plain": [
       "tensor([ 12.3288, -14.8119, -15.4540, -13.1513, -13.3511, -13.6468,   3.6248,   5.3429, -22.0878,   3.1233, -21.8742, -15.6421, -21.5504,\n",
       "          3.9393, -21.9190, -12.0010, -12.3775,   5.3550, -13.5880,  -3.1015, -21.7237, -12.2081,  12.9767,   4.7427, -21.6525, -14.9135,\n",
       "         -2.7433, -12.3210, -21.5886,   3.9387,   5.3890,  -3.6196, -21.6296, -21.8454,  12.2159,  -3.2275, -12.0289,  13.4560, -21.7230,\n",
       "         -3.1366, -13.2462, -21.7230, -13.6831,  13.3092, -21.6477,  -3.5868, -21.6854, -21.8316, -14.8158,  -2.9386,  -5.3103, -22.2384,\n",
       "        -22.1097, -21.7466, -13.3780, -13.4909, -14.8119, -22.0690, -21.6666, -21.7818,  -5.4439, -21.7407, -12.6551, -21.6671,   4.9238,\n",
       "        -11.5777, -13.3323, -21.9638, -15.3030,   5.0243, -21.7614,   3.1820, -13.4721, -21.7170, -11.6066, -21.5737, -21.7230, -11.9652,\n",
       "        -13.2382, -13.7599, -13.2170,  13.1347, -21.7049, -21.7268,   4.9207,  -7.3198,  -5.3081,   7.1065,  11.4948, -13.3135, -21.8723,\n",
       "        -21.7230,  13.3603, -15.5670,   3.4105,  -7.2857, -13.7197,   3.6909,   3.9763, -14.7227, -21.8268,   3.9387, -21.8743, -21.8367,\n",
       "        -11.8518, -13.6712, -21.8299,   4.9440,  -5.4471, -21.9666,   5.1333,  -3.2187, -11.6008,  13.7920, -21.7230,  12.6369,  -3.7268,\n",
       "        -14.8119, -22.0637,  12.9468, -22.1610,  -6.1827, -14.8119,  -3.2838, -15.4540, -11.6950,  -2.9926,  -3.0110, -21.5664, -13.8268,\n",
       "          7.3426, -21.8418,   5.0744,   5.2582,  13.3415, -21.6289, -13.9898, -21.8112,  -7.3316,   5.2296, -13.4453,  12.7891, -22.1235,\n",
       "        -14.9625,  -3.4339,   6.3089, -21.9839,   3.1968,   7.2400,   2.8558,  -3.1187,   3.7965,   5.4667, -15.1101, -15.0597, -22.9391,\n",
       "        -21.7230,  -3.0346, -13.5206, -21.7011,  13.4425,  -7.2690, -21.8335, -12.0582,  13.0489,   6.7993,   5.2160,   5.0794, -12.6957,\n",
       "        -12.1838,  -3.0873, -21.6070,   7.0744, -21.7170, -22.1001,   6.8159, -11.6002, -21.6310])"
      ]
     },
     "execution_count": 58,
     "metadata": {},
     "output_type": "execute_result"
    }
   ],
   "source": [
    "val_indep@coeffs"
   ]
  },
  {
   "cell_type": "markdown",
   "id": "0876b533",
   "metadata": {
    "papermill": {
     "duration": 0.178453,
     "end_time": "2023-08-10T20:09:26.247925",
     "exception": false,
     "start_time": "2023-08-10T20:09:26.069472",
     "status": "completed"
    },
    "tags": []
   },
   "source": [
    "It also turns out that this is much faster, because matrix products in PyTorch are very highly optimised.\n",
    "\n",
    "Let's use this to replace how `calc_preds` works:"
   ]
  },
  {
   "cell_type": "code",
   "execution_count": 59,
   "id": "3aa812fc",
   "metadata": {
    "execution": {
     "iopub.execute_input": "2023-08-10T20:09:26.610176Z",
     "iopub.status.busy": "2023-08-10T20:09:26.608893Z",
     "iopub.status.idle": "2023-08-10T20:09:26.614621Z",
     "shell.execute_reply": "2023-08-10T20:09:26.613856Z"
    },
    "papermill": {
     "duration": 0.192762,
     "end_time": "2023-08-10T20:09:26.617385",
     "exception": false,
     "start_time": "2023-08-10T20:09:26.424623",
     "status": "completed"
    },
    "tags": []
   },
   "outputs": [],
   "source": [
    "def calc_preds(coeffs, indeps): return torch.sigmoid(indeps@coeffs)"
   ]
  },
  {
   "cell_type": "markdown",
   "id": "de9edd98",
   "metadata": {
    "papermill": {
     "duration": 0.175092,
     "end_time": "2023-08-10T20:09:26.969070",
     "exception": false,
     "start_time": "2023-08-10T20:09:26.793978",
     "status": "completed"
    },
    "tags": []
   },
   "source": [
    "In order to do matrix-matrix products (which we'll need in the next section), we need to turn `coeffs` into a column vector (i.e. a matrix with a single column), which we can do by passing a second argument `1` to `torch.rand()`, indicating that we want our coefficients to have one column:"
   ]
  },
  {
   "cell_type": "code",
   "execution_count": 60,
   "id": "a508b274",
   "metadata": {
    "execution": {
     "iopub.execute_input": "2023-08-10T20:09:27.326398Z",
     "iopub.status.busy": "2023-08-10T20:09:27.325567Z",
     "iopub.status.idle": "2023-08-10T20:09:27.331361Z",
     "shell.execute_reply": "2023-08-10T20:09:27.330126Z"
    },
    "papermill": {
     "duration": 0.187681,
     "end_time": "2023-08-10T20:09:27.334040",
     "exception": false,
     "start_time": "2023-08-10T20:09:27.146359",
     "status": "completed"
    },
    "tags": []
   },
   "outputs": [],
   "source": [
    "def init_coeffs(): return (torch.rand(n_coeff, 1)*0.1).requires_grad_()"
   ]
  },
  {
   "cell_type": "markdown",
   "id": "c76fc390",
   "metadata": {
    "papermill": {
     "duration": 0.175915,
     "end_time": "2023-08-10T20:09:27.687479",
     "exception": false,
     "start_time": "2023-08-10T20:09:27.511564",
     "status": "completed"
    },
    "tags": []
   },
   "source": [
    "We'll also need to turn our dependent variable into a column vector, which we can do by indexing the column dimension with the special value `None`, which tells PyTorch to add a new dimension in this position:"
   ]
  },
  {
   "cell_type": "code",
   "execution_count": 61,
   "id": "06ba69de",
   "metadata": {
    "execution": {
     "iopub.execute_input": "2023-08-10T20:09:28.044356Z",
     "iopub.status.busy": "2023-08-10T20:09:28.044034Z",
     "iopub.status.idle": "2023-08-10T20:09:28.049133Z",
     "shell.execute_reply": "2023-08-10T20:09:28.048188Z"
    },
    "papermill": {
     "duration": 0.186472,
     "end_time": "2023-08-10T20:09:28.051304",
     "exception": false,
     "start_time": "2023-08-10T20:09:27.864832",
     "status": "completed"
    },
    "tags": []
   },
   "outputs": [],
   "source": [
    "trn_dep = trn_dep[:,None]\n",
    "val_dep = val_dep[:,None]"
   ]
  },
  {
   "cell_type": "markdown",
   "id": "c3ee9924",
   "metadata": {
    "papermill": {
     "duration": 0.176347,
     "end_time": "2023-08-10T20:09:28.408722",
     "exception": false,
     "start_time": "2023-08-10T20:09:28.232375",
     "status": "completed"
    },
    "tags": []
   },
   "source": [
    "We can now train our model as before and confirm we get identical outputs...:"
   ]
  },
  {
   "cell_type": "code",
   "execution_count": 62,
   "id": "aaafa33e",
   "metadata": {
    "execution": {
     "iopub.execute_input": "2023-08-10T20:09:28.764277Z",
     "iopub.status.busy": "2023-08-10T20:09:28.763806Z",
     "iopub.status.idle": "2023-08-10T20:09:28.787750Z",
     "shell.execute_reply": "2023-08-10T20:09:28.787071Z"
    },
    "papermill": {
     "duration": 0.205637,
     "end_time": "2023-08-10T20:09:28.792087",
     "exception": false,
     "start_time": "2023-08-10T20:09:28.586450",
     "status": "completed"
    },
    "tags": []
   },
   "outputs": [
    {
     "name": "stdout",
     "output_type": "stream",
     "text": [
      "0.512; 0.323; 0.290; 0.205; 0.200; 0.198; 0.197; 0.197; 0.196; 0.196; 0.196; 0.195; 0.195; 0.195; 0.195; 0.195; 0.195; 0.194; 0.194; 0.194; 0.194; 0.194; 0.194; 0.194; 0.194; 0.194; 0.194; 0.194; 0.194; 0.194; "
     ]
    }
   ],
   "source": [
    "coeffs = train_model(lr=100)"
   ]
  },
  {
   "cell_type": "markdown",
   "id": "77876576",
   "metadata": {
    "papermill": {
     "duration": 0.181068,
     "end_time": "2023-08-10T20:09:29.155969",
     "exception": false,
     "start_time": "2023-08-10T20:09:28.974901",
     "status": "completed"
    },
    "tags": []
   },
   "source": [
    "...and identical accuracy:"
   ]
  },
  {
   "cell_type": "code",
   "execution_count": 63,
   "id": "d3eaebfc",
   "metadata": {
    "execution": {
     "iopub.execute_input": "2023-08-10T20:09:29.593739Z",
     "iopub.status.busy": "2023-08-10T20:09:29.593423Z",
     "iopub.status.idle": "2023-08-10T20:09:29.601251Z",
     "shell.execute_reply": "2023-08-10T20:09:29.600127Z"
    },
    "papermill": {
     "duration": 0.193324,
     "end_time": "2023-08-10T20:09:29.603762",
     "exception": false,
     "start_time": "2023-08-10T20:09:29.410438",
     "status": "completed"
    },
    "tags": []
   },
   "outputs": [
    {
     "data": {
      "text/plain": [
       "tensor(0.8258)"
      ]
     },
     "execution_count": 63,
     "metadata": {},
     "output_type": "execute_result"
    }
   ],
   "source": [
    "acc(coeffs)"
   ]
  },
  {
   "cell_type": "markdown",
   "id": "47c5b59d",
   "metadata": {
    "papermill": {
     "duration": 0.179006,
     "end_time": "2023-08-10T20:09:29.961146",
     "exception": false,
     "start_time": "2023-08-10T20:09:29.782140",
     "status": "completed"
    },
    "tags": []
   },
   "source": [
    "## A neural network"
   ]
  },
  {
   "cell_type": "markdown",
   "id": "d6cbc51c",
   "metadata": {
    "papermill": {
     "duration": 0.1778,
     "end_time": "2023-08-10T20:09:30.317909",
     "exception": false,
     "start_time": "2023-08-10T20:09:30.140109",
     "status": "completed"
    },
    "tags": []
   },
   "source": [
    "We've now got what we need to implement our neural network.\n",
    "\n",
    "First, we'll need to create coefficients for each of our layers. Our first set of coefficients will take our `n_coeff` inputs, and create `n_hidden` outputs. We can choose whatever `n_hidden` we like -- a higher number gives our network more flexibility, but makes it slower and harder to train. So we need a matrix of size `n_coeff` by `n_hidden`. We'll divide these coefficients by `n_hidden` so that when we sum them up in the next layer we'll end up with similar magnitude numbers to what we started with.\n",
    "\n",
    "Then our second layer will need to take the `n_hidden` inputs and create a single output, so that means we need a `n_hidden` by `1` matrix there. The second layer will also need a constant term added."
   ]
  },
  {
   "cell_type": "code",
   "execution_count": 64,
   "id": "7d9ef0ec",
   "metadata": {
    "execution": {
     "iopub.execute_input": "2023-08-10T20:09:30.678325Z",
     "iopub.status.busy": "2023-08-10T20:09:30.678003Z",
     "iopub.status.idle": "2023-08-10T20:09:30.684099Z",
     "shell.execute_reply": "2023-08-10T20:09:30.683132Z"
    },
    "papermill": {
     "duration": 0.189848,
     "end_time": "2023-08-10T20:09:30.686671",
     "exception": false,
     "start_time": "2023-08-10T20:09:30.496823",
     "status": "completed"
    },
    "tags": []
   },
   "outputs": [],
   "source": [
    "def init_coeffs(n_hidden=20):\n",
    "    layer1 = (torch.rand(n_coeff, n_hidden)-0.5)/n_hidden\n",
    "    layer2 = torch.rand(n_hidden, 1)-0.3\n",
    "    const = torch.rand(1)[0]\n",
    "    return layer1.requires_grad_(),layer2.requires_grad_(),const.requires_grad_()"
   ]
  },
  {
   "cell_type": "markdown",
   "id": "72796ac7",
   "metadata": {
    "papermill": {
     "duration": 0.17727,
     "end_time": "2023-08-10T20:09:31.041770",
     "exception": false,
     "start_time": "2023-08-10T20:09:30.864500",
     "status": "completed"
    },
    "tags": []
   },
   "source": [
    "Now we have our coefficients, we can create our neural net. The key steps are the two matrix products, `indeps@l1` and `res@l2` (where `res` is the output of the first layer). The first layer output is passed to `F.relu` (that's our non-linearity), and the second is passed to `torch.sigmoid` as before."
   ]
  },
  {
   "cell_type": "code",
   "execution_count": 65,
   "id": "931e7c86",
   "metadata": {
    "execution": {
     "iopub.execute_input": "2023-08-10T20:09:31.427913Z",
     "iopub.status.busy": "2023-08-10T20:09:31.427545Z",
     "iopub.status.idle": "2023-08-10T20:09:31.434178Z",
     "shell.execute_reply": "2023-08-10T20:09:31.433106Z"
    },
    "papermill": {
     "duration": 0.212448,
     "end_time": "2023-08-10T20:09:31.436645",
     "exception": false,
     "start_time": "2023-08-10T20:09:31.224197",
     "status": "completed"
    },
    "tags": []
   },
   "outputs": [],
   "source": [
    "import torch.nn.functional as F\n",
    "\n",
    "def calc_preds(coeffs, indeps):\n",
    "    l1,l2,const = coeffs\n",
    "    res = F.relu(indeps@l1)\n",
    "    res = res@l2 + const\n",
    "    return torch.sigmoid(res)"
   ]
  },
  {
   "cell_type": "markdown",
   "id": "8165192b",
   "metadata": {
    "papermill": {
     "duration": 0.177918,
     "end_time": "2023-08-10T20:09:31.796275",
     "exception": false,
     "start_time": "2023-08-10T20:09:31.618357",
     "status": "completed"
    },
    "tags": []
   },
   "source": [
    "Finally, now that we have more than one set of coefficients, we need to add a loop to update each one:"
   ]
  },
  {
   "cell_type": "code",
   "execution_count": 66,
   "id": "90b76c92",
   "metadata": {
    "execution": {
     "iopub.execute_input": "2023-08-10T20:09:32.159635Z",
     "iopub.status.busy": "2023-08-10T20:09:32.158608Z",
     "iopub.status.idle": "2023-08-10T20:09:32.164774Z",
     "shell.execute_reply": "2023-08-10T20:09:32.163906Z"
    },
    "papermill": {
     "duration": 0.191792,
     "end_time": "2023-08-10T20:09:32.167310",
     "exception": false,
     "start_time": "2023-08-10T20:09:31.975518",
     "status": "completed"
    },
    "tags": []
   },
   "outputs": [],
   "source": [
    "def update_coeffs(coeffs, lr):\n",
    "    for layer in coeffs:\n",
    "        layer.sub_(layer.grad * lr)\n",
    "        layer.grad.zero_()"
   ]
  },
  {
   "cell_type": "markdown",
   "id": "6091a83b",
   "metadata": {
    "papermill": {
     "duration": 0.181039,
     "end_time": "2023-08-10T20:09:32.528295",
     "exception": false,
     "start_time": "2023-08-10T20:09:32.347256",
     "status": "completed"
    },
    "tags": []
   },
   "source": [
    "That's it -- we're now ready to train our model!"
   ]
  },
  {
   "cell_type": "code",
   "execution_count": 67,
   "id": "7d957482",
   "metadata": {
    "execution": {
     "iopub.execute_input": "2023-08-10T20:09:32.887235Z",
     "iopub.status.busy": "2023-08-10T20:09:32.886694Z",
     "iopub.status.idle": "2023-08-10T20:09:32.925642Z",
     "shell.execute_reply": "2023-08-10T20:09:32.924660Z"
    },
    "papermill": {
     "duration": 0.221537,
     "end_time": "2023-08-10T20:09:32.928243",
     "exception": false,
     "start_time": "2023-08-10T20:09:32.706706",
     "status": "completed"
    },
    "tags": []
   },
   "outputs": [
    {
     "name": "stdout",
     "output_type": "stream",
     "text": [
      "0.543; 0.532; 0.520; 0.505; 0.487; 0.466; 0.439; 0.407; 0.373; 0.343; 0.319; 0.301; 0.286; 0.274; 0.264; 0.256; 0.250; 0.245; 0.240; 0.237; 0.234; 0.231; 0.229; 0.227; 0.226; 0.224; 0.223; 0.222; 0.221; 0.220; "
     ]
    }
   ],
   "source": [
    "coeffs = train_model(lr=1.4)"
   ]
  },
  {
   "cell_type": "code",
   "execution_count": 68,
   "id": "a8434fe4",
   "metadata": {
    "execution": {
     "iopub.execute_input": "2023-08-10T20:09:33.292655Z",
     "iopub.status.busy": "2023-08-10T20:09:33.292345Z",
     "iopub.status.idle": "2023-08-10T20:09:33.321439Z",
     "shell.execute_reply": "2023-08-10T20:09:33.320427Z"
    },
    "papermill": {
     "duration": 0.215006,
     "end_time": "2023-08-10T20:09:33.324206",
     "exception": false,
     "start_time": "2023-08-10T20:09:33.109200",
     "status": "completed"
    },
    "tags": []
   },
   "outputs": [
    {
     "name": "stdout",
     "output_type": "stream",
     "text": [
      "0.543; 0.400; 0.260; 0.390; 0.221; 0.211; 0.197; 0.195; 0.193; 0.193; 0.193; 0.193; 0.193; 0.193; 0.193; 0.193; 0.193; 0.192; 0.192; 0.192; 0.192; 0.192; 0.192; 0.192; 0.192; 0.192; 0.192; 0.192; 0.192; 0.192; "
     ]
    }
   ],
   "source": [
    "coeffs = train_model(lr=20)"
   ]
  },
  {
   "cell_type": "markdown",
   "id": "ce103e46",
   "metadata": {
    "papermill": {
     "duration": 0.182699,
     "end_time": "2023-08-10T20:09:33.685145",
     "exception": false,
     "start_time": "2023-08-10T20:09:33.502446",
     "status": "completed"
    },
    "tags": []
   },
   "source": [
    "It's looking good -- our loss is lower than before. Let's see if that translates to a better result on the validation set:"
   ]
  },
  {
   "cell_type": "code",
   "execution_count": 69,
   "id": "54f50883",
   "metadata": {
    "execution": {
     "iopub.execute_input": "2023-08-10T20:09:34.045394Z",
     "iopub.status.busy": "2023-08-10T20:09:34.045052Z",
     "iopub.status.idle": "2023-08-10T20:09:34.053001Z",
     "shell.execute_reply": "2023-08-10T20:09:34.051852Z"
    },
    "papermill": {
     "duration": 0.191512,
     "end_time": "2023-08-10T20:09:34.055350",
     "exception": false,
     "start_time": "2023-08-10T20:09:33.863838",
     "status": "completed"
    },
    "tags": []
   },
   "outputs": [
    {
     "data": {
      "text/plain": [
       "tensor(0.8258)"
      ]
     },
     "execution_count": 69,
     "metadata": {},
     "output_type": "execute_result"
    }
   ],
   "source": [
    "acc(coeffs)"
   ]
  },
  {
   "cell_type": "markdown",
   "id": "07b06bdc",
   "metadata": {
    "papermill": {
     "duration": 0.178676,
     "end_time": "2023-08-10T20:09:34.415935",
     "exception": false,
     "start_time": "2023-08-10T20:09:34.237259",
     "status": "completed"
    },
    "tags": []
   },
   "source": [
    "In this case our neural net isn't showing better results than the linear model. That's not surprising; this dataset is very small and very simple, and isn't the kind of thing we'd expect to see neural networks excel at. Furthermore, our validation set is too small to reliably see much accuracy difference. But the key thing is that we now know exactly what a real neural net looks like!"
   ]
  },
  {
   "cell_type": "markdown",
   "id": "12e28ab2",
   "metadata": {
    "papermill": {
     "duration": 0.180463,
     "end_time": "2023-08-10T20:09:34.777965",
     "exception": false,
     "start_time": "2023-08-10T20:09:34.597502",
     "status": "completed"
    },
    "tags": []
   },
   "source": [
    "## Deep learning"
   ]
  },
  {
   "cell_type": "markdown",
   "id": "88bc5eb0",
   "metadata": {
    "papermill": {
     "duration": 0.179701,
     "end_time": "2023-08-10T20:09:35.138480",
     "exception": false,
     "start_time": "2023-08-10T20:09:34.958779",
     "status": "completed"
    },
    "tags": []
   },
   "source": [
    "The neural net in the previous section only uses one hidden layer, so it doesn't count as \"deep\" learning. But we can use the exact same technique to make our neural net deep, by adding more matrix multiplications.\n",
    "\n",
    "First, we'll need to create additional coefficients for each layer:"
   ]
  },
  {
   "cell_type": "code",
   "execution_count": 70,
   "id": "6075fa3a",
   "metadata": {
    "execution": {
     "iopub.execute_input": "2023-08-10T20:09:35.501778Z",
     "iopub.status.busy": "2023-08-10T20:09:35.501424Z",
     "iopub.status.idle": "2023-08-10T20:09:35.509747Z",
     "shell.execute_reply": "2023-08-10T20:09:35.509064Z"
    },
    "papermill": {
     "duration": 0.191825,
     "end_time": "2023-08-10T20:09:35.512536",
     "exception": false,
     "start_time": "2023-08-10T20:09:35.320711",
     "status": "completed"
    },
    "tags": []
   },
   "outputs": [],
   "source": [
    "def init_coeffs():\n",
    "    hiddens = [10, 10]  # <-- set this to the size of each hidden layer you want\n",
    "    sizes = [n_coeff] + hiddens + [1]\n",
    "    n = len(sizes)\n",
    "    layers = [(torch.rand(sizes[i], sizes[i+1])-0.3)/sizes[i+1]*4 for i in range(n-1)]\n",
    "    consts = [(torch.rand(1)[0]-0.5)*0.1 for i in range(n-1)]\n",
    "    for l in layers+consts: l.requires_grad_()\n",
    "    return layers,consts"
   ]
  },
  {
   "cell_type": "markdown",
   "id": "4fbb1f91",
   "metadata": {
    "papermill": {
     "duration": 0.182834,
     "end_time": "2023-08-10T20:09:35.880420",
     "exception": false,
     "start_time": "2023-08-10T20:09:35.697586",
     "status": "completed"
    },
    "tags": []
   },
   "source": [
    "You'll notice here that there's a lot of messy constants to get the random numbers in just the right ranges. When you train the model in a moment, you'll see that the tiniest changes to these initialisations can cause our model to fail to train at all! This is a key reason that deep learning failed to make much progress in the early days -- it's very finicky to get a good starting point for our coefficients. Nowadays, we have ways to deal with that, which we'll learn about in other notebooks.\n",
    "\n",
    "Our deep learning `calc_preds` looks much the same as before, but now we loop through each layer, instead of listing them separately:"
   ]
  },
  {
   "cell_type": "code",
   "execution_count": 71,
   "id": "94e3f008",
   "metadata": {
    "execution": {
     "iopub.execute_input": "2023-08-10T20:09:36.242532Z",
     "iopub.status.busy": "2023-08-10T20:09:36.241274Z",
     "iopub.status.idle": "2023-08-10T20:09:36.248714Z",
     "shell.execute_reply": "2023-08-10T20:09:36.248016Z"
    },
    "papermill": {
     "duration": 0.189675,
     "end_time": "2023-08-10T20:09:36.250936",
     "exception": false,
     "start_time": "2023-08-10T20:09:36.061261",
     "status": "completed"
    },
    "tags": []
   },
   "outputs": [],
   "source": [
    "import torch.nn.functional as F\n",
    "\n",
    "def calc_preds(coeffs, indeps):\n",
    "    layers,consts = coeffs\n",
    "    n = len(layers)\n",
    "    res = indeps\n",
    "    for i,l in enumerate(layers):\n",
    "        res = res@l + consts[i]\n",
    "        if i!=n-1: res = F.relu(res)\n",
    "    return torch.sigmoid(res)"
   ]
  },
  {
   "cell_type": "markdown",
   "id": "0e45659d",
   "metadata": {
    "papermill": {
     "duration": 0.181652,
     "end_time": "2023-08-10T20:09:36.611270",
     "exception": false,
     "start_time": "2023-08-10T20:09:36.429618",
     "status": "completed"
    },
    "tags": []
   },
   "source": [
    "We also need a minor update to `update_coeffs` since we've got `layers` and `consts` separated now:"
   ]
  },
  {
   "cell_type": "code",
   "execution_count": 72,
   "id": "2ef369d3",
   "metadata": {
    "execution": {
     "iopub.execute_input": "2023-08-10T20:09:36.972547Z",
     "iopub.status.busy": "2023-08-10T20:09:36.972011Z",
     "iopub.status.idle": "2023-08-10T20:09:36.977419Z",
     "shell.execute_reply": "2023-08-10T20:09:36.976654Z"
    },
    "papermill": {
     "duration": 0.189243,
     "end_time": "2023-08-10T20:09:36.979691",
     "exception": false,
     "start_time": "2023-08-10T20:09:36.790448",
     "status": "completed"
    },
    "tags": []
   },
   "outputs": [],
   "source": [
    "def update_coeffs(coeffs, lr):\n",
    "    layers,consts = coeffs\n",
    "    for layer in layers+consts:\n",
    "        layer.sub_(layer.grad * lr)\n",
    "        layer.grad.zero_()"
   ]
  },
  {
   "cell_type": "markdown",
   "id": "0ba01a97",
   "metadata": {
    "papermill": {
     "duration": 0.181263,
     "end_time": "2023-08-10T20:09:37.345370",
     "exception": false,
     "start_time": "2023-08-10T20:09:37.164107",
     "status": "completed"
    },
    "tags": []
   },
   "source": [
    "Let's train our model..."
   ]
  },
  {
   "cell_type": "code",
   "execution_count": 73,
   "id": "10bc856c",
   "metadata": {
    "execution": {
     "iopub.execute_input": "2023-08-10T20:09:37.715335Z",
     "iopub.status.busy": "2023-08-10T20:09:37.714768Z",
     "iopub.status.idle": "2023-08-10T20:09:37.750590Z",
     "shell.execute_reply": "2023-08-10T20:09:37.749482Z"
    },
    "papermill": {
     "duration": 0.224423,
     "end_time": "2023-08-10T20:09:37.753144",
     "exception": false,
     "start_time": "2023-08-10T20:09:37.528721",
     "status": "completed"
    },
    "tags": []
   },
   "outputs": [
    {
     "name": "stdout",
     "output_type": "stream",
     "text": [
      "0.521; 0.483; 0.427; 0.379; 0.379; 0.379; 0.379; 0.378; 0.378; 0.378; 0.378; 0.378; 0.378; 0.378; 0.378; 0.378; 0.377; 0.376; 0.371; 0.333; 0.239; 0.224; 0.208; 0.204; 0.203; 0.203; 0.207; 0.197; 0.196; 0.195; "
     ]
    }
   ],
   "source": [
    "coeffs = train_model(lr=4)"
   ]
  },
  {
   "cell_type": "markdown",
   "id": "77364402",
   "metadata": {
    "papermill": {
     "duration": 0.180416,
     "end_time": "2023-08-10T20:09:38.115899",
     "exception": false,
     "start_time": "2023-08-10T20:09:37.935483",
     "status": "completed"
    },
    "tags": []
   },
   "source": [
    "...and check its accuracy:"
   ]
  },
  {
   "cell_type": "code",
   "execution_count": 74,
   "id": "902e848a",
   "metadata": {
    "execution": {
     "iopub.execute_input": "2023-08-10T20:09:38.485698Z",
     "iopub.status.busy": "2023-08-10T20:09:38.485208Z",
     "iopub.status.idle": "2023-08-10T20:09:38.492581Z",
     "shell.execute_reply": "2023-08-10T20:09:38.491612Z"
    },
    "papermill": {
     "duration": 0.196938,
     "end_time": "2023-08-10T20:09:38.494870",
     "exception": false,
     "start_time": "2023-08-10T20:09:38.297932",
     "status": "completed"
    },
    "tags": []
   },
   "outputs": [
    {
     "data": {
      "text/plain": [
       "tensor(0.8258)"
      ]
     },
     "execution_count": 74,
     "metadata": {},
     "output_type": "execute_result"
    }
   ],
   "source": [
    "acc(coeffs)"
   ]
  },
  {
   "cell_type": "markdown",
   "id": "0b12e8e9",
   "metadata": {
    "papermill": {
     "duration": 0.179783,
     "end_time": "2023-08-10T20:09:38.857416",
     "exception": false,
     "start_time": "2023-08-10T20:09:38.677633",
     "status": "completed"
    },
    "tags": []
   },
   "source": [
    "## Final thoughts"
   ]
  },
  {
   "cell_type": "markdown",
   "id": "aa19696e",
   "metadata": {
    "papermill": {
     "duration": 0.181513,
     "end_time": "2023-08-10T20:09:39.218780",
     "exception": false,
     "start_time": "2023-08-10T20:09:39.037267",
     "status": "completed"
    },
    "tags": []
   },
   "source": [
    "It's actually pretty cool that we've managed to create a real deep learning model from scratch and trained it to get over 80% accuracy on this task, all in the course of a single notebook!\n",
    "\n",
    "The \"real\" deep learning models that are used in research and industry look very similar to this, and in fact if you look inside the source code of any deep learning model you'll recognise the basic steps are the same.\n",
    "\n",
    "The biggest differences in practical models to what we have above are:\n",
    "\n",
    "- How initialisation and normalisation is done to ensure the model trains correctly every time\n",
    "- Regularization (to avoid over-fitting)\n",
    "- Modifying the neural net itself to take advantage of knowledge of the problem domain\n",
    "- Doing gradient descent steps on smaller batches, rather than the whole dataset.\n",
    "\n",
    "I'll be adding notebooks about all these later, and will add links here once they're ready.\n",
    "\n",
    "If you found this notebook useful, please remember to click the little up-arrow at the top to upvote it, since I like to know when people have found my work useful, and it helps others find it too. (BTW, be sure you're looking at my [original notebook here](https://www.kaggle.com/code/jhoward/linear-model-and-neural-net-from-scratch) when you do that, and are not on your own copy of it, otherwise your upvote won't get counted!) And if you have any questions or comments, please pop them below -- I read every comment I receive!"
   ]
  },
  {
   "cell_type": "code",
   "execution_count": null,
   "id": "61f52049",
   "metadata": {
    "papermill": {
     "duration": 0.196702,
     "end_time": "2023-08-10T20:09:39.609811",
     "exception": false,
     "start_time": "2023-08-10T20:09:39.413109",
     "status": "completed"
    },
    "tags": []
   },
   "outputs": [],
   "source": []
  }
 ],
 "metadata": {
  "kernelspec": {
   "display_name": "Python 3",
   "language": "python",
   "name": "python3"
  },
  "language_info": {
   "codemirror_mode": {
    "name": "ipython",
    "version": 3
   },
   "file_extension": ".py",
   "mimetype": "text/x-python",
   "name": "python",
   "nbconvert_exporter": "python",
   "pygments_lexer": "ipython3",
   "version": "3.7.12"
  },
  "papermill": {
   "default_parameters": {},
   "duration": 77.181704,
   "end_time": "2023-08-10T20:09:41.030042",
   "environment_variables": {},
   "exception": null,
   "input_path": "__notebook__.ipynb",
   "output_path": "__notebook__.ipynb",
   "parameters": {},
   "start_time": "2023-08-10T20:08:23.848338",
   "version": "2.3.4"
  }
 },
 "nbformat": 4,
 "nbformat_minor": 5
}

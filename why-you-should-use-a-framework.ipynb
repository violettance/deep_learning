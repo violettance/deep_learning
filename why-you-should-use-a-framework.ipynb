{
 "cells": [
  {
   "cell_type": "markdown",
   "id": "6356a188",
   "metadata": {
    "papermill": {
     "duration": 0.04546,
     "end_time": "2023-08-10T20:36:30.451598",
     "exception": false,
     "start_time": "2023-08-10T20:36:30.406138",
     "status": "completed"
    },
    "tags": []
   },
   "source": [
    "## Introduction and set up"
   ]
  },
  {
   "cell_type": "markdown",
   "id": "997f131b",
   "metadata": {
    "papermill": {
     "duration": 0.043273,
     "end_time": "2023-08-10T20:36:30.538976",
     "exception": false,
     "start_time": "2023-08-10T20:36:30.495703",
     "status": "completed"
    },
    "tags": []
   },
   "source": [
    "If you've finished going through my [Linear model and neural net from scratch\n",
    "](https://www.kaggle.com/code/jhoward/linear-model-and-neural-net-from-scratch) notebook, then now is a good time to look at how to do the same thing using a library, instead of doing it from scratch. We'll use fastai and PyTorch. The benefits of using these libraries is:\n",
    "\n",
    "- Best practices are handled for you automatically -- fast.ai has done thousands of hours of experiments to figure out what the best settings are for you\n",
    "- Less time getting set up, which means more time to try out your new ideas\n",
    "- Each idea you try will be less work, because fastai and PyTorch will do the many of the menial bits for you\n",
    "- You can always drop down from fastai to PyTorch if you need to customise any part (or drop down from the fastai Application API to the fastai mid or low tier APIs), or even drop down from PyTorch to plain python for deep customisation.\n",
    "\n",
    "Let's see how that looks in practice. We'll start by doing the same library setup as in the \"from scratch\" notebook:"
   ]
  },
  {
   "cell_type": "code",
   "execution_count": 1,
   "id": "bb0b414e",
   "metadata": {
    "_kg_hide-output": true,
    "execution": {
     "iopub.execute_input": "2023-08-10T20:36:30.628794Z",
     "iopub.status.busy": "2023-08-10T20:36:30.628264Z",
     "iopub.status.idle": "2023-08-10T20:36:59.482446Z",
     "shell.execute_reply": "2023-08-10T20:36:59.481363Z"
    },
    "papermill": {
     "duration": 28.902574,
     "end_time": "2023-08-10T20:36:59.485505",
     "exception": false,
     "start_time": "2023-08-10T20:36:30.582931",
     "status": "completed"
    },
    "tags": []
   },
   "outputs": [
    {
     "name": "stdout",
     "output_type": "stream",
     "text": [
      "\u001b[31mERROR: pip's dependency resolver does not currently take into account all the packages that are installed. This behaviour is the source of the following dependency conflicts.\r\n",
      "tensorflow-io 0.21.0 requires tensorflow-io-gcs-filesystem==0.21.0, which is not installed.\r\n",
      "tensorflow 2.6.3 requires absl-py~=0.10, but you have absl-py 1.0.0 which is incompatible.\r\n",
      "tensorflow 2.6.3 requires numpy~=1.19.2, but you have numpy 1.21.6 which is incompatible.\r\n",
      "tensorflow 2.6.3 requires six~=1.15.0, but you have six 1.16.0 which is incompatible.\r\n",
      "tensorflow 2.6.3 requires wrapt~=1.12.1, but you have wrapt 1.14.0 which is incompatible.\r\n",
      "tensorflow-transform 1.7.0 requires pyarrow<6,>=1, but you have pyarrow 7.0.0 which is incompatible.\r\n",
      "tensorflow-transform 1.7.0 requires tensorflow!=2.0.*,!=2.1.*,!=2.2.*,!=2.3.*,!=2.4.*,!=2.5.*,!=2.6.*,!=2.7.*,<2.9,>=1.15.5, but you have tensorflow 2.6.3 which is incompatible.\r\n",
      "tensorflow-serving-api 2.8.0 requires tensorflow<3,>=2.8.0, but you have tensorflow 2.6.3 which is incompatible.\r\n",
      "rich 12.4.1 requires typing-extensions<5.0,>=4.0.0; python_version < \"3.9\", but you have typing-extensions 3.10.0.2 which is incompatible.\r\n",
      "pytorch-lightning 1.6.3 requires typing-extensions>=4.0.0, but you have typing-extensions 3.10.0.2 which is incompatible.\r\n",
      "flax 0.4.2 requires typing-extensions>=4.1.1, but you have typing-extensions 3.10.0.2 which is incompatible.\r\n",
      "flake8 4.0.1 requires importlib-metadata<4.3; python_version < \"3.8\", but you have importlib-metadata 4.11.3 which is incompatible.\r\n",
      "apache-beam 2.37.0 requires dill<0.3.2,>=0.3.1.1, but you have dill 0.3.4 which is incompatible.\r\n",
      "apache-beam 2.37.0 requires httplib2<0.20.0,>=0.8, but you have httplib2 0.20.4 which is incompatible.\r\n",
      "apache-beam 2.37.0 requires pyarrow<7.0.0,>=0.15.1, but you have pyarrow 7.0.0 which is incompatible.\r\n",
      "aioitertools 0.10.0 requires typing_extensions>=4.0; python_version < \"3.10\", but you have typing-extensions 3.10.0.2 which is incompatible.\r\n",
      "aiobotocore 2.2.0 requires botocore<1.24.22,>=1.24.21, but you have botocore 1.25.12 which is incompatible.\u001b[0m\u001b[31m\r\n",
      "\u001b[0m"
     ]
    }
   ],
   "source": [
    "from pathlib import Path\n",
    "import os\n",
    "\n",
    "iskaggle = os.environ.get('KAGGLE_KERNEL_RUN_TYPE', '')\n",
    "if iskaggle:\n",
    "    path = Path('../input/titanic')\n",
    "    !pip install -Uqq fastai\n",
    "else:\n",
    "    import zipfile,kaggle\n",
    "    path = Path('titanic')\n",
    "    if not path.exists():\n",
    "        kaggle.api.competition_download_cli(str(path))\n",
    "        zipfile.ZipFile(f'{path}.zip').extractall(path)"
   ]
  },
  {
   "cell_type": "markdown",
   "id": "016c92ed",
   "metadata": {
    "papermill": {
     "duration": 0.044544,
     "end_time": "2023-08-10T20:36:59.577891",
     "exception": false,
     "start_time": "2023-08-10T20:36:59.533347",
     "status": "completed"
    },
    "tags": []
   },
   "source": [
    "We'll import the fastai tabular library, set a random seed so the notebook is reproducible, and pick a reasonable number of significant figures to display in our tables:"
   ]
  },
  {
   "cell_type": "code",
   "execution_count": 2,
   "id": "c777e73b",
   "metadata": {
    "execution": {
     "iopub.execute_input": "2023-08-10T20:36:59.669502Z",
     "iopub.status.busy": "2023-08-10T20:36:59.669132Z",
     "iopub.status.idle": "2023-08-10T20:37:02.537649Z",
     "shell.execute_reply": "2023-08-10T20:37:02.536940Z"
    },
    "papermill": {
     "duration": 2.917382,
     "end_time": "2023-08-10T20:37:02.540145",
     "exception": false,
     "start_time": "2023-08-10T20:36:59.622763",
     "status": "completed"
    },
    "tags": []
   },
   "outputs": [],
   "source": [
    "from fastai.tabular.all import *\n",
    "\n",
    "pd.options.display.float_format = '{:.2f}'.format\n",
    "set_seed(42)"
   ]
  },
  {
   "cell_type": "markdown",
   "id": "94333e90",
   "metadata": {
    "papermill": {
     "duration": 0.04406,
     "end_time": "2023-08-10T20:37:02.629050",
     "exception": false,
     "start_time": "2023-08-10T20:37:02.584990",
     "status": "completed"
    },
    "tags": []
   },
   "source": [
    "## Prep the data"
   ]
  },
  {
   "cell_type": "markdown",
   "id": "c838f9b4",
   "metadata": {
    "papermill": {
     "duration": 0.044258,
     "end_time": "2023-08-10T20:37:02.717409",
     "exception": false,
     "start_time": "2023-08-10T20:37:02.673151",
     "status": "completed"
    },
    "tags": []
   },
   "source": [
    "We'll read the CSV file just like we did before:"
   ]
  },
  {
   "cell_type": "code",
   "execution_count": 3,
   "id": "71ccb7a6",
   "metadata": {
    "execution": {
     "iopub.execute_input": "2023-08-10T20:37:02.807948Z",
     "iopub.status.busy": "2023-08-10T20:37:02.807601Z",
     "iopub.status.idle": "2023-08-10T20:37:02.828950Z",
     "shell.execute_reply": "2023-08-10T20:37:02.828127Z"
    },
    "papermill": {
     "duration": 0.069783,
     "end_time": "2023-08-10T20:37:02.831344",
     "exception": false,
     "start_time": "2023-08-10T20:37:02.761561",
     "status": "completed"
    },
    "tags": []
   },
   "outputs": [],
   "source": [
    "df = pd.read_csv(path/'train.csv')"
   ]
  },
  {
   "cell_type": "markdown",
   "id": "fc0d8b7f",
   "metadata": {
    "papermill": {
     "duration": 0.043924,
     "end_time": "2023-08-10T20:37:02.920134",
     "exception": false,
     "start_time": "2023-08-10T20:37:02.876210",
     "status": "completed"
    },
    "tags": []
   },
   "source": [
    "When you do everything from scratch, every bit of feature engineering requires a whole lot of work, since you have to think about things like dummy variables, normalization, missing values, and so on. But with fastai that's all done for you. So let's go wild and create lots of new features! We'll use a bunch of the most interesting ones from this fantastic [Titanic feature engineering notebook](https://www.kaggle.com/code/gunesevitan/titanic-advanced-feature-engineering-tutorial/) (and be sure to click that link and upvote that notebook if you like it to thank the author for their hard work!)"
   ]
  },
  {
   "cell_type": "code",
   "execution_count": 4,
   "id": "5b1e39ef",
   "metadata": {
    "execution": {
     "iopub.execute_input": "2023-08-10T20:37:03.014077Z",
     "iopub.status.busy": "2023-08-10T20:37:03.013332Z",
     "iopub.status.idle": "2023-08-10T20:37:03.183454Z",
     "shell.execute_reply": "2023-08-10T20:37:03.182701Z"
    },
    "papermill": {
     "duration": 0.220264,
     "end_time": "2023-08-10T20:37:03.185936",
     "exception": false,
     "start_time": "2023-08-10T20:37:02.965672",
     "status": "completed"
    },
    "tags": []
   },
   "outputs": [],
   "source": [
    "def add_features(df):\n",
    "    df['LogFare'] = np.log1p(df['Fare'])\n",
    "    df['Deck'] = df.Cabin.str[0].map(dict(A=\"ABC\", B=\"ABC\", C=\"ABC\", D=\"DE\", E=\"DE\", F=\"FG\", G=\"FG\"))\n",
    "    df['Family'] = df.SibSp+df.Parch\n",
    "    df['Alone'] = df.Family==0\n",
    "    df['TicketFreq'] = df.groupby('Ticket')['Ticket'].transform('count')\n",
    "    df['Title'] = df.Name.str.split(', ', expand=True)[1].str.split('.', expand=True)[0]\n",
    "    df['Title'] = df.Title.map(dict(Mr=\"Mr\",Miss=\"Miss\",Mrs=\"Mrs\",Master=\"Master\"))\n",
    "\n",
    "add_features(df)"
   ]
  },
  {
   "cell_type": "markdown",
   "id": "7a505319",
   "metadata": {
    "papermill": {
     "duration": 0.043802,
     "end_time": "2023-08-10T20:37:03.274538",
     "exception": false,
     "start_time": "2023-08-10T20:37:03.230736",
     "status": "completed"
    },
    "tags": []
   },
   "source": [
    "As we discussed in the last notebook, we can use `RandomSplitter` to separate out the training and validation sets:"
   ]
  },
  {
   "cell_type": "code",
   "execution_count": 5,
   "id": "cf7bd7ac",
   "metadata": {
    "execution": {
     "iopub.execute_input": "2023-08-10T20:37:03.365075Z",
     "iopub.status.busy": "2023-08-10T20:37:03.364753Z",
     "iopub.status.idle": "2023-08-10T20:37:03.370141Z",
     "shell.execute_reply": "2023-08-10T20:37:03.369496Z"
    },
    "papermill": {
     "duration": 0.05333,
     "end_time": "2023-08-10T20:37:03.372330",
     "exception": false,
     "start_time": "2023-08-10T20:37:03.319000",
     "status": "completed"
    },
    "tags": []
   },
   "outputs": [],
   "source": [
    "splits = RandomSplitter(seed=42)(df)"
   ]
  },
  {
   "cell_type": "markdown",
   "id": "57c4bc86",
   "metadata": {
    "papermill": {
     "duration": 0.044218,
     "end_time": "2023-08-10T20:37:03.460953",
     "exception": false,
     "start_time": "2023-08-10T20:37:03.416735",
     "status": "completed"
    },
    "tags": []
   },
   "source": [
    "Now the entire process of getting the data ready for training requires just this one cell!:"
   ]
  },
  {
   "cell_type": "code",
   "execution_count": 6,
   "id": "e13ddb67",
   "metadata": {
    "execution": {
     "iopub.execute_input": "2023-08-10T20:37:03.551078Z",
     "iopub.status.busy": "2023-08-10T20:37:03.550741Z",
     "iopub.status.idle": "2023-08-10T20:37:03.625650Z",
     "shell.execute_reply": "2023-08-10T20:37:03.624636Z"
    },
    "papermill": {
     "duration": 0.12292,
     "end_time": "2023-08-10T20:37:03.628149",
     "exception": false,
     "start_time": "2023-08-10T20:37:03.505229",
     "status": "completed"
    },
    "tags": []
   },
   "outputs": [],
   "source": [
    "dls = TabularPandas(\n",
    "    df, splits=splits,\n",
    "    procs = [Categorify, FillMissing, Normalize],\n",
    "    cat_names=[\"Sex\",\"Pclass\",\"Embarked\",\"Deck\", \"Title\"],\n",
    "    cont_names=['Age', 'SibSp', 'Parch', 'LogFare', 'Alone', 'TicketFreq', 'Family'],\n",
    "    y_names=\"Survived\", y_block = CategoryBlock(),\n",
    ").dataloaders(path=\".\")"
   ]
  },
  {
   "cell_type": "markdown",
   "id": "1bca4af3",
   "metadata": {
    "papermill": {
     "duration": 0.043955,
     "end_time": "2023-08-10T20:37:03.716447",
     "exception": false,
     "start_time": "2023-08-10T20:37:03.672492",
     "status": "completed"
    },
    "tags": []
   },
   "source": [
    "Here's what each of the parameters means:\n",
    "\n",
    "- Use `splits` for indices of training and validation sets:\n",
    "\n",
    "      splits=splits,\n",
    "    \n",
    "- Turn strings into categories, fill missing values in numeric columns with the median, normalise all numeric columns:\n",
    "    \n",
    "      procs = [Categorify, FillMissing, Normalize],\n",
    "    \n",
    "- These are the categorical independent variables:\n",
    "    \n",
    "      cat_names=[\"Sex\",\"Pclass\",\"Embarked\",\"Deck\", \"Title\"],\n",
    "    \n",
    "- These are the continuous independent variables:\n",
    "    \n",
    "      cont_names=['Age', 'SibSp', 'Parch', 'LogFare', 'Alone', 'TicketFreq', 'Family'],\n",
    "    \n",
    "- This is the dependent variable:\n",
    "    \n",
    "      y_names=\"Survived\",\n",
    "\n",
    "- The dependent variable is categorical (so build a classification model, not a regression model):\n",
    "\n",
    "      y_block = CategoryBlock(),"
   ]
  },
  {
   "cell_type": "markdown",
   "id": "0bad6dfb",
   "metadata": {
    "papermill": {
     "duration": 0.04376,
     "end_time": "2023-08-10T20:37:03.804531",
     "exception": false,
     "start_time": "2023-08-10T20:37:03.760771",
     "status": "completed"
    },
    "tags": []
   },
   "source": [
    "## Train the model"
   ]
  },
  {
   "cell_type": "markdown",
   "id": "b9dc779b",
   "metadata": {
    "papermill": {
     "duration": 0.043665,
     "end_time": "2023-08-10T20:37:03.892348",
     "exception": false,
     "start_time": "2023-08-10T20:37:03.848683",
     "status": "completed"
    },
    "tags": []
   },
   "source": [
    "The data and model together make up a `Learner`. To create one, we say what the data is (`dls`), and the size of each hidden layer (`[10,10]`), along with any metrics we want to print along the way:"
   ]
  },
  {
   "cell_type": "code",
   "execution_count": 7,
   "id": "aa1e9806",
   "metadata": {
    "execution": {
     "iopub.execute_input": "2023-08-10T20:37:03.983522Z",
     "iopub.status.busy": "2023-08-10T20:37:03.983190Z",
     "iopub.status.idle": "2023-08-10T20:37:03.998403Z",
     "shell.execute_reply": "2023-08-10T20:37:03.997687Z"
    },
    "papermill": {
     "duration": 0.064235,
     "end_time": "2023-08-10T20:37:04.000668",
     "exception": false,
     "start_time": "2023-08-10T20:37:03.936433",
     "status": "completed"
    },
    "tags": []
   },
   "outputs": [],
   "source": [
    "learn = tabular_learner(dls, metrics=accuracy, layers=[10,10])"
   ]
  },
  {
   "cell_type": "markdown",
   "id": "f633ca22",
   "metadata": {
    "papermill": {
     "duration": 0.04389,
     "end_time": "2023-08-10T20:37:04.089382",
     "exception": false,
     "start_time": "2023-08-10T20:37:04.045492",
     "status": "completed"
    },
    "tags": []
   },
   "source": [
    "You'll notice we didn't have to do any messing around to try to find a set of random coefficients that will train correctly -- that's all handled automatically.\n",
    "\n",
    "One handy feature that fastai can also tell us what learning rate to use:"
   ]
  },
  {
   "cell_type": "code",
   "execution_count": 8,
   "id": "38d78a2c",
   "metadata": {
    "execution": {
     "iopub.execute_input": "2023-08-10T20:37:04.183918Z",
     "iopub.status.busy": "2023-08-10T20:37:04.183264Z",
     "iopub.status.idle": "2023-08-10T20:37:06.552632Z",
     "shell.execute_reply": "2023-08-10T20:37:06.551584Z"
    },
    "papermill": {
     "duration": 2.419131,
     "end_time": "2023-08-10T20:37:06.555283",
     "exception": false,
     "start_time": "2023-08-10T20:37:04.136152",
     "status": "completed"
    },
    "tags": []
   },
   "outputs": [
    {
     "data": {
      "text/html": [
       "\n",
       "<style>\n",
       "    /* Turns off some styling */\n",
       "    progress {\n",
       "        /* gets rid of default border in Firefox and Opera. */\n",
       "        border: none;\n",
       "        /* Needs to be in here for Safari polyfill so background images work as expected. */\n",
       "        background-size: auto;\n",
       "    }\n",
       "    .progress-bar-interrupted, .progress-bar-interrupted::-webkit-progress-bar {\n",
       "        background: #F44336;\n",
       "    }\n",
       "</style>\n"
      ],
      "text/plain": [
       "<IPython.core.display.HTML object>"
      ]
     },
     "metadata": {},
     "output_type": "display_data"
    },
    {
     "data": {
      "text/html": [],
      "text/plain": [
       "<IPython.core.display.HTML object>"
      ]
     },
     "metadata": {},
     "output_type": "display_data"
    },
    {
     "data": {
      "text/plain": [
       "SuggestedLRs(slide=0.05754399299621582, valley=0.013182567432522774)"
      ]
     },
     "execution_count": 8,
     "metadata": {},
     "output_type": "execute_result"
    },
    {
     "data": {
      "image/png": "[encoded data removed]",
      "text/plain": [
       "<Figure size 432x288 with 1 Axes>"
      ]
     },
     "metadata": {
      "needs_background": "light"
     },
     "output_type": "display_data"
    }
   ],
   "source": [
    "learn.lr_find(suggest_funcs=(slide, valley))"
   ]
  },
  {
   "cell_type": "markdown",
   "id": "f6e72704",
   "metadata": {
    "papermill": {
     "duration": 0.047916,
     "end_time": "2023-08-10T20:37:06.650851",
     "exception": false,
     "start_time": "2023-08-10T20:37:06.602935",
     "status": "completed"
    },
    "tags": []
   },
   "source": [
    "The two colored points are both reasonable choices for a learning rate. I'll pick somewhere between the two (0.03) and train for a few epochs:"
   ]
  },
  {
   "cell_type": "code",
   "execution_count": 9,
   "id": "1c720123",
   "metadata": {
    "execution": {
     "iopub.execute_input": "2023-08-10T20:37:06.748186Z",
     "iopub.status.busy": "2023-08-10T20:37:06.747578Z",
     "iopub.status.idle": "2023-08-10T20:37:09.429149Z",
     "shell.execute_reply": "2023-08-10T20:37:09.428097Z"
    },
    "papermill": {
     "duration": 2.733742,
     "end_time": "2023-08-10T20:37:09.432174",
     "exception": false,
     "start_time": "2023-08-10T20:37:06.698432",
     "status": "completed"
    },
    "tags": []
   },
   "outputs": [
    {
     "data": {
      "text/html": [
       "\n",
       "<style>\n",
       "    /* Turns off some styling */\n",
       "    progress {\n",
       "        /* gets rid of default border in Firefox and Opera. */\n",
       "        border: none;\n",
       "        /* Needs to be in here for Safari polyfill so background images work as expected. */\n",
       "        background-size: auto;\n",
       "    }\n",
       "    .progress-bar-interrupted, .progress-bar-interrupted::-webkit-progress-bar {\n",
       "        background: #F44336;\n",
       "    }\n",
       "</style>\n"
      ],
      "text/plain": [
       "<IPython.core.display.HTML object>"
      ]
     },
     "metadata": {},
     "output_type": "display_data"
    },
    {
     "data": {
      "text/html": [
       "<table border=\"1\" class=\"dataframe\">\n",
       "  <thead>\n",
       "    <tr style=\"text-align: left;\">\n",
       "      <th>epoch</th>\n",
       "      <th>train_loss</th>\n",
       "      <th>valid_loss</th>\n",
       "      <th>accuracy</th>\n",
       "      <th>time</th>\n",
       "    </tr>\n",
       "  </thead>\n",
       "  <tbody>\n",
       "    <tr>\n",
       "      <td>0</td>\n",
       "      <td>0.577146</td>\n",
       "      <td>0.582949</td>\n",
       "      <td>0.606742</td>\n",
       "      <td>00:00</td>\n",
       "    </tr>\n",
       "    <tr>\n",
       "      <td>1</td>\n",
       "      <td>0.510818</td>\n",
       "      <td>0.498523</td>\n",
       "      <td>0.786517</td>\n",
       "      <td>00:00</td>\n",
       "    </tr>\n",
       "    <tr>\n",
       "      <td>2</td>\n",
       "      <td>0.467023</td>\n",
       "      <td>0.459841</td>\n",
       "      <td>0.797753</td>\n",
       "      <td>00:00</td>\n",
       "    </tr>\n",
       "    <tr>\n",
       "      <td>3</td>\n",
       "      <td>0.439957</td>\n",
       "      <td>0.468547</td>\n",
       "      <td>0.797753</td>\n",
       "      <td>00:00</td>\n",
       "    </tr>\n",
       "    <tr>\n",
       "      <td>4</td>\n",
       "      <td>0.427232</td>\n",
       "      <td>0.415261</td>\n",
       "      <td>0.825843</td>\n",
       "      <td>00:00</td>\n",
       "    </tr>\n",
       "    <tr>\n",
       "      <td>5</td>\n",
       "      <td>0.416340</td>\n",
       "      <td>0.437362</td>\n",
       "      <td>0.820225</td>\n",
       "      <td>00:00</td>\n",
       "    </tr>\n",
       "    <tr>\n",
       "      <td>6</td>\n",
       "      <td>0.408347</td>\n",
       "      <td>0.413253</td>\n",
       "      <td>0.848315</td>\n",
       "      <td>00:00</td>\n",
       "    </tr>\n",
       "    <tr>\n",
       "      <td>7</td>\n",
       "      <td>0.400442</td>\n",
       "      <td>0.406075</td>\n",
       "      <td>0.803371</td>\n",
       "      <td>00:00</td>\n",
       "    </tr>\n",
       "    <tr>\n",
       "      <td>8</td>\n",
       "      <td>0.397265</td>\n",
       "      <td>0.443730</td>\n",
       "      <td>0.820225</td>\n",
       "      <td>00:00</td>\n",
       "    </tr>\n",
       "    <tr>\n",
       "      <td>9</td>\n",
       "      <td>0.392389</td>\n",
       "      <td>0.432267</td>\n",
       "      <td>0.831461</td>\n",
       "      <td>00:00</td>\n",
       "    </tr>\n",
       "    <tr>\n",
       "      <td>10</td>\n",
       "      <td>0.389983</td>\n",
       "      <td>0.415383</td>\n",
       "      <td>0.831461</td>\n",
       "      <td>00:00</td>\n",
       "    </tr>\n",
       "    <tr>\n",
       "      <td>11</td>\n",
       "      <td>0.386057</td>\n",
       "      <td>0.425319</td>\n",
       "      <td>0.820225</td>\n",
       "      <td>00:00</td>\n",
       "    </tr>\n",
       "    <tr>\n",
       "      <td>12</td>\n",
       "      <td>0.382527</td>\n",
       "      <td>0.435054</td>\n",
       "      <td>0.831461</td>\n",
       "      <td>00:00</td>\n",
       "    </tr>\n",
       "    <tr>\n",
       "      <td>13</td>\n",
       "      <td>0.378309</td>\n",
       "      <td>0.429746</td>\n",
       "      <td>0.831461</td>\n",
       "      <td>00:00</td>\n",
       "    </tr>\n",
       "    <tr>\n",
       "      <td>14</td>\n",
       "      <td>0.374304</td>\n",
       "      <td>0.419489</td>\n",
       "      <td>0.825843</td>\n",
       "      <td>00:00</td>\n",
       "    </tr>\n",
       "    <tr>\n",
       "      <td>15</td>\n",
       "      <td>0.372190</td>\n",
       "      <td>0.425430</td>\n",
       "      <td>0.831461</td>\n",
       "      <td>00:00</td>\n",
       "    </tr>\n",
       "  </tbody>\n",
       "</table>"
      ],
      "text/plain": [
       "<IPython.core.display.HTML object>"
      ]
     },
     "metadata": {},
     "output_type": "display_data"
    }
   ],
   "source": [
    "learn.fit(16, lr=0.03)"
   ]
  },
  {
   "cell_type": "markdown",
   "id": "e52b532c",
   "metadata": {
    "papermill": {
     "duration": 0.049394,
     "end_time": "2023-08-10T20:37:09.535412",
     "exception": false,
     "start_time": "2023-08-10T20:37:09.486018",
     "status": "completed"
    },
    "tags": []
   },
   "source": [
    "We've got a similar accuracy to our previous \"from scratch\" model -- which isn't too surprising, since as we discussed, this dataset is too small and simple to really see much difference. A simple linear model already does a pretty good job. But that's OK -- the goal here is to show you how to get started with deep learning and understand how it really works, and the best way to do that is on small and easy to understand datasets."
   ]
  },
  {
   "cell_type": "markdown",
   "id": "834da64f",
   "metadata": {
    "papermill": {
     "duration": 0.050109,
     "end_time": "2023-08-10T20:37:09.636667",
     "exception": false,
     "start_time": "2023-08-10T20:37:09.586558",
     "status": "completed"
    },
    "tags": []
   },
   "source": [
    "## Submit to Kaggle"
   ]
  },
  {
   "cell_type": "markdown",
   "id": "22a3bd69",
   "metadata": {
    "papermill": {
     "duration": 0.05004,
     "end_time": "2023-08-10T20:37:09.737477",
     "exception": false,
     "start_time": "2023-08-10T20:37:09.687437",
     "status": "completed"
    },
    "tags": []
   },
   "source": [
    "One important feature of fastai is that all the information needed to apply the data transformations and the model to a new dataset are stored in the learner. You can call `export` to save it to a file to use it later in production, or you can use the trained model right away to get predictions on a test set.\n",
    "\n",
    "To submit to Kaggle, we'll need to read in the test set, and do the same feature engineering we did for the training set:"
   ]
  },
  {
   "cell_type": "code",
   "execution_count": 10,
   "id": "83aea39a",
   "metadata": {
    "execution": {
     "iopub.execute_input": "2023-08-10T20:37:09.841218Z",
     "iopub.status.busy": "2023-08-10T20:37:09.840902Z",
     "iopub.status.idle": "2023-08-10T20:37:09.870031Z",
     "shell.execute_reply": "2023-08-10T20:37:09.869200Z"
    },
    "papermill": {
     "duration": 0.084529,
     "end_time": "2023-08-10T20:37:09.872657",
     "exception": false,
     "start_time": "2023-08-10T20:37:09.788128",
     "status": "completed"
    },
    "tags": []
   },
   "outputs": [],
   "source": [
    "tst_df = pd.read_csv(path/'test.csv')\n",
    "tst_df['Fare'] = tst_df.Fare.fillna(0)\n",
    "add_features(tst_df)"
   ]
  },
  {
   "cell_type": "markdown",
   "id": "acf1ab64",
   "metadata": {
    "papermill": {
     "duration": 0.050238,
     "end_time": "2023-08-10T20:37:09.976297",
     "exception": false,
     "start_time": "2023-08-10T20:37:09.926059",
     "status": "completed"
    },
    "tags": []
   },
   "source": [
    "But we don't need to manually specify any of the processing steps necessary to get the data ready for modeling, since that's all saved in the learner. To specify we want to apply the same steps to a new dataset, use the `test_dl()` method:"
   ]
  },
  {
   "cell_type": "code",
   "execution_count": 11,
   "id": "6b8038ba",
   "metadata": {
    "execution": {
     "iopub.execute_input": "2023-08-10T20:37:10.078128Z",
     "iopub.status.busy": "2023-08-10T20:37:10.077155Z",
     "iopub.status.idle": "2023-08-10T20:37:10.100565Z",
     "shell.execute_reply": "2023-08-10T20:37:10.099681Z"
    },
    "papermill": {
     "duration": 0.077394,
     "end_time": "2023-08-10T20:37:10.103078",
     "exception": false,
     "start_time": "2023-08-10T20:37:10.025684",
     "status": "completed"
    },
    "tags": []
   },
   "outputs": [],
   "source": [
    "tst_dl = learn.dls.test_dl(tst_df)"
   ]
  },
  {
   "cell_type": "markdown",
   "id": "b43f7758",
   "metadata": {
    "papermill": {
     "duration": 0.048887,
     "end_time": "2023-08-10T20:37:10.202106",
     "exception": false,
     "start_time": "2023-08-10T20:37:10.153219",
     "status": "completed"
    },
    "tags": []
   },
   "source": [
    "Now we can use `get_preds` to get the predictions for the test set:"
   ]
  },
  {
   "cell_type": "code",
   "execution_count": 12,
   "id": "4f33edd9",
   "metadata": {
    "execution": {
     "iopub.execute_input": "2023-08-10T20:37:10.302101Z",
     "iopub.status.busy": "2023-08-10T20:37:10.301794Z",
     "iopub.status.idle": "2023-08-10T20:37:10.368041Z",
     "shell.execute_reply": "2023-08-10T20:37:10.367116Z"
    },
    "papermill": {
     "duration": 0.11927,
     "end_time": "2023-08-10T20:37:10.370644",
     "exception": false,
     "start_time": "2023-08-10T20:37:10.251374",
     "status": "completed"
    },
    "tags": []
   },
   "outputs": [
    {
     "data": {
      "text/html": [
       "\n",
       "<style>\n",
       "    /* Turns off some styling */\n",
       "    progress {\n",
       "        /* gets rid of default border in Firefox and Opera. */\n",
       "        border: none;\n",
       "        /* Needs to be in here for Safari polyfill so background images work as expected. */\n",
       "        background-size: auto;\n",
       "    }\n",
       "    .progress-bar-interrupted, .progress-bar-interrupted::-webkit-progress-bar {\n",
       "        background: #F44336;\n",
       "    }\n",
       "</style>\n"
      ],
      "text/plain": [
       "<IPython.core.display.HTML object>"
      ]
     },
     "metadata": {},
     "output_type": "display_data"
    },
    {
     "data": {
      "text/html": [],
      "text/plain": [
       "<IPython.core.display.HTML object>"
      ]
     },
     "metadata": {},
     "output_type": "display_data"
    }
   ],
   "source": [
    "preds,_ = learn.get_preds(dl=tst_dl)"
   ]
  },
  {
   "cell_type": "markdown",
   "id": "8504d551",
   "metadata": {
    "papermill": {
     "duration": 0.051442,
     "end_time": "2023-08-10T20:37:10.474557",
     "exception": false,
     "start_time": "2023-08-10T20:37:10.423115",
     "status": "completed"
    },
    "tags": []
   },
   "source": [
    "Finally, let's create a submission CSV just like we did in the previous notebook..."
   ]
  },
  {
   "cell_type": "code",
   "execution_count": 13,
   "id": "4bb142d8",
   "metadata": {
    "execution": {
     "iopub.execute_input": "2023-08-10T20:37:10.579680Z",
     "iopub.status.busy": "2023-08-10T20:37:10.579327Z",
     "iopub.status.idle": "2023-08-10T20:37:10.592339Z",
     "shell.execute_reply": "2023-08-10T20:37:10.591688Z"
    },
    "papermill": {
     "duration": 0.068084,
     "end_time": "2023-08-10T20:37:10.594658",
     "exception": false,
     "start_time": "2023-08-10T20:37:10.526574",
     "status": "completed"
    },
    "tags": []
   },
   "outputs": [],
   "source": [
    "tst_df['Survived'] = (preds[:,1]>0.5).int()\n",
    "sub_df = tst_df[['PassengerId','Survived']]\n",
    "sub_df.to_csv('sub.csv', index=False)"
   ]
  },
  {
   "cell_type": "markdown",
   "id": "ca18e2d6",
   "metadata": {
    "papermill": {
     "duration": 0.050419,
     "end_time": "2023-08-10T20:37:10.696275",
     "exception": false,
     "start_time": "2023-08-10T20:37:10.645856",
     "status": "completed"
    },
    "tags": []
   },
   "source": [
    "...and check that it looks reasonable:"
   ]
  },
  {
   "cell_type": "code",
   "execution_count": 14,
   "id": "284bbfb7",
   "metadata": {
    "execution": {
     "iopub.execute_input": "2023-08-10T20:37:10.800703Z",
     "iopub.status.busy": "2023-08-10T20:37:10.800360Z",
     "iopub.status.idle": "2023-08-10T20:37:11.896325Z",
     "shell.execute_reply": "2023-08-10T20:37:11.895024Z"
    },
    "papermill": {
     "duration": 1.151263,
     "end_time": "2023-08-10T20:37:11.899177",
     "exception": false,
     "start_time": "2023-08-10T20:37:10.747914",
     "status": "completed"
    },
    "tags": []
   },
   "outputs": [
    {
     "name": "stdout",
     "output_type": "stream",
     "text": [
      "PassengerId,Survived\r\n",
      "892,0\r\n",
      "893,0\r\n",
      "894,0\r\n",
      "895,0\r\n",
      "896,1\r\n",
      "897,0\r\n",
      "898,1\r\n",
      "899,0\r\n",
      "900,1\r\n"
     ]
    }
   ],
   "source": [
    "!head sub.csv"
   ]
  },
  {
   "cell_type": "markdown",
   "id": "bc7ab9c3",
   "metadata": {
    "papermill": {
     "duration": 0.051399,
     "end_time": "2023-08-10T20:37:12.001736",
     "exception": false,
     "start_time": "2023-08-10T20:37:11.950337",
     "status": "completed"
    },
    "tags": []
   },
   "source": [
    "## Ensembling"
   ]
  },
  {
   "cell_type": "markdown",
   "id": "3500776e",
   "metadata": {
    "papermill": {
     "duration": 0.050858,
     "end_time": "2023-08-10T20:37:12.103675",
     "exception": false,
     "start_time": "2023-08-10T20:37:12.052817",
     "status": "completed"
    },
    "tags": []
   },
   "source": [
    "Since it's so easy to create a model now, it's easier to play with more advanced modeling approaches. For instance, we can create five separate models, each trained from different random starting points, and average them. This is the simplest approach of [ensembling](https://machinelearningmastery.com/tour-of-ensemble-learning-algorithms/) models, which combines multiple models to generate predictions that are better than any of the single models in the ensemble.\n",
    "\n",
    "To create our ensemble, first we copy the three steps we used above to create and train a model, and apply it to the test set:"
   ]
  },
  {
   "cell_type": "code",
   "execution_count": 15,
   "id": "514a42e8",
   "metadata": {
    "execution": {
     "iopub.execute_input": "2023-08-10T20:37:12.209638Z",
     "iopub.status.busy": "2023-08-10T20:37:12.208511Z",
     "iopub.status.idle": "2023-08-10T20:37:12.214986Z",
     "shell.execute_reply": "2023-08-10T20:37:12.214176Z"
    },
    "papermill": {
     "duration": 0.062287,
     "end_time": "2023-08-10T20:37:12.217049",
     "exception": false,
     "start_time": "2023-08-10T20:37:12.154762",
     "status": "completed"
    },
    "tags": []
   },
   "outputs": [],
   "source": [
    "def ensemble():\n",
    "    learn = tabular_learner(dls, metrics=accuracy, layers=[10,10])\n",
    "    with learn.no_bar(),learn.no_logging(): learn.fit(16, lr=0.03)\n",
    "    return learn.get_preds(dl=tst_dl)[0]"
   ]
  },
  {
   "cell_type": "markdown",
   "id": "6c099d1b",
   "metadata": {
    "papermill": {
     "duration": 0.050934,
     "end_time": "2023-08-10T20:37:12.319100",
     "exception": false,
     "start_time": "2023-08-10T20:37:12.268166",
     "status": "completed"
    },
    "tags": []
   },
   "source": [
    "Now we run this five times, and collect the results into a list:"
   ]
  },
  {
   "cell_type": "code",
   "execution_count": 16,
   "id": "fbb7408d",
   "metadata": {
    "execution": {
     "iopub.execute_input": "2023-08-10T20:37:12.423101Z",
     "iopub.status.busy": "2023-08-10T20:37:12.422559Z",
     "iopub.status.idle": "2023-08-10T20:37:22.439896Z",
     "shell.execute_reply": "2023-08-10T20:37:22.439010Z"
    },
    "papermill": {
     "duration": 10.072254,
     "end_time": "2023-08-10T20:37:22.442302",
     "exception": false,
     "start_time": "2023-08-10T20:37:12.370048",
     "status": "completed"
    },
    "tags": []
   },
   "outputs": [
    {
     "data": {
      "text/html": [
       "\n",
       "<style>\n",
       "    /* Turns off some styling */\n",
       "    progress {\n",
       "        /* gets rid of default border in Firefox and Opera. */\n",
       "        border: none;\n",
       "        /* Needs to be in here for Safari polyfill so background images work as expected. */\n",
       "        background-size: auto;\n",
       "    }\n",
       "    .progress-bar-interrupted, .progress-bar-interrupted::-webkit-progress-bar {\n",
       "        background: #F44336;\n",
       "    }\n",
       "</style>\n"
      ],
      "text/plain": [
       "<IPython.core.display.HTML object>"
      ]
     },
     "metadata": {},
     "output_type": "display_data"
    },
    {
     "data": {
      "text/html": [],
      "text/plain": [
       "<IPython.core.display.HTML object>"
      ]
     },
     "metadata": {},
     "output_type": "display_data"
    },
    {
     "data": {
      "text/html": [
       "\n",
       "<style>\n",
       "    /* Turns off some styling */\n",
       "    progress {\n",
       "        /* gets rid of default border in Firefox and Opera. */\n",
       "        border: none;\n",
       "        /* Needs to be in here for Safari polyfill so background images work as expected. */\n",
       "        background-size: auto;\n",
       "    }\n",
       "    .progress-bar-interrupted, .progress-bar-interrupted::-webkit-progress-bar {\n",
       "        background: #F44336;\n",
       "    }\n",
       "</style>\n"
      ],
      "text/plain": [
       "<IPython.core.display.HTML object>"
      ]
     },
     "metadata": {},
     "output_type": "display_data"
    },
    {
     "data": {
      "text/html": [],
      "text/plain": [
       "<IPython.core.display.HTML object>"
      ]
     },
     "metadata": {},
     "output_type": "display_data"
    },
    {
     "data": {
      "text/html": [
       "\n",
       "<style>\n",
       "    /* Turns off some styling */\n",
       "    progress {\n",
       "        /* gets rid of default border in Firefox and Opera. */\n",
       "        border: none;\n",
       "        /* Needs to be in here for Safari polyfill so background images work as expected. */\n",
       "        background-size: auto;\n",
       "    }\n",
       "    .progress-bar-interrupted, .progress-bar-interrupted::-webkit-progress-bar {\n",
       "        background: #F44336;\n",
       "    }\n",
       "</style>\n"
      ],
      "text/plain": [
       "<IPython.core.display.HTML object>"
      ]
     },
     "metadata": {},
     "output_type": "display_data"
    },
    {
     "data": {
      "text/html": [],
      "text/plain": [
       "<IPython.core.display.HTML object>"
      ]
     },
     "metadata": {},
     "output_type": "display_data"
    },
    {
     "data": {
      "text/html": [
       "\n",
       "<style>\n",
       "    /* Turns off some styling */\n",
       "    progress {\n",
       "        /* gets rid of default border in Firefox and Opera. */\n",
       "        border: none;\n",
       "        /* Needs to be in here for Safari polyfill so background images work as expected. */\n",
       "        background-size: auto;\n",
       "    }\n",
       "    .progress-bar-interrupted, .progress-bar-interrupted::-webkit-progress-bar {\n",
       "        background: #F44336;\n",
       "    }\n",
       "</style>\n"
      ],
      "text/plain": [
       "<IPython.core.display.HTML object>"
      ]
     },
     "metadata": {},
     "output_type": "display_data"
    },
    {
     "data": {
      "text/html": [],
      "text/plain": [
       "<IPython.core.display.HTML object>"
      ]
     },
     "metadata": {},
     "output_type": "display_data"
    },
    {
     "data": {
      "text/html": [
       "\n",
       "<style>\n",
       "    /* Turns off some styling */\n",
       "    progress {\n",
       "        /* gets rid of default border in Firefox and Opera. */\n",
       "        border: none;\n",
       "        /* Needs to be in here for Safari polyfill so background images work as expected. */\n",
       "        background-size: auto;\n",
       "    }\n",
       "    .progress-bar-interrupted, .progress-bar-interrupted::-webkit-progress-bar {\n",
       "        background: #F44336;\n",
       "    }\n",
       "</style>\n"
      ],
      "text/plain": [
       "<IPython.core.display.HTML object>"
      ]
     },
     "metadata": {},
     "output_type": "display_data"
    },
    {
     "data": {
      "text/html": [],
      "text/plain": [
       "<IPython.core.display.HTML object>"
      ]
     },
     "metadata": {},
     "output_type": "display_data"
    }
   ],
   "source": [
    "learns = [ensemble() for _ in range(5)]"
   ]
  },
  {
   "cell_type": "markdown",
   "id": "7e551e8e",
   "metadata": {
    "papermill": {
     "duration": 0.058806,
     "end_time": "2023-08-10T20:37:22.560785",
     "exception": false,
     "start_time": "2023-08-10T20:37:22.501979",
     "status": "completed"
    },
    "tags": []
   },
   "source": [
    "We stack this predictions together and take their average predictions:"
   ]
  },
  {
   "cell_type": "code",
   "execution_count": 17,
   "id": "8a98dcbc",
   "metadata": {
    "execution": {
     "iopub.execute_input": "2023-08-10T20:37:22.680329Z",
     "iopub.status.busy": "2023-08-10T20:37:22.679982Z",
     "iopub.status.idle": "2023-08-10T20:37:22.685474Z",
     "shell.execute_reply": "2023-08-10T20:37:22.684704Z"
    },
    "papermill": {
     "duration": 0.067766,
     "end_time": "2023-08-10T20:37:22.687537",
     "exception": false,
     "start_time": "2023-08-10T20:37:22.619771",
     "status": "completed"
    },
    "tags": []
   },
   "outputs": [],
   "source": [
    "ens_preds = torch.stack(learns).mean(0)"
   ]
  },
  {
   "cell_type": "markdown",
   "id": "641119d9",
   "metadata": {
    "papermill": {
     "duration": 0.058536,
     "end_time": "2023-08-10T20:37:22.805423",
     "exception": false,
     "start_time": "2023-08-10T20:37:22.746887",
     "status": "completed"
    },
    "tags": []
   },
   "source": [
    "Finally, use the same code as before to generate a submission file, which we can submit to Kaggle after the notebook is saved and run:"
   ]
  },
  {
   "cell_type": "code",
   "execution_count": 18,
   "id": "0b59dfa5",
   "metadata": {
    "execution": {
     "iopub.execute_input": "2023-08-10T20:37:22.927242Z",
     "iopub.status.busy": "2023-08-10T20:37:22.926402Z",
     "iopub.status.idle": "2023-08-10T20:37:22.936278Z",
     "shell.execute_reply": "2023-08-10T20:37:22.935522Z"
    },
    "papermill": {
     "duration": 0.072927,
     "end_time": "2023-08-10T20:37:22.938688",
     "exception": false,
     "start_time": "2023-08-10T20:37:22.865761",
     "status": "completed"
    },
    "tags": []
   },
   "outputs": [],
   "source": [
    "tst_df['Survived'] = (ens_preds[:,1]>0.5).int()\n",
    "sub_df = tst_df[['PassengerId','Survived']]\n",
    "sub_df.to_csv('ens_sub.csv', index=False)"
   ]
  },
  {
   "cell_type": "markdown",
   "id": "a6548c37",
   "metadata": {
    "papermill": {
     "duration": 0.059211,
     "end_time": "2023-08-10T20:37:23.058363",
     "exception": false,
     "start_time": "2023-08-10T20:37:22.999152",
     "status": "completed"
    },
    "tags": []
   },
   "source": [
    "At the time of writing, this submission is well within the top 25% of entries to the competition.\n",
    "\n",
    "(A lot of submissions to this competition use additional external data, but we have restricted ourselves to just using the data provided. We'd probably do a lot better if we used external data too. Feel free to give that a try, and see how you go. Note that you'll never be able to get to the top of the leaderboard, since a lot of folks in this competition have cheated, by downloading the answers from the internet and uploading them as their submission. In a real competition that's not possible, because the answers aren't public, but there's nothing stopping people from cheating in a tutorial/practice competition like this one. So if you're ready for a real challenge, take a look at the [competitions page](https://www.kaggle.com/competitions/) and start working on a real competition!)"
   ]
  },
  {
   "cell_type": "markdown",
   "id": "61ab00b8",
   "metadata": {
    "papermill": {
     "duration": 0.058949,
     "end_time": "2023-08-10T20:37:23.176867",
     "exception": false,
     "start_time": "2023-08-10T20:37:23.117918",
     "status": "completed"
    },
    "tags": []
   },
   "source": [
    "## Final thoughts"
   ]
  },
  {
   "cell_type": "markdown",
   "id": "e2b8bc30",
   "metadata": {
    "papermill": {
     "duration": 0.058744,
     "end_time": "2023-08-10T20:37:23.296787",
     "exception": false,
     "start_time": "2023-08-10T20:37:23.238043",
     "status": "completed"
    },
    "tags": []
   },
   "source": [
    "As you can see, using fastai and PyTorch made things much easier than doing it from scratch, but it also hid away a lot of the details. So if you only ever use a framework, you're not going to as fully understand what's going on under the hood. That understanding can be really helpful when it comes to debugging and improving your models. But do use fastai when you're creating models on Kaggle or in \"real life\", because otherwise you're not taking advantage of all the research that's gone into optimising the models for you, and you'll end up spending more time debugging and implementing menial boiler-plate than actually solving the real problem!\n",
    "\n",
    "If you found this notebook useful, please remember to click the little up-arrow at the top to upvote it, since I like to know when people have found my work useful, and it helps others find it too. (BTW, be sure you're looking at my [original notebook](https://www.kaggle.com/jhoward/why-you-should-use-a-framework) here when you do that, and are not on your own copy of it, otherwise your upvote won't get counted!) And if you have any questions or comments, please pop them below -- I read every comment I receive!"
   ]
  }
 ],
 "metadata": {
  "kernelspec": {
   "display_name": "Python 3",
   "language": "python",
   "name": "python3"
  },
  "language_info": {
   "codemirror_mode": {
    "name": "ipython",
    "version": 3
   },
   "file_extension": ".py",
   "mimetype": "text/x-python",
   "name": "python",
   "nbconvert_exporter": "python",
   "pygments_lexer": "ipython3",
   "version": "3.7.12"
  },
  "papermill": {
   "default_parameters": {},
   "duration": 65.233064,
   "end_time": "2023-08-10T20:37:24.380191",
   "environment_variables": {},
   "exception": null,
   "input_path": "__notebook__.ipynb",
   "output_path": "__notebook__.ipynb",
   "parameters": {},
   "start_time": "2023-08-10T20:36:19.147127",
   "version": "2.3.4"
  }
 },
 "nbformat": 4,
 "nbformat_minor": 5
}

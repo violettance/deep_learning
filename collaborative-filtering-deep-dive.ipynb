{
 "cells": [
  {
   "cell_type": "code",
   "execution_count": 1,
   "id": "d367d74b",
   "metadata": {
    "execution": {
     "iopub.execute_input": "2023-08-12T20:29:23.925118Z",
     "iopub.status.busy": "2023-08-12T20:29:23.924332Z",
     "iopub.status.idle": "2023-08-12T20:29:27.252553Z",
     "shell.execute_reply": "2023-08-12T20:29:27.250915Z"
    },
    "papermill": {
     "duration": 3.376363,
     "end_time": "2023-08-12T20:29:27.255937",
     "exception": false,
     "start_time": "2023-08-12T20:29:23.879574",
     "status": "completed"
    },
    "tags": []
   },
   "outputs": [],
   "source": [
    "from fastai.collab import *\n",
    "from fastai.tabular.all import *\n",
    "set_seed(42)"
   ]
  },
  {
   "cell_type": "markdown",
   "id": "051ec5ab",
   "metadata": {
    "papermill": {
     "duration": 0.039985,
     "end_time": "2023-08-12T20:29:27.337385",
     "exception": false,
     "start_time": "2023-08-12T20:29:27.297400",
     "status": "completed"
    },
    "tags": []
   },
   "source": [
    "> *This is chapter 8 of the book [Practical Deep Learning for Coders](https://www.amazon.com/Deep-Learning-Coders-fastai-PyTorch/dp/1492045527), provided courtesy of O'Reilly Media. The full book is [available as Jupyter Notebooks](https://github.com/fastai/fastbook/). A free course that covers the book is [available here](https://course.fast.ai/).*\n",
    ">\n",
    "> Click **Copy and Edit** in the top right to run the code in this notebook yourself."
   ]
  },
  {
   "cell_type": "markdown",
   "id": "4d224928",
   "metadata": {
    "papermill": {
     "duration": 0.039118,
     "end_time": "2023-08-12T20:29:27.417337",
     "exception": false,
     "start_time": "2023-08-12T20:29:27.378219",
     "status": "completed"
    },
    "tags": []
   },
   "source": [
    "One very common problem to solve is when you have a number of users and a number of products, and you want to recommend which products are most likely to be useful for which users. There are many variations of this: for example, recommending movies (such as on Netflix), figuring out what to highlight for a user on a home page, deciding what stories to show in a social media feed, and so forth. There is a general solution to this problem, called *collaborative filtering*, which works like this: look at what products the current user has used or liked, find other users that have used or liked similar products, and then recommend other products that those users have used or liked.\n",
    "\n",
    "For example, on Netflix you may have watched lots of movies that are science fiction, full of action, and were made in the 1970s. Netflix may not know these particular properties of the films you have watched, but it will be able to see that other people that have watched the same movies that you watched also tended to watch other movies that are science fiction, full of action, and were made in the 1970s. In other words, to use this approach we don't necessarily need to know anything about the movies, except who like to watch them.\n",
    "\n",
    "There is actually a more general class of problems that this approach can solve, not necessarily involving users and products. Indeed, for collaborative filtering we more commonly refer to *items*, rather than *products*. Items could be links that people click on, diagnoses that are selected for patients, and so forth.\n",
    "\n",
    "The key foundational idea is that of *latent factors*. In the Netflix example, we started with the assumption that you like old, action-packed sci-fi movies. But you never actually told Netflix that you like these kinds of movies. And Netflix never actually needed to add columns to its movies table saying which movies are of these types. Still, there must be some underlying concept of sci-fi, action, and movie age, and these concepts must be relevant for at least some people's movie watching decisions."
   ]
  },
  {
   "cell_type": "markdown",
   "id": "eacce2d3",
   "metadata": {
    "papermill": {
     "duration": 0.038363,
     "end_time": "2023-08-12T20:29:27.494466",
     "exception": false,
     "start_time": "2023-08-12T20:29:27.456103",
     "status": "completed"
    },
    "tags": []
   },
   "source": [
    "For this chapter we are going to work on this movie recommendation problem. We'll start by getting some data suitable for a collaborative filtering model."
   ]
  },
  {
   "cell_type": "markdown",
   "id": "d85f6d1d",
   "metadata": {
    "papermill": {
     "duration": 0.038932,
     "end_time": "2023-08-12T20:29:27.572798",
     "exception": false,
     "start_time": "2023-08-12T20:29:27.533866",
     "status": "completed"
    },
    "tags": []
   },
   "source": [
    "## A First Look at the Data"
   ]
  },
  {
   "cell_type": "markdown",
   "id": "ea004399",
   "metadata": {
    "papermill": {
     "duration": 0.039187,
     "end_time": "2023-08-12T20:29:27.650665",
     "exception": false,
     "start_time": "2023-08-12T20:29:27.611478",
     "status": "completed"
    },
    "tags": []
   },
   "source": [
    "We do not have access to Netflix's entire dataset of movie watching history, but there is a great dataset that we can use, called [MovieLens](https://grouplens.org/datasets/movielens/). This dataset contains tens of millions of movie rankings (a combination of a movie ID, a user ID, and a numeric rating), although we will just use a subset of 100,000 of them for our example. If you're interested, it would be a great learning project to try and replicate this approach on the full 25-million recommendation dataset, which you can get from their website."
   ]
  },
  {
   "cell_type": "markdown",
   "id": "adb6063f",
   "metadata": {
    "papermill": {
     "duration": 0.038268,
     "end_time": "2023-08-12T20:29:27.727628",
     "exception": false,
     "start_time": "2023-08-12T20:29:27.689360",
     "status": "completed"
    },
    "tags": []
   },
   "source": [
    "The dataset is available through the usual fastai function:"
   ]
  },
  {
   "cell_type": "code",
   "execution_count": 2,
   "id": "b13f9fad",
   "metadata": {
    "execution": {
     "iopub.execute_input": "2023-08-12T20:29:27.808367Z",
     "iopub.status.busy": "2023-08-12T20:29:27.807674Z",
     "iopub.status.idle": "2023-08-12T20:29:28.796438Z",
     "shell.execute_reply": "2023-08-12T20:29:28.795144Z"
    },
    "papermill": {
     "duration": 1.032312,
     "end_time": "2023-08-12T20:29:28.799521",
     "exception": false,
     "start_time": "2023-08-12T20:29:27.767209",
     "status": "completed"
    },
    "tags": []
   },
   "outputs": [
    {
     "data": {
      "text/html": [
       "\n",
       "<style>\n",
       "    /* Turns off some styling */\n",
       "    progress {\n",
       "        /* gets rid of default border in Firefox and Opera. */\n",
       "        border: none;\n",
       "        /* Needs to be in here for Safari polyfill so background images work as expected. */\n",
       "        background-size: auto;\n",
       "    }\n",
       "    .progress-bar-interrupted, .progress-bar-interrupted::-webkit-progress-bar {\n",
       "        background: #F44336;\n",
       "    }\n",
       "</style>\n"
      ],
      "text/plain": [
       "<IPython.core.display.HTML object>"
      ]
     },
     "metadata": {},
     "output_type": "display_data"
    },
    {
     "data": {
      "text/html": [
       "\n",
       "    <div>\n",
       "      <progress value='4931584' class='' max='4924029' style='width:300px; height:20px; vertical-align: middle;'></progress>\n",
       "      100.15% [4931584/4924029 00:00<00:00]\n",
       "    </div>\n",
       "    "
      ],
      "text/plain": [
       "<IPython.core.display.HTML object>"
      ]
     },
     "metadata": {},
     "output_type": "display_data"
    }
   ],
   "source": [
    "path = untar_data(URLs.ML_100k)"
   ]
  },
  {
   "cell_type": "markdown",
   "id": "913d3efe",
   "metadata": {
    "papermill": {
     "duration": 0.039171,
     "end_time": "2023-08-12T20:29:28.877835",
     "exception": false,
     "start_time": "2023-08-12T20:29:28.838664",
     "status": "completed"
    },
    "tags": []
   },
   "source": [
    "According to the *README*, the main table is in the file *u.data*. It is tab-separated and the columns are, respectively user, movie, rating, and timestamp. Since those names are not encoded, we need to indicate them when reading the file with Pandas. Here is a way to open this table and take a look:"
   ]
  },
  {
   "cell_type": "code",
   "execution_count": 3,
   "id": "dd0c9895",
   "metadata": {
    "execution": {
     "iopub.execute_input": "2023-08-12T20:29:28.960430Z",
     "iopub.status.busy": "2023-08-12T20:29:28.959990Z",
     "iopub.status.idle": "2023-08-12T20:29:29.038981Z",
     "shell.execute_reply": "2023-08-12T20:29:29.038091Z"
    },
    "papermill": {
     "duration": 0.123384,
     "end_time": "2023-08-12T20:29:29.041449",
     "exception": false,
     "start_time": "2023-08-12T20:29:28.918065",
     "status": "completed"
    },
    "tags": []
   },
   "outputs": [
    {
     "data": {
      "text/html": [
       "<div>\n",
       "<style scoped>\n",
       "    .dataframe tbody tr th:only-of-type {\n",
       "        vertical-align: middle;\n",
       "    }\n",
       "\n",
       "    .dataframe tbody tr th {\n",
       "        vertical-align: top;\n",
       "    }\n",
       "\n",
       "    .dataframe thead th {\n",
       "        text-align: right;\n",
       "    }\n",
       "</style>\n",
       "<table border=\"1\" class=\"dataframe\">\n",
       "  <thead>\n",
       "    <tr style=\"text-align: right;\">\n",
       "      <th></th>\n",
       "      <th>user</th>\n",
       "      <th>movie</th>\n",
       "      <th>rating</th>\n",
       "      <th>timestamp</th>\n",
       "    </tr>\n",
       "  </thead>\n",
       "  <tbody>\n",
       "    <tr>\n",
       "      <th>0</th>\n",
       "      <td>196</td>\n",
       "      <td>242</td>\n",
       "      <td>3</td>\n",
       "      <td>881250949</td>\n",
       "    </tr>\n",
       "    <tr>\n",
       "      <th>1</th>\n",
       "      <td>186</td>\n",
       "      <td>302</td>\n",
       "      <td>3</td>\n",
       "      <td>891717742</td>\n",
       "    </tr>\n",
       "    <tr>\n",
       "      <th>2</th>\n",
       "      <td>22</td>\n",
       "      <td>377</td>\n",
       "      <td>1</td>\n",
       "      <td>878887116</td>\n",
       "    </tr>\n",
       "    <tr>\n",
       "      <th>3</th>\n",
       "      <td>244</td>\n",
       "      <td>51</td>\n",
       "      <td>2</td>\n",
       "      <td>880606923</td>\n",
       "    </tr>\n",
       "    <tr>\n",
       "      <th>4</th>\n",
       "      <td>166</td>\n",
       "      <td>346</td>\n",
       "      <td>1</td>\n",
       "      <td>886397596</td>\n",
       "    </tr>\n",
       "  </tbody>\n",
       "</table>\n",
       "</div>"
      ],
      "text/plain": [
       "   user  movie  rating  timestamp\n",
       "0   196    242       3  881250949\n",
       "1   186    302       3  891717742\n",
       "2    22    377       1  878887116\n",
       "3   244     51       2  880606923\n",
       "4   166    346       1  886397596"
      ]
     },
     "execution_count": 3,
     "metadata": {},
     "output_type": "execute_result"
    }
   ],
   "source": [
    "ratings = pd.read_csv(path/'u.data', delimiter='\\t', header=None,\n",
    "                      names=['user','movie','rating','timestamp'])\n",
    "ratings.head()"
   ]
  },
  {
   "cell_type": "markdown",
   "id": "5e4992c8",
   "metadata": {
    "papermill": {
     "duration": 0.03907,
     "end_time": "2023-08-12T20:29:29.121974",
     "exception": false,
     "start_time": "2023-08-12T20:29:29.082904",
     "status": "completed"
    },
    "tags": []
   },
   "source": [
    "Although this has all the information we need, it is not a particularly helpful way for humans to look at this data. Here is the same data cross-tabulated into a human-friendly table:"
   ]
  },
  {
   "attachments": {
    "9cbc69a5-40ca-4406-9bde-0db7c9887870.png": {
     "image/png": "[encoded data removed]"
    }
   },
   "cell_type": "markdown",
   "id": "17311afb",
   "metadata": {
    "papermill": {
     "duration": 0.039528,
     "end_time": "2023-08-12T20:29:29.200693",
     "exception": false,
     "start_time": "2023-08-12T20:29:29.161165",
     "status": "completed"
    },
    "tags": []
   },
   "source": [
    "![image.png](attachment:9cbc69a5-40ca-4406-9bde-0db7c9887870.png)"
   ]
  },
  {
   "cell_type": "markdown",
   "id": "25e7eb70",
   "metadata": {
    "papermill": {
     "duration": 0.039348,
     "end_time": "2023-08-12T20:29:29.280117",
     "exception": false,
     "start_time": "2023-08-12T20:29:29.240769",
     "status": "completed"
    },
    "tags": []
   },
   "source": [
    "We have selected just a few of the most popular movies, and users who watch the most movies, for this crosstab example. The empty cells in this table are the things that we would like our model to learn to fill in. Those are the places where a user has not reviewed the movie yet, presumably because they have not watched it. For each user, we would like to figure out which of those movies they might be most likely to enjoy.\n",
    "\n",
    "If we knew for each user to what degree they liked each important category that a movie might fall into, such as genre, age, preferred directors and actors, and so forth, and we knew the same information about each movie, then a simple way to fill in this table would be to multiply this information together for each movie and use a combination. For instance, assuming these factors range between -1 and +1, with positive numbers indicating stronger matches and negative numbers weaker ones, and the categories are science-fiction, action, and old movies, then we could represent the movie *The Last Skywalker* as:"
   ]
  },
  {
   "cell_type": "code",
   "execution_count": 4,
   "id": "2beff01d",
   "metadata": {
    "execution": {
     "iopub.execute_input": "2023-08-12T20:29:29.360891Z",
     "iopub.status.busy": "2023-08-12T20:29:29.360174Z",
     "iopub.status.idle": "2023-08-12T20:29:29.365679Z",
     "shell.execute_reply": "2023-08-12T20:29:29.364472Z"
    },
    "papermill": {
     "duration": 0.048948,
     "end_time": "2023-08-12T20:29:29.368279",
     "exception": false,
     "start_time": "2023-08-12T20:29:29.319331",
     "status": "completed"
    },
    "tags": []
   },
   "outputs": [],
   "source": [
    "last_skywalker = np.array([0.98,0.9,-0.9])"
   ]
  },
  {
   "cell_type": "markdown",
   "id": "425a69c9",
   "metadata": {
    "papermill": {
     "duration": 0.038661,
     "end_time": "2023-08-12T20:29:29.446380",
     "exception": false,
     "start_time": "2023-08-12T20:29:29.407719",
     "status": "completed"
    },
    "tags": []
   },
   "source": [
    "Here, for instance, we are scoring *very science-fiction* as 0.98, *very action* as 0.9, and *very not old* as -0.9. We could represent a user who likes modern sci-fi action movies as:"
   ]
  },
  {
   "cell_type": "code",
   "execution_count": 5,
   "id": "46a416d0",
   "metadata": {
    "execution": {
     "iopub.execute_input": "2023-08-12T20:29:29.526601Z",
     "iopub.status.busy": "2023-08-12T20:29:29.526137Z",
     "iopub.status.idle": "2023-08-12T20:29:29.531696Z",
     "shell.execute_reply": "2023-08-12T20:29:29.530479Z"
    },
    "papermill": {
     "duration": 0.048739,
     "end_time": "2023-08-12T20:29:29.534147",
     "exception": false,
     "start_time": "2023-08-12T20:29:29.485408",
     "status": "completed"
    },
    "tags": []
   },
   "outputs": [],
   "source": [
    "user1 = np.array([0.9,0.8,-0.6])"
   ]
  },
  {
   "cell_type": "markdown",
   "id": "da4f6e87",
   "metadata": {
    "papermill": {
     "duration": 0.039311,
     "end_time": "2023-08-12T20:29:29.612665",
     "exception": false,
     "start_time": "2023-08-12T20:29:29.573354",
     "status": "completed"
    },
    "tags": []
   },
   "source": [
    "and we can now calculate the match between this combination:"
   ]
  },
  {
   "cell_type": "code",
   "execution_count": 6,
   "id": "4fac4861",
   "metadata": {
    "execution": {
     "iopub.execute_input": "2023-08-12T20:29:29.693094Z",
     "iopub.status.busy": "2023-08-12T20:29:29.692602Z",
     "iopub.status.idle": "2023-08-12T20:29:29.700374Z",
     "shell.execute_reply": "2023-08-12T20:29:29.699452Z"
    },
    "papermill": {
     "duration": 0.050555,
     "end_time": "2023-08-12T20:29:29.702624",
     "exception": false,
     "start_time": "2023-08-12T20:29:29.652069",
     "status": "completed"
    },
    "tags": []
   },
   "outputs": [
    {
     "data": {
      "text/plain": [
       "2.1420000000000003"
      ]
     },
     "execution_count": 6,
     "metadata": {},
     "output_type": "execute_result"
    }
   ],
   "source": [
    "(user1*last_skywalker).sum()"
   ]
  },
  {
   "cell_type": "markdown",
   "id": "efe0afff",
   "metadata": {
    "papermill": {
     "duration": 0.039088,
     "end_time": "2023-08-12T20:29:29.781047",
     "exception": false,
     "start_time": "2023-08-12T20:29:29.741959",
     "status": "completed"
    },
    "tags": []
   },
   "source": [
    "When we multiply two vectors together and add up the results, this is known as the *dot product*. It is used a lot in machine learning, and forms the basis of matrix multiplication. We will be looking a lot more at matrix multiplication and dot products in <<chapter_foundations>>."
   ]
  },
  {
   "cell_type": "markdown",
   "id": "ac3e2f26",
   "metadata": {
    "papermill": {
     "duration": 0.039407,
     "end_time": "2023-08-12T20:29:29.859970",
     "exception": false,
     "start_time": "2023-08-12T20:29:29.820563",
     "status": "completed"
    },
    "tags": []
   },
   "source": [
    "> jargon: dot product: The mathematical operation of multiplying the elements of two vectors together, and then summing up the result."
   ]
  },
  {
   "cell_type": "markdown",
   "id": "f2dd727f",
   "metadata": {
    "papermill": {
     "duration": 0.039691,
     "end_time": "2023-08-12T20:29:29.939237",
     "exception": false,
     "start_time": "2023-08-12T20:29:29.899546",
     "status": "completed"
    },
    "tags": []
   },
   "source": [
    "On the other hand, we might represent the movie *Casablanca* as:"
   ]
  },
  {
   "cell_type": "code",
   "execution_count": 7,
   "id": "ee2dc6ca",
   "metadata": {
    "execution": {
     "iopub.execute_input": "2023-08-12T20:29:30.020663Z",
     "iopub.status.busy": "2023-08-12T20:29:30.019447Z",
     "iopub.status.idle": "2023-08-12T20:29:30.025857Z",
     "shell.execute_reply": "2023-08-12T20:29:30.024624Z"
    },
    "papermill": {
     "duration": 0.049987,
     "end_time": "2023-08-12T20:29:30.028593",
     "exception": false,
     "start_time": "2023-08-12T20:29:29.978606",
     "status": "completed"
    },
    "tags": []
   },
   "outputs": [],
   "source": [
    "casablanca = np.array([-0.99,-0.3,0.8])"
   ]
  },
  {
   "cell_type": "markdown",
   "id": "a1eea79c",
   "metadata": {
    "papermill": {
     "duration": 0.039074,
     "end_time": "2023-08-12T20:29:30.108646",
     "exception": false,
     "start_time": "2023-08-12T20:29:30.069572",
     "status": "completed"
    },
    "tags": []
   },
   "source": [
    "The match between this combination is:"
   ]
  },
  {
   "cell_type": "code",
   "execution_count": 8,
   "id": "960720a7",
   "metadata": {
    "execution": {
     "iopub.execute_input": "2023-08-12T20:29:30.189286Z",
     "iopub.status.busy": "2023-08-12T20:29:30.188798Z",
     "iopub.status.idle": "2023-08-12T20:29:30.195902Z",
     "shell.execute_reply": "2023-08-12T20:29:30.195106Z"
    },
    "papermill": {
     "duration": 0.050505,
     "end_time": "2023-08-12T20:29:30.198236",
     "exception": false,
     "start_time": "2023-08-12T20:29:30.147731",
     "status": "completed"
    },
    "tags": []
   },
   "outputs": [
    {
     "data": {
      "text/plain": [
       "-1.611"
      ]
     },
     "execution_count": 8,
     "metadata": {},
     "output_type": "execute_result"
    }
   ],
   "source": [
    "(user1*casablanca).sum()"
   ]
  },
  {
   "cell_type": "markdown",
   "id": "e20b15ee",
   "metadata": {
    "papermill": {
     "duration": 0.039236,
     "end_time": "2023-08-12T20:29:30.277562",
     "exception": false,
     "start_time": "2023-08-12T20:29:30.238326",
     "status": "completed"
    },
    "tags": []
   },
   "source": [
    "Since we don't know what the latent factors actually are, and we don't know how to score them for each user and movie, we should learn them."
   ]
  },
  {
   "cell_type": "markdown",
   "id": "a55a3242",
   "metadata": {
    "papermill": {
     "duration": 0.039508,
     "end_time": "2023-08-12T20:29:30.357347",
     "exception": false,
     "start_time": "2023-08-12T20:29:30.317839",
     "status": "completed"
    },
    "tags": []
   },
   "source": [
    "## Learning the Latent Factors"
   ]
  },
  {
   "cell_type": "markdown",
   "id": "f32b6a86",
   "metadata": {
    "papermill": {
     "duration": 0.039069,
     "end_time": "2023-08-12T20:29:30.435674",
     "exception": false,
     "start_time": "2023-08-12T20:29:30.396605",
     "status": "completed"
    },
    "tags": []
   },
   "source": [
    "There is surprisingly little difference between specifying the structure of a model, as we did in the last section, and learning one, since we can just use our general gradient descent approach.\n",
    "\n",
    "Step 1 of this approach is to randomly initialize some parameters. These parameters will be a set of latent factors for each user and movie. We will have to decide how many to use. We will discuss how to select this shortly, but for illustrative purposes let's use 5 for now. Because each user will have a set of these factors and each movie will have a set of these factors, we can show these randomly initialized values right next to the users and movies in our crosstab, and we can then fill in the dot products for each of these combinations in the middle. For example, this is what it looks like in Microsoft Excel, with the top-left cell formula displayed as an example:"
   ]
  },
  {
   "attachments": {
    "dd6a4c5e-c820-4b32-a621-eb2d300be4da.png": {
     "image/png": "[encoded data removed]"
    }
   },
   "cell_type": "markdown",
   "id": "202fc065",
   "metadata": {
    "papermill": {
     "duration": 0.039865,
     "end_time": "2023-08-12T20:29:30.515788",
     "exception": false,
     "start_time": "2023-08-12T20:29:30.475923",
     "status": "completed"
    },
    "tags": []
   },
   "source": [
    "![image.png](attachment:dd6a4c5e-c820-4b32-a621-eb2d300be4da.png)"
   ]
  },
  {
   "cell_type": "markdown",
   "id": "0510e9f1",
   "metadata": {
    "papermill": {
     "duration": 0.039099,
     "end_time": "2023-08-12T20:29:30.594889",
     "exception": false,
     "start_time": "2023-08-12T20:29:30.555790",
     "status": "completed"
    },
    "tags": []
   },
   "source": [
    "Step 2 of this approach is to calculate our predictions. As we've discussed, we can do this by simply taking the dot product of each movie with each user. If, for instance, the first latent user factor represents how much the user likes action movies and the first latent movie factor represents if the movie has a lot of action or not, the product of those will be particularly high if either the user likes action movies and the movie has a lot of action in it or the user doesn't like action movies and the movie doesn't have any action in it. On the other hand, if we have a mismatch (a user loves action movies but the movie isn't an action film, or the user doesn't like action movies and it is one), the product will be very low.\n",
    "\n",
    "Step 3 is to calculate our loss. We can use any loss function that we wish; let's pick mean squared error for now, since that is one reasonable way to represent the accuracy of a prediction.\n",
    "\n",
    "That's all we need. With this in place, we can optimize our parameters (that is, the latent factors) using stochastic gradient descent, such as to minimize the loss. At each step, the stochastic gradient descent optimizer will calculate the match between each movie and each user using the dot product, and will compare it to the actual rating that each user gave to each movie. It will then calculate the derivative of this value and will step the weights by multiplying this by the learning rate. After doing this lots of times, the loss will get better and better, and the recommendations will also get better and better."
   ]
  },
  {
   "cell_type": "markdown",
   "id": "74b4d3cf",
   "metadata": {
    "papermill": {
     "duration": 0.03967,
     "end_time": "2023-08-12T20:29:30.674021",
     "exception": false,
     "start_time": "2023-08-12T20:29:30.634351",
     "status": "completed"
    },
    "tags": []
   },
   "source": [
    "To use the usual `Learner.fit` function we will need to get our data into a `DataLoaders`, so let's focus on that now."
   ]
  },
  {
   "cell_type": "markdown",
   "id": "2a21bd05",
   "metadata": {
    "papermill": {
     "duration": 0.039632,
     "end_time": "2023-08-12T20:29:30.753932",
     "exception": false,
     "start_time": "2023-08-12T20:29:30.714300",
     "status": "completed"
    },
    "tags": []
   },
   "source": [
    "## Creating the DataLoaders"
   ]
  },
  {
   "cell_type": "markdown",
   "id": "3a364395",
   "metadata": {
    "papermill": {
     "duration": 0.040154,
     "end_time": "2023-08-12T20:29:30.833719",
     "exception": false,
     "start_time": "2023-08-12T20:29:30.793565",
     "status": "completed"
    },
    "tags": []
   },
   "source": [
    "When showing the data, we would rather see movie titles than their IDs. The table `u.item` contains the correspondence of IDs to titles:"
   ]
  },
  {
   "cell_type": "code",
   "execution_count": 9,
   "id": "29b9a0f1",
   "metadata": {
    "execution": {
     "iopub.execute_input": "2023-08-12T20:29:30.916782Z",
     "iopub.status.busy": "2023-08-12T20:29:30.915972Z",
     "iopub.status.idle": "2023-08-12T20:29:30.937424Z",
     "shell.execute_reply": "2023-08-12T20:29:30.936134Z"
    },
    "papermill": {
     "duration": 0.066215,
     "end_time": "2023-08-12T20:29:30.940095",
     "exception": false,
     "start_time": "2023-08-12T20:29:30.873880",
     "status": "completed"
    },
    "tags": []
   },
   "outputs": [
    {
     "data": {
      "text/html": [
       "<div>\n",
       "<style scoped>\n",
       "    .dataframe tbody tr th:only-of-type {\n",
       "        vertical-align: middle;\n",
       "    }\n",
       "\n",
       "    .dataframe tbody tr th {\n",
       "        vertical-align: top;\n",
       "    }\n",
       "\n",
       "    .dataframe thead th {\n",
       "        text-align: right;\n",
       "    }\n",
       "</style>\n",
       "<table border=\"1\" class=\"dataframe\">\n",
       "  <thead>\n",
       "    <tr style=\"text-align: right;\">\n",
       "      <th></th>\n",
       "      <th>movie</th>\n",
       "      <th>title</th>\n",
       "    </tr>\n",
       "  </thead>\n",
       "  <tbody>\n",
       "    <tr>\n",
       "      <th>0</th>\n",
       "      <td>1</td>\n",
       "      <td>Toy Story (1995)</td>\n",
       "    </tr>\n",
       "    <tr>\n",
       "      <th>1</th>\n",
       "      <td>2</td>\n",
       "      <td>GoldenEye (1995)</td>\n",
       "    </tr>\n",
       "    <tr>\n",
       "      <th>2</th>\n",
       "      <td>3</td>\n",
       "      <td>Four Rooms (1995)</td>\n",
       "    </tr>\n",
       "    <tr>\n",
       "      <th>3</th>\n",
       "      <td>4</td>\n",
       "      <td>Get Shorty (1995)</td>\n",
       "    </tr>\n",
       "    <tr>\n",
       "      <th>4</th>\n",
       "      <td>5</td>\n",
       "      <td>Copycat (1995)</td>\n",
       "    </tr>\n",
       "  </tbody>\n",
       "</table>\n",
       "</div>"
      ],
      "text/plain": [
       "   movie              title\n",
       "0      1   Toy Story (1995)\n",
       "1      2   GoldenEye (1995)\n",
       "2      3  Four Rooms (1995)\n",
       "3      4  Get Shorty (1995)\n",
       "4      5     Copycat (1995)"
      ]
     },
     "execution_count": 9,
     "metadata": {},
     "output_type": "execute_result"
    }
   ],
   "source": [
    "movies = pd.read_csv(path/'u.item',  delimiter='|', encoding='latin-1',\n",
    "                     usecols=(0,1), names=('movie','title'), header=None)\n",
    "movies.head()"
   ]
  },
  {
   "cell_type": "markdown",
   "id": "6b981d18",
   "metadata": {
    "papermill": {
     "duration": 0.039314,
     "end_time": "2023-08-12T20:29:31.019253",
     "exception": false,
     "start_time": "2023-08-12T20:29:30.979939",
     "status": "completed"
    },
    "tags": []
   },
   "source": [
    "We can merge this with our `ratings` table to get the user ratings by title:"
   ]
  },
  {
   "cell_type": "code",
   "execution_count": 10,
   "id": "29116a52",
   "metadata": {
    "execution": {
     "iopub.execute_input": "2023-08-12T20:29:31.102106Z",
     "iopub.status.busy": "2023-08-12T20:29:31.101611Z",
     "iopub.status.idle": "2023-08-12T20:29:31.147148Z",
     "shell.execute_reply": "2023-08-12T20:29:31.145854Z"
    },
    "papermill": {
     "duration": 0.090564,
     "end_time": "2023-08-12T20:29:31.149492",
     "exception": false,
     "start_time": "2023-08-12T20:29:31.058928",
     "status": "completed"
    },
    "tags": []
   },
   "outputs": [
    {
     "data": {
      "text/html": [
       "<div>\n",
       "<style scoped>\n",
       "    .dataframe tbody tr th:only-of-type {\n",
       "        vertical-align: middle;\n",
       "    }\n",
       "\n",
       "    .dataframe tbody tr th {\n",
       "        vertical-align: top;\n",
       "    }\n",
       "\n",
       "    .dataframe thead th {\n",
       "        text-align: right;\n",
       "    }\n",
       "</style>\n",
       "<table border=\"1\" class=\"dataframe\">\n",
       "  <thead>\n",
       "    <tr style=\"text-align: right;\">\n",
       "      <th></th>\n",
       "      <th>user</th>\n",
       "      <th>movie</th>\n",
       "      <th>rating</th>\n",
       "      <th>timestamp</th>\n",
       "      <th>title</th>\n",
       "    </tr>\n",
       "  </thead>\n",
       "  <tbody>\n",
       "    <tr>\n",
       "      <th>0</th>\n",
       "      <td>196</td>\n",
       "      <td>242</td>\n",
       "      <td>3</td>\n",
       "      <td>881250949</td>\n",
       "      <td>Kolya (1996)</td>\n",
       "    </tr>\n",
       "    <tr>\n",
       "      <th>1</th>\n",
       "      <td>63</td>\n",
       "      <td>242</td>\n",
       "      <td>3</td>\n",
       "      <td>875747190</td>\n",
       "      <td>Kolya (1996)</td>\n",
       "    </tr>\n",
       "    <tr>\n",
       "      <th>2</th>\n",
       "      <td>226</td>\n",
       "      <td>242</td>\n",
       "      <td>5</td>\n",
       "      <td>883888671</td>\n",
       "      <td>Kolya (1996)</td>\n",
       "    </tr>\n",
       "    <tr>\n",
       "      <th>3</th>\n",
       "      <td>154</td>\n",
       "      <td>242</td>\n",
       "      <td>3</td>\n",
       "      <td>879138235</td>\n",
       "      <td>Kolya (1996)</td>\n",
       "    </tr>\n",
       "    <tr>\n",
       "      <th>4</th>\n",
       "      <td>306</td>\n",
       "      <td>242</td>\n",
       "      <td>5</td>\n",
       "      <td>876503793</td>\n",
       "      <td>Kolya (1996)</td>\n",
       "    </tr>\n",
       "  </tbody>\n",
       "</table>\n",
       "</div>"
      ],
      "text/plain": [
       "   user  movie  rating  timestamp         title\n",
       "0   196    242       3  881250949  Kolya (1996)\n",
       "1    63    242       3  875747190  Kolya (1996)\n",
       "2   226    242       5  883888671  Kolya (1996)\n",
       "3   154    242       3  879138235  Kolya (1996)\n",
       "4   306    242       5  876503793  Kolya (1996)"
      ]
     },
     "execution_count": 10,
     "metadata": {},
     "output_type": "execute_result"
    }
   ],
   "source": [
    "ratings = ratings.merge(movies)\n",
    "ratings.head()"
   ]
  },
  {
   "cell_type": "markdown",
   "id": "68bf74e8",
   "metadata": {
    "papermill": {
     "duration": 0.039724,
     "end_time": "2023-08-12T20:29:31.229160",
     "exception": false,
     "start_time": "2023-08-12T20:29:31.189436",
     "status": "completed"
    },
    "tags": []
   },
   "source": [
    "We can then build a `DataLoaders` object from this table. By default, it takes the first column for the user, the second column for the item (here our movies), and the third column for the ratings. We need to change the value of `item_name` in our case to use the titles instead of the IDs:"
   ]
  },
  {
   "cell_type": "code",
   "execution_count": 11,
   "id": "9e8bb7b2",
   "metadata": {
    "execution": {
     "iopub.execute_input": "2023-08-12T20:29:31.311787Z",
     "iopub.status.busy": "2023-08-12T20:29:31.310882Z",
     "iopub.status.idle": "2023-08-12T20:29:31.570544Z",
     "shell.execute_reply": "2023-08-12T20:29:31.569311Z"
    },
    "papermill": {
     "duration": 0.304154,
     "end_time": "2023-08-12T20:29:31.573335",
     "exception": false,
     "start_time": "2023-08-12T20:29:31.269181",
     "status": "completed"
    },
    "tags": []
   },
   "outputs": [
    {
     "data": {
      "text/html": [
       "<table border=\"1\" class=\"dataframe\">\n",
       "  <thead>\n",
       "    <tr style=\"text-align: right;\">\n",
       "      <th></th>\n",
       "      <th>user</th>\n",
       "      <th>title</th>\n",
       "      <th>rating</th>\n",
       "    </tr>\n",
       "  </thead>\n",
       "  <tbody>\n",
       "    <tr>\n",
       "      <th>0</th>\n",
       "      <td>542</td>\n",
       "      <td>My Left Foot (1989)</td>\n",
       "      <td>4</td>\n",
       "    </tr>\n",
       "    <tr>\n",
       "      <th>1</th>\n",
       "      <td>422</td>\n",
       "      <td>Event Horizon (1997)</td>\n",
       "      <td>3</td>\n",
       "    </tr>\n",
       "    <tr>\n",
       "      <th>2</th>\n",
       "      <td>311</td>\n",
       "      <td>African Queen, The (1951)</td>\n",
       "      <td>4</td>\n",
       "    </tr>\n",
       "    <tr>\n",
       "      <th>3</th>\n",
       "      <td>595</td>\n",
       "      <td>Face/Off (1997)</td>\n",
       "      <td>4</td>\n",
       "    </tr>\n",
       "    <tr>\n",
       "      <th>4</th>\n",
       "      <td>617</td>\n",
       "      <td>Evil Dead II (1987)</td>\n",
       "      <td>1</td>\n",
       "    </tr>\n",
       "    <tr>\n",
       "      <th>5</th>\n",
       "      <td>158</td>\n",
       "      <td>Jurassic Park (1993)</td>\n",
       "      <td>5</td>\n",
       "    </tr>\n",
       "    <tr>\n",
       "      <th>6</th>\n",
       "      <td>836</td>\n",
       "      <td>Chasing Amy (1997)</td>\n",
       "      <td>3</td>\n",
       "    </tr>\n",
       "    <tr>\n",
       "      <th>7</th>\n",
       "      <td>474</td>\n",
       "      <td>Emma (1996)</td>\n",
       "      <td>3</td>\n",
       "    </tr>\n",
       "    <tr>\n",
       "      <th>8</th>\n",
       "      <td>466</td>\n",
       "      <td>Jackie Chan's First Strike (1996)</td>\n",
       "      <td>3</td>\n",
       "    </tr>\n",
       "    <tr>\n",
       "      <th>9</th>\n",
       "      <td>554</td>\n",
       "      <td>Scream (1996)</td>\n",
       "      <td>3</td>\n",
       "    </tr>\n",
       "  </tbody>\n",
       "</table>"
      ],
      "text/plain": [
       "<IPython.core.display.HTML object>"
      ]
     },
     "metadata": {},
     "output_type": "display_data"
    }
   ],
   "source": [
    "dls = CollabDataLoaders.from_df(ratings, item_name='title', bs=64)\n",
    "dls.show_batch()"
   ]
  },
  {
   "cell_type": "markdown",
   "id": "2e193083",
   "metadata": {
    "papermill": {
     "duration": 0.040061,
     "end_time": "2023-08-12T20:29:31.654384",
     "exception": false,
     "start_time": "2023-08-12T20:29:31.614323",
     "status": "completed"
    },
    "tags": []
   },
   "source": [
    "To represent collaborative filtering in PyTorch we can't just use the crosstab representation directly, especially if we want it to fit into our deep learning framework. We can represent our movie and user latent factor tables as simple matrices:"
   ]
  },
  {
   "cell_type": "code",
   "execution_count": 12,
   "id": "4d73ff09",
   "metadata": {
    "execution": {
     "iopub.execute_input": "2023-08-12T20:29:31.737294Z",
     "iopub.status.busy": "2023-08-12T20:29:31.736726Z",
     "iopub.status.idle": "2023-08-12T20:29:31.744595Z",
     "shell.execute_reply": "2023-08-12T20:29:31.743531Z"
    },
    "papermill": {
     "duration": 0.051789,
     "end_time": "2023-08-12T20:29:31.746872",
     "exception": false,
     "start_time": "2023-08-12T20:29:31.695083",
     "status": "completed"
    },
    "tags": []
   },
   "outputs": [],
   "source": [
    "n_users  = len(dls.classes['user'])\n",
    "n_movies = len(dls.classes['title'])\n",
    "n_factors = 5\n",
    "\n",
    "user_factors = torch.randn(n_users, n_factors)\n",
    "movie_factors = torch.randn(n_movies, n_factors)"
   ]
  },
  {
   "cell_type": "markdown",
   "id": "cd87d8e1",
   "metadata": {
    "papermill": {
     "duration": 0.040034,
     "end_time": "2023-08-12T20:29:31.827586",
     "exception": false,
     "start_time": "2023-08-12T20:29:31.787552",
     "status": "completed"
    },
    "tags": []
   },
   "source": [
    "To calculate the result for a particular movie and user combination, we have to look up the index of the movie in our movie latent factor matrix and the index of the user in our user latent factor matrix; then we can do our dot product between the two latent factor vectors. But *look up in an index* is not an operation our deep learning models know how to do. They know how to do matrix products, and activation functions.\n",
    "\n",
    "Fortunately, it turns out that we can represent *look up in an index* as a matrix product. The trick is to replace our indices with one-hot-encoded vectors. Here is an example of what happens if we multiply a vector by a one-hot-encoded vector representing the index 3:"
   ]
  },
  {
   "cell_type": "code",
   "execution_count": 13,
   "id": "b9c95c6c",
   "metadata": {
    "execution": {
     "iopub.execute_input": "2023-08-12T20:29:31.911152Z",
     "iopub.status.busy": "2023-08-12T20:29:31.910378Z",
     "iopub.status.idle": "2023-08-12T20:29:31.918260Z",
     "shell.execute_reply": "2023-08-12T20:29:31.917289Z"
    },
    "papermill": {
     "duration": 0.053084,
     "end_time": "2023-08-12T20:29:31.921004",
     "exception": false,
     "start_time": "2023-08-12T20:29:31.867920",
     "status": "completed"
    },
    "tags": []
   },
   "outputs": [],
   "source": [
    "one_hot_3 = one_hot(3, n_users).float()"
   ]
  },
  {
   "cell_type": "code",
   "execution_count": 14,
   "id": "f08f62a4",
   "metadata": {
    "execution": {
     "iopub.execute_input": "2023-08-12T20:29:32.005996Z",
     "iopub.status.busy": "2023-08-12T20:29:32.005528Z",
     "iopub.status.idle": "2023-08-12T20:29:32.025149Z",
     "shell.execute_reply": "2023-08-12T20:29:32.024229Z"
    },
    "papermill": {
     "duration": 0.065398,
     "end_time": "2023-08-12T20:29:32.027717",
     "exception": false,
     "start_time": "2023-08-12T20:29:31.962319",
     "status": "completed"
    },
    "tags": []
   },
   "outputs": [
    {
     "data": {
      "text/plain": [
       "tensor([-0.4586, -0.9915, -0.4052, -0.3621, -0.5908])"
      ]
     },
     "execution_count": 14,
     "metadata": {},
     "output_type": "execute_result"
    }
   ],
   "source": [
    "user_factors.t() @ one_hot_3"
   ]
  },
  {
   "cell_type": "markdown",
   "id": "ec3aaa15",
   "metadata": {
    "papermill": {
     "duration": 0.040735,
     "end_time": "2023-08-12T20:29:32.110134",
     "exception": false,
     "start_time": "2023-08-12T20:29:32.069399",
     "status": "completed"
    },
    "tags": []
   },
   "source": [
    "It gives us the same vector as the one at index 3 in the matrix:"
   ]
  },
  {
   "cell_type": "code",
   "execution_count": 15,
   "id": "862e9f7b",
   "metadata": {
    "execution": {
     "iopub.execute_input": "2023-08-12T20:29:32.193503Z",
     "iopub.status.busy": "2023-08-12T20:29:32.192224Z",
     "iopub.status.idle": "2023-08-12T20:29:32.200792Z",
     "shell.execute_reply": "2023-08-12T20:29:32.199657Z"
    },
    "papermill": {
     "duration": 0.052756,
     "end_time": "2023-08-12T20:29:32.203223",
     "exception": false,
     "start_time": "2023-08-12T20:29:32.150467",
     "status": "completed"
    },
    "tags": []
   },
   "outputs": [
    {
     "data": {
      "text/plain": [
       "tensor([-0.4586, -0.9915, -0.4052, -0.3621, -0.5908])"
      ]
     },
     "execution_count": 15,
     "metadata": {},
     "output_type": "execute_result"
    }
   ],
   "source": [
    "user_factors[3]"
   ]
  },
  {
   "cell_type": "markdown",
   "id": "90f41c6c",
   "metadata": {
    "papermill": {
     "duration": 0.040095,
     "end_time": "2023-08-12T20:29:32.283791",
     "exception": false,
     "start_time": "2023-08-12T20:29:32.243696",
     "status": "completed"
    },
    "tags": []
   },
   "source": [
    "If we do that for a few indices at once, we will have a matrix of one-hot-encoded vectors, and that operation will be a matrix multiplication! This would be a perfectly acceptable way to build models using this kind of architecture, except that it would use a lot more memory and time than necessary. We know that there is no real underlying reason to store the one-hot-encoded vector, or to search through it to find the occurrence of the number one—we should just be able to index into an array directly with an integer. Therefore, most deep learning libraries, including PyTorch, include a special layer that does just this; it indexes into a vector using an integer, but has its derivative calculated in such a way that it is identical to what it would have been if it had done a matrix multiplication with a one-hot-encoded vector. This is called an *embedding*."
   ]
  },
  {
   "cell_type": "markdown",
   "id": "a31d38ae",
   "metadata": {
    "papermill": {
     "duration": 0.039975,
     "end_time": "2023-08-12T20:29:32.364282",
     "exception": false,
     "start_time": "2023-08-12T20:29:32.324307",
     "status": "completed"
    },
    "tags": []
   },
   "source": [
    "> jargon: Embedding: Multiplying by a one-hot-encoded matrix, using the computational shortcut that it can be implemented by simply indexing directly. This is quite a fancy word for a very simple concept. The thing that you multiply the one-hot-encoded matrix by (or, using the computational shortcut, index into directly) is called the _embedding matrix_."
   ]
  },
  {
   "cell_type": "markdown",
   "id": "5bc46ccc",
   "metadata": {
    "papermill": {
     "duration": 0.040157,
     "end_time": "2023-08-12T20:29:32.444976",
     "exception": false,
     "start_time": "2023-08-12T20:29:32.404819",
     "status": "completed"
    },
    "tags": []
   },
   "source": [
    "In computer vision, we have a very easy way to get all the information of a pixel through its RGB values: each pixel in a colored image is represented by three numbers. Those three numbers give us the redness, the greenness and the blueness, which is enough to get our model to work afterward.\n",
    "\n",
    "For the problem at hand, we don't have the same easy way to characterize a user or a movie. There are probably relations with genres: if a given user likes romance, they are likely to give higher scores to romance movies. Other factors might be whether the movie is more action-oriented versus heavy on dialogue, or the presence of a specific actor that a user might particularly like. \n",
    "\n",
    "How do we determine numbers to characterize those? The answer is, we don't. We will let our model *learn* them. By analyzing the existing relations between users and movies, our model can figure out itself the features that seem important or not.\n",
    "\n",
    "This is what embeddings are. We will attribute to each of our users and each of our movies a random vector of a certain length (here, `n_factors=5`), and we will make those learnable parameters. That means that at each step, when we compute the loss by comparing our predictions to our targets, we will compute the gradients of the loss with respect to those embedding vectors and update them with the rules of SGD (or another optimizer).\n",
    "\n",
    "At the beginning, those numbers don't mean anything since we have chosen them randomly, but by the end of training, they will. By learning on existing data about the relations between users and movies, without having any other information, we will see that they still get some important features, and can isolate blockbusters from independent cinema, action movies from romance, and so on.\n",
    "\n",
    "We are now in a position that we can create our whole model from scratch."
   ]
  },
  {
   "cell_type": "markdown",
   "id": "d0c0b7d4",
   "metadata": {
    "papermill": {
     "duration": 0.040371,
     "end_time": "2023-08-12T20:29:32.525821",
     "exception": false,
     "start_time": "2023-08-12T20:29:32.485450",
     "status": "completed"
    },
    "tags": []
   },
   "source": [
    "## Collaborative Filtering from Scratch"
   ]
  },
  {
   "cell_type": "markdown",
   "id": "78690905",
   "metadata": {
    "papermill": {
     "duration": 0.040208,
     "end_time": "2023-08-12T20:29:32.606620",
     "exception": false,
     "start_time": "2023-08-12T20:29:32.566412",
     "status": "completed"
    },
    "tags": []
   },
   "source": [
    "Before we can write a model in PyTorch, we first need to learn the basics of object-oriented programming and Python. If you haven't done any object-oriented programming before, we will give you a quick introduction here, but we would recommend looking up a tutorial and getting some practice before moving on.\n",
    "\n",
    "The key idea in object-oriented programming is the *class*. We have been using classes throughout this book, such as `DataLoader`, `string`, and `Learner`. Python also makes it easy for us to create new classes. Here is an example of a simple class:"
   ]
  },
  {
   "cell_type": "code",
   "execution_count": 16,
   "id": "83280d2b",
   "metadata": {
    "execution": {
     "iopub.execute_input": "2023-08-12T20:29:32.689739Z",
     "iopub.status.busy": "2023-08-12T20:29:32.689297Z",
     "iopub.status.idle": "2023-08-12T20:29:32.695872Z",
     "shell.execute_reply": "2023-08-12T20:29:32.694667Z"
    },
    "papermill": {
     "duration": 0.051257,
     "end_time": "2023-08-12T20:29:32.698452",
     "exception": false,
     "start_time": "2023-08-12T20:29:32.647195",
     "status": "completed"
    },
    "tags": []
   },
   "outputs": [],
   "source": [
    "class Example:\n",
    "    def __init__(self, a): self.a = a\n",
    "    def say(self,x): return f'Hello {self.a}, {x}.'"
   ]
  },
  {
   "cell_type": "markdown",
   "id": "1aa3d5ea",
   "metadata": {
    "papermill": {
     "duration": 0.040125,
     "end_time": "2023-08-12T20:29:32.779066",
     "exception": false,
     "start_time": "2023-08-12T20:29:32.738941",
     "status": "completed"
    },
    "tags": []
   },
   "source": [
    "The most important piece of this is the special method called `__init__` (pronounced *dunder init*). In Python, any method surrounded in double underscores like this is considered special. It indicates that there is some extra behavior associated with this method name. In the case of `__init__`, this is the method Python will call when your new object is created. So, this is where you can set up any state that needs to be initialized upon object creation. Any parameters included when the user constructs an instance of your class will be passed to the `__init__` method as parameters. Note that the first parameter to any method defined inside a class is `self`, so you can use this to set and get any attributes that you will need:"
   ]
  },
  {
   "cell_type": "code",
   "execution_count": 17,
   "id": "4f4d5d23",
   "metadata": {
    "execution": {
     "iopub.execute_input": "2023-08-12T20:29:32.863532Z",
     "iopub.status.busy": "2023-08-12T20:29:32.862781Z",
     "iopub.status.idle": "2023-08-12T20:29:32.870414Z",
     "shell.execute_reply": "2023-08-12T20:29:32.869313Z"
    },
    "papermill": {
     "duration": 0.052504,
     "end_time": "2023-08-12T20:29:32.872883",
     "exception": false,
     "start_time": "2023-08-12T20:29:32.820379",
     "status": "completed"
    },
    "tags": []
   },
   "outputs": [
    {
     "data": {
      "text/plain": [
       "'Hello Sylvain, nice to meet you.'"
      ]
     },
     "execution_count": 17,
     "metadata": {},
     "output_type": "execute_result"
    }
   ],
   "source": [
    "ex = Example('Sylvain')\n",
    "ex.say('nice to meet you')"
   ]
  },
  {
   "cell_type": "markdown",
   "id": "e46bb0b4",
   "metadata": {
    "papermill": {
     "duration": 0.041391,
     "end_time": "2023-08-12T20:29:32.955203",
     "exception": false,
     "start_time": "2023-08-12T20:29:32.913812",
     "status": "completed"
    },
    "tags": []
   },
   "source": [
    "Also note that creating a new PyTorch module requires inheriting from `Module`. *Inheritance* is an important object-oriented concept that we will not discuss in detail here—in short, it means that we can add additional behavior to an existing class. PyTorch already provides a `Module` class, which provides some basic foundations that we want to build on. So, we add the name of this *superclass* after the name of the class that we are defining, as shown in the following example.\n",
    "\n",
    "The final thing that you need to know to create a new PyTorch module is that when your module is called, PyTorch will call a method in your class called `forward`, and will pass along to that any parameters that are included in the call. Here is the class defining our dot product model:"
   ]
  },
  {
   "cell_type": "code",
   "execution_count": 18,
   "id": "408bf678",
   "metadata": {
    "execution": {
     "iopub.execute_input": "2023-08-12T20:29:33.042890Z",
     "iopub.status.busy": "2023-08-12T20:29:33.042078Z",
     "iopub.status.idle": "2023-08-12T20:29:33.049889Z",
     "shell.execute_reply": "2023-08-12T20:29:33.048927Z"
    },
    "papermill": {
     "duration": 0.055579,
     "end_time": "2023-08-12T20:29:33.052371",
     "exception": false,
     "start_time": "2023-08-12T20:29:32.996792",
     "status": "completed"
    },
    "tags": []
   },
   "outputs": [],
   "source": [
    "class DotProduct(Module):\n",
    "    def __init__(self, n_users, n_movies, n_factors):\n",
    "        self.user_factors = Embedding(n_users, n_factors)\n",
    "        self.movie_factors = Embedding(n_movies, n_factors)\n",
    "        \n",
    "    def forward(self, x):\n",
    "        users = self.user_factors(x[:,0])\n",
    "        movies = self.movie_factors(x[:,1])\n",
    "        return (users * movies).sum(dim=1)"
   ]
  },
  {
   "cell_type": "markdown",
   "id": "d5582ba1",
   "metadata": {
    "papermill": {
     "duration": 0.040741,
     "end_time": "2023-08-12T20:29:33.135685",
     "exception": false,
     "start_time": "2023-08-12T20:29:33.094944",
     "status": "completed"
    },
    "tags": []
   },
   "source": [
    "If you haven't seen object-oriented programming before, then don't worry, you won't need to use it much in this book. We are just mentioning this approach here, because most online tutorials and documentation will use the object-oriented syntax.\n",
    "\n",
    "Note that the input of the model is a tensor of shape `batch_size x 2`, where the first column (`x[:, 0]`) contains the user IDs and the second column (`x[:, 1]`) contains the movie IDs. As explained before, we use the *embedding* layers to represent our matrices of user and movie latent factors:"
   ]
  },
  {
   "cell_type": "code",
   "execution_count": 19,
   "id": "6385ae77",
   "metadata": {
    "execution": {
     "iopub.execute_input": "2023-08-12T20:29:33.219531Z",
     "iopub.status.busy": "2023-08-12T20:29:33.218831Z",
     "iopub.status.idle": "2023-08-12T20:29:33.361000Z",
     "shell.execute_reply": "2023-08-12T20:29:33.359796Z"
    },
    "papermill": {
     "duration": 0.187603,
     "end_time": "2023-08-12T20:29:33.364091",
     "exception": false,
     "start_time": "2023-08-12T20:29:33.176488",
     "status": "completed"
    },
    "tags": []
   },
   "outputs": [
    {
     "data": {
      "text/plain": [
       "torch.Size([64, 2])"
      ]
     },
     "execution_count": 19,
     "metadata": {},
     "output_type": "execute_result"
    }
   ],
   "source": [
    "x,y = dls.one_batch()\n",
    "x.shape"
   ]
  },
  {
   "cell_type": "markdown",
   "id": "3784ea37",
   "metadata": {
    "papermill": {
     "duration": 0.040621,
     "end_time": "2023-08-12T20:29:33.446276",
     "exception": false,
     "start_time": "2023-08-12T20:29:33.405655",
     "status": "completed"
    },
    "tags": []
   },
   "source": [
    "Now that we have defined our architecture, and created our parameter matrices, we need to create a `Learner` to optimize our model. In the past we have used special functions, such as `cnn_learner`, which set up everything for us for a particular application. Since we are doing things from scratch here, we will use the plain `Learner` class:"
   ]
  },
  {
   "cell_type": "code",
   "execution_count": 20,
   "id": "d0717cbc",
   "metadata": {
    "execution": {
     "iopub.execute_input": "2023-08-12T20:29:33.530364Z",
     "iopub.status.busy": "2023-08-12T20:29:33.529226Z",
     "iopub.status.idle": "2023-08-12T20:29:33.546809Z",
     "shell.execute_reply": "2023-08-12T20:29:33.545638Z"
    },
    "papermill": {
     "duration": 0.06264,
     "end_time": "2023-08-12T20:29:33.549654",
     "exception": false,
     "start_time": "2023-08-12T20:29:33.487014",
     "status": "completed"
    },
    "tags": []
   },
   "outputs": [],
   "source": [
    "model = DotProduct(n_users, n_movies, 50)\n",
    "learn = Learner(dls, model, loss_func=MSELossFlat())"
   ]
  },
  {
   "cell_type": "markdown",
   "id": "84a83d3c",
   "metadata": {
    "papermill": {
     "duration": 0.040621,
     "end_time": "2023-08-12T20:29:33.632080",
     "exception": false,
     "start_time": "2023-08-12T20:29:33.591459",
     "status": "completed"
    },
    "tags": []
   },
   "source": [
    "We are now ready to fit our model:"
   ]
  },
  {
   "cell_type": "code",
   "execution_count": 21,
   "id": "3b763297",
   "metadata": {
    "execution": {
     "iopub.execute_input": "2023-08-12T20:29:33.716605Z",
     "iopub.status.busy": "2023-08-12T20:29:33.715430Z",
     "iopub.status.idle": "2023-08-12T20:30:20.886425Z",
     "shell.execute_reply": "2023-08-12T20:30:20.885188Z"
    },
    "papermill": {
     "duration": 47.216192,
     "end_time": "2023-08-12T20:30:20.889122",
     "exception": false,
     "start_time": "2023-08-12T20:29:33.672930",
     "status": "completed"
    },
    "tags": []
   },
   "outputs": [
    {
     "data": {
      "text/html": [
       "\n",
       "<style>\n",
       "    /* Turns off some styling */\n",
       "    progress {\n",
       "        /* gets rid of default border in Firefox and Opera. */\n",
       "        border: none;\n",
       "        /* Needs to be in here for Safari polyfill so background images work as expected. */\n",
       "        background-size: auto;\n",
       "    }\n",
       "    .progress-bar-interrupted, .progress-bar-interrupted::-webkit-progress-bar {\n",
       "        background: #F44336;\n",
       "    }\n",
       "</style>\n"
      ],
      "text/plain": [
       "<IPython.core.display.HTML object>"
      ]
     },
     "metadata": {},
     "output_type": "display_data"
    },
    {
     "data": {
      "text/html": [
       "<table border=\"1\" class=\"dataframe\">\n",
       "  <thead>\n",
       "    <tr style=\"text-align: left;\">\n",
       "      <th>epoch</th>\n",
       "      <th>train_loss</th>\n",
       "      <th>valid_loss</th>\n",
       "      <th>time</th>\n",
       "    </tr>\n",
       "  </thead>\n",
       "  <tbody>\n",
       "    <tr>\n",
       "      <td>0</td>\n",
       "      <td>1.344786</td>\n",
       "      <td>1.279100</td>\n",
       "      <td>00:09</td>\n",
       "    </tr>\n",
       "    <tr>\n",
       "      <td>1</td>\n",
       "      <td>1.093332</td>\n",
       "      <td>1.109981</td>\n",
       "      <td>00:09</td>\n",
       "    </tr>\n",
       "    <tr>\n",
       "      <td>2</td>\n",
       "      <td>0.958258</td>\n",
       "      <td>0.990199</td>\n",
       "      <td>00:09</td>\n",
       "    </tr>\n",
       "    <tr>\n",
       "      <td>3</td>\n",
       "      <td>0.814234</td>\n",
       "      <td>0.894916</td>\n",
       "      <td>00:09</td>\n",
       "    </tr>\n",
       "    <tr>\n",
       "      <td>4</td>\n",
       "      <td>0.780714</td>\n",
       "      <td>0.882022</td>\n",
       "      <td>00:09</td>\n",
       "    </tr>\n",
       "  </tbody>\n",
       "</table>"
      ],
      "text/plain": [
       "<IPython.core.display.HTML object>"
      ]
     },
     "metadata": {},
     "output_type": "display_data"
    }
   ],
   "source": [
    "learn.fit_one_cycle(5, 5e-3)"
   ]
  },
  {
   "cell_type": "markdown",
   "id": "5bb8f34d",
   "metadata": {
    "papermill": {
     "duration": 0.042128,
     "end_time": "2023-08-12T20:30:20.972863",
     "exception": false,
     "start_time": "2023-08-12T20:30:20.930735",
     "status": "completed"
    },
    "tags": []
   },
   "source": [
    "The first thing we can do to make this model a little bit better is to force those predictions to be between 0 and 5. For this, we just need to use `sigmoid_range`, like in <<chapter_multicat>>. One thing we discovered empirically is that it's better to have the range go a little bit over 5, so we use `(0, 5.5)`:"
   ]
  },
  {
   "cell_type": "code",
   "execution_count": 22,
   "id": "58d7e20d",
   "metadata": {
    "execution": {
     "iopub.execute_input": "2023-08-12T20:30:21.060576Z",
     "iopub.status.busy": "2023-08-12T20:30:21.060159Z",
     "iopub.status.idle": "2023-08-12T20:30:21.068751Z",
     "shell.execute_reply": "2023-08-12T20:30:21.067477Z"
    },
    "papermill": {
     "duration": 0.055623,
     "end_time": "2023-08-12T20:30:21.071481",
     "exception": false,
     "start_time": "2023-08-12T20:30:21.015858",
     "status": "completed"
    },
    "tags": []
   },
   "outputs": [],
   "source": [
    "class DotProduct(Module):\n",
    "    def __init__(self, n_users, n_movies, n_factors, y_range=(0,5.5)):\n",
    "        self.user_factors = Embedding(n_users, n_factors)\n",
    "        self.movie_factors = Embedding(n_movies, n_factors)\n",
    "        self.y_range = y_range\n",
    "        \n",
    "    def forward(self, x):\n",
    "        users = self.user_factors(x[:,0])\n",
    "        movies = self.movie_factors(x[:,1])\n",
    "        return sigmoid_range((users * movies).sum(dim=1), *self.y_range)"
   ]
  },
  {
   "cell_type": "code",
   "execution_count": 23,
   "id": "7ff709b6",
   "metadata": {
    "execution": {
     "iopub.execute_input": "2023-08-12T20:30:21.156442Z",
     "iopub.status.busy": "2023-08-12T20:30:21.155985Z",
     "iopub.status.idle": "2023-08-12T20:31:08.356754Z",
     "shell.execute_reply": "2023-08-12T20:31:08.355591Z"
    },
    "papermill": {
     "duration": 47.246574,
     "end_time": "2023-08-12T20:31:08.359447",
     "exception": false,
     "start_time": "2023-08-12T20:30:21.112873",
     "status": "completed"
    },
    "tags": []
   },
   "outputs": [
    {
     "data": {
      "text/html": [
       "\n",
       "<style>\n",
       "    /* Turns off some styling */\n",
       "    progress {\n",
       "        /* gets rid of default border in Firefox and Opera. */\n",
       "        border: none;\n",
       "        /* Needs to be in here for Safari polyfill so background images work as expected. */\n",
       "        background-size: auto;\n",
       "    }\n",
       "    .progress-bar-interrupted, .progress-bar-interrupted::-webkit-progress-bar {\n",
       "        background: #F44336;\n",
       "    }\n",
       "</style>\n"
      ],
      "text/plain": [
       "<IPython.core.display.HTML object>"
      ]
     },
     "metadata": {},
     "output_type": "display_data"
    },
    {
     "data": {
      "text/html": [
       "<table border=\"1\" class=\"dataframe\">\n",
       "  <thead>\n",
       "    <tr style=\"text-align: left;\">\n",
       "      <th>epoch</th>\n",
       "      <th>train_loss</th>\n",
       "      <th>valid_loss</th>\n",
       "      <th>time</th>\n",
       "    </tr>\n",
       "  </thead>\n",
       "  <tbody>\n",
       "    <tr>\n",
       "      <td>0</td>\n",
       "      <td>0.986799</td>\n",
       "      <td>1.005294</td>\n",
       "      <td>00:09</td>\n",
       "    </tr>\n",
       "    <tr>\n",
       "      <td>1</td>\n",
       "      <td>0.878134</td>\n",
       "      <td>0.918898</td>\n",
       "      <td>00:09</td>\n",
       "    </tr>\n",
       "    <tr>\n",
       "      <td>2</td>\n",
       "      <td>0.675850</td>\n",
       "      <td>0.875467</td>\n",
       "      <td>00:09</td>\n",
       "    </tr>\n",
       "    <tr>\n",
       "      <td>3</td>\n",
       "      <td>0.483372</td>\n",
       "      <td>0.877939</td>\n",
       "      <td>00:09</td>\n",
       "    </tr>\n",
       "    <tr>\n",
       "      <td>4</td>\n",
       "      <td>0.378927</td>\n",
       "      <td>0.881887</td>\n",
       "      <td>00:09</td>\n",
       "    </tr>\n",
       "  </tbody>\n",
       "</table>"
      ],
      "text/plain": [
       "<IPython.core.display.HTML object>"
      ]
     },
     "metadata": {},
     "output_type": "display_data"
    }
   ],
   "source": [
    "model = DotProduct(n_users, n_movies, 50)\n",
    "learn = Learner(dls, model, loss_func=MSELossFlat())\n",
    "learn.fit_one_cycle(5, 5e-3)"
   ]
  },
  {
   "cell_type": "markdown",
   "id": "00bc9f71",
   "metadata": {
    "papermill": {
     "duration": 0.041162,
     "end_time": "2023-08-12T20:31:08.442246",
     "exception": false,
     "start_time": "2023-08-12T20:31:08.401084",
     "status": "completed"
    },
    "tags": []
   },
   "source": [
    "This is a reasonable start, but we can do better. One obvious missing piece is that some users are just more positive or negative in their recommendations than others, and some movies are just plain better or worse than others. But in our dot product representation we do not have any way to encode either of these things. If all you can say about a movie is, for instance, that it is very sci-fi, very action-oriented, and very not old, then you don't really have any way to say whether most people like it. \n",
    "\n",
    "That's because at this point we only have weights; we do not have biases. If we have a single number for each user that we can add to our scores, and ditto for each movie, that will handle this missing piece very nicely. So first of all, let's adjust our model architecture:"
   ]
  },
  {
   "cell_type": "code",
   "execution_count": 24,
   "id": "9e1eab13",
   "metadata": {
    "execution": {
     "iopub.execute_input": "2023-08-12T20:31:08.530145Z",
     "iopub.status.busy": "2023-08-12T20:31:08.529649Z",
     "iopub.status.idle": "2023-08-12T20:31:08.540771Z",
     "shell.execute_reply": "2023-08-12T20:31:08.539394Z"
    },
    "papermill": {
     "duration": 0.058809,
     "end_time": "2023-08-12T20:31:08.543524",
     "exception": false,
     "start_time": "2023-08-12T20:31:08.484715",
     "status": "completed"
    },
    "tags": []
   },
   "outputs": [],
   "source": [
    "class DotProductBias(Module):\n",
    "    def __init__(self, n_users, n_movies, n_factors, y_range=(0,5.5)):\n",
    "        self.user_factors = Embedding(n_users, n_factors)\n",
    "        self.user_bias = Embedding(n_users, 1)\n",
    "        self.movie_factors = Embedding(n_movies, n_factors)\n",
    "        self.movie_bias = Embedding(n_movies, 1)\n",
    "        self.y_range = y_range\n",
    "        \n",
    "    def forward(self, x):\n",
    "        users = self.user_factors(x[:,0])\n",
    "        movies = self.movie_factors(x[:,1])\n",
    "        res = (users * movies).sum(dim=1, keepdim=True)\n",
    "        res += self.user_bias(x[:,0]) + self.movie_bias(x[:,1])\n",
    "        return sigmoid_range(res, *self.y_range)"
   ]
  },
  {
   "cell_type": "markdown",
   "id": "e52d49eb",
   "metadata": {
    "papermill": {
     "duration": 0.041529,
     "end_time": "2023-08-12T20:31:08.626730",
     "exception": false,
     "start_time": "2023-08-12T20:31:08.585201",
     "status": "completed"
    },
    "tags": []
   },
   "source": [
    "Let's try training this and see how it goes:"
   ]
  },
  {
   "cell_type": "code",
   "execution_count": 25,
   "id": "35bd8a50",
   "metadata": {
    "execution": {
     "iopub.execute_input": "2023-08-12T20:31:08.711863Z",
     "iopub.status.busy": "2023-08-12T20:31:08.711440Z",
     "iopub.status.idle": "2023-08-12T20:31:58.528959Z",
     "shell.execute_reply": "2023-08-12T20:31:58.527802Z"
    },
    "papermill": {
     "duration": 49.863432,
     "end_time": "2023-08-12T20:31:58.531705",
     "exception": false,
     "start_time": "2023-08-12T20:31:08.668273",
     "status": "completed"
    },
    "tags": []
   },
   "outputs": [
    {
     "data": {
      "text/html": [
       "\n",
       "<style>\n",
       "    /* Turns off some styling */\n",
       "    progress {\n",
       "        /* gets rid of default border in Firefox and Opera. */\n",
       "        border: none;\n",
       "        /* Needs to be in here for Safari polyfill so background images work as expected. */\n",
       "        background-size: auto;\n",
       "    }\n",
       "    .progress-bar-interrupted, .progress-bar-interrupted::-webkit-progress-bar {\n",
       "        background: #F44336;\n",
       "    }\n",
       "</style>\n"
      ],
      "text/plain": [
       "<IPython.core.display.HTML object>"
      ]
     },
     "metadata": {},
     "output_type": "display_data"
    },
    {
     "data": {
      "text/html": [
       "<table border=\"1\" class=\"dataframe\">\n",
       "  <thead>\n",
       "    <tr style=\"text-align: left;\">\n",
       "      <th>epoch</th>\n",
       "      <th>train_loss</th>\n",
       "      <th>valid_loss</th>\n",
       "      <th>time</th>\n",
       "    </tr>\n",
       "  </thead>\n",
       "  <tbody>\n",
       "    <tr>\n",
       "      <td>0</td>\n",
       "      <td>0.938634</td>\n",
       "      <td>0.952516</td>\n",
       "      <td>00:10</td>\n",
       "    </tr>\n",
       "    <tr>\n",
       "      <td>1</td>\n",
       "      <td>0.846664</td>\n",
       "      <td>0.865633</td>\n",
       "      <td>00:09</td>\n",
       "    </tr>\n",
       "    <tr>\n",
       "      <td>2</td>\n",
       "      <td>0.608090</td>\n",
       "      <td>0.865127</td>\n",
       "      <td>00:09</td>\n",
       "    </tr>\n",
       "    <tr>\n",
       "      <td>3</td>\n",
       "      <td>0.413482</td>\n",
       "      <td>0.887318</td>\n",
       "      <td>00:10</td>\n",
       "    </tr>\n",
       "    <tr>\n",
       "      <td>4</td>\n",
       "      <td>0.286971</td>\n",
       "      <td>0.894876</td>\n",
       "      <td>00:09</td>\n",
       "    </tr>\n",
       "  </tbody>\n",
       "</table>"
      ],
      "text/plain": [
       "<IPython.core.display.HTML object>"
      ]
     },
     "metadata": {},
     "output_type": "display_data"
    }
   ],
   "source": [
    "model = DotProductBias(n_users, n_movies, 50)\n",
    "learn = Learner(dls, model, loss_func=MSELossFlat())\n",
    "learn.fit_one_cycle(5, 5e-3)"
   ]
  },
  {
   "cell_type": "markdown",
   "id": "d086bf74",
   "metadata": {
    "papermill": {
     "duration": 0.042218,
     "end_time": "2023-08-12T20:31:58.616579",
     "exception": false,
     "start_time": "2023-08-12T20:31:58.574361",
     "status": "completed"
    },
    "tags": []
   },
   "source": [
    "Instead of being better, it ends up being worse (at least at the end of training). Why is that? If we look at both trainings carefully, we can see the validation loss stopped improving in the middle and started to get worse. As we've seen, this is a clear indication of overfitting. In this case, there is no way to use data augmentation, so we will have to use another regularization technique. One approach that can be helpful is *weight decay*."
   ]
  },
  {
   "cell_type": "markdown",
   "id": "55f9587b",
   "metadata": {
    "papermill": {
     "duration": 0.042154,
     "end_time": "2023-08-12T20:31:58.700771",
     "exception": false,
     "start_time": "2023-08-12T20:31:58.658617",
     "status": "completed"
    },
    "tags": []
   },
   "source": [
    "### Weight Decay"
   ]
  },
  {
   "cell_type": "markdown",
   "id": "4b561f05",
   "metadata": {
    "papermill": {
     "duration": 0.043117,
     "end_time": "2023-08-12T20:31:58.786723",
     "exception": false,
     "start_time": "2023-08-12T20:31:58.743606",
     "status": "completed"
    },
    "tags": []
   },
   "source": [
    "Weight decay, or *L2 regularization*, consists in adding to your loss function the sum of all the weights squared. Why do that? Because when we compute the gradients, it will add a contribution to them that will encourage the weights to be as small as possible.\n",
    "\n",
    "Why would it prevent overfitting? The idea is that the larger the coefficients are, the sharper canyons we will have in the loss function. If we take the basic example of a parabola, `y = a * (x**2)`, the larger `a` is, the more *narrow* the parabola is:"
   ]
  },
  {
   "cell_type": "code",
   "execution_count": 26,
   "id": "7910dac2",
   "metadata": {
    "execution": {
     "iopub.execute_input": "2023-08-12T20:31:58.874534Z",
     "iopub.status.busy": "2023-08-12T20:31:58.873466Z",
     "iopub.status.idle": "2023-08-12T20:31:59.120081Z",
     "shell.execute_reply": "2023-08-12T20:31:59.118739Z"
    },
    "hide_input": true,
    "papermill": {
     "duration": 0.293263,
     "end_time": "2023-08-12T20:31:59.122999",
     "exception": false,
     "start_time": "2023-08-12T20:31:58.829736",
     "status": "completed"
    },
    "tags": []
   },
   "outputs": [
    {
     "data": {
      "image/png": "[encoded data removed]",
      "text/plain": [
       "<Figure size 576x432 with 1 Axes>"
      ]
     },
     "metadata": {
      "needs_background": "light"
     },
     "output_type": "display_data"
    }
   ],
   "source": [
    "x = np.linspace(-2,2,100)\n",
    "a_s = [1,2,5,10,50] \n",
    "ys = [a * x**2 for a in a_s]\n",
    "_,ax = plt.subplots(figsize=(8,6))\n",
    "for a,y in zip(a_s,ys): ax.plot(x,y, label=f'a={a}')\n",
    "ax.set_ylim([0,5])\n",
    "ax.legend();"
   ]
  },
  {
   "cell_type": "markdown",
   "id": "52dfbdf3",
   "metadata": {
    "papermill": {
     "duration": 0.042974,
     "end_time": "2023-08-12T20:31:59.210925",
     "exception": false,
     "start_time": "2023-08-12T20:31:59.167951",
     "status": "completed"
    },
    "tags": []
   },
   "source": [
    "So, letting our model learn high parameters might cause it to fit all the data points in the training set with an overcomplex function that has very sharp changes, which will lead to overfitting.\n",
    "\n",
    "Limiting our weights from growing too much is going to hinder the training of the model, but it will yield a state where it generalizes better. Going back to the theory briefly, weight decay (or just `wd`) is a parameter that controls that sum of squares we add to our loss (assuming `parameters` is a tensor of all parameters):\n",
    "\n",
    "``` python\n",
    "loss_with_wd = loss + wd * (parameters**2).sum()\n",
    "```\n",
    "\n",
    "In practice, though, it would be very inefficient (and maybe numerically unstable) to compute that big sum and add it to the loss. If you remember a little bit of high school math, you might recall that the derivative of `p**2` with respect to `p` is `2*p`, so adding that big sum to our loss is exactly the same as doing:\n",
    "\n",
    "``` python\n",
    "parameters.grad += wd * 2 * parameters\n",
    "```\n",
    "\n",
    "In practice, since `wd` is a parameter that we choose, we can just make it twice as big, so we don't even need the `*2` in this equation. To use weight decay in fastai, just pass `wd` in your call to `fit` or `fit_one_cycle`:"
   ]
  },
  {
   "cell_type": "code",
   "execution_count": 27,
   "id": "22ccf05f",
   "metadata": {
    "execution": {
     "iopub.execute_input": "2023-08-12T20:31:59.302381Z",
     "iopub.status.busy": "2023-08-12T20:31:59.301912Z",
     "iopub.status.idle": "2023-08-12T20:32:49.439812Z",
     "shell.execute_reply": "2023-08-12T20:32:49.438817Z"
    },
    "papermill": {
     "duration": 50.186305,
     "end_time": "2023-08-12T20:32:49.442486",
     "exception": false,
     "start_time": "2023-08-12T20:31:59.256181",
     "status": "completed"
    },
    "tags": []
   },
   "outputs": [
    {
     "data": {
      "text/html": [
       "\n",
       "<style>\n",
       "    /* Turns off some styling */\n",
       "    progress {\n",
       "        /* gets rid of default border in Firefox and Opera. */\n",
       "        border: none;\n",
       "        /* Needs to be in here for Safari polyfill so background images work as expected. */\n",
       "        background-size: auto;\n",
       "    }\n",
       "    .progress-bar-interrupted, .progress-bar-interrupted::-webkit-progress-bar {\n",
       "        background: #F44336;\n",
       "    }\n",
       "</style>\n"
      ],
      "text/plain": [
       "<IPython.core.display.HTML object>"
      ]
     },
     "metadata": {},
     "output_type": "display_data"
    },
    {
     "data": {
      "text/html": [
       "<table border=\"1\" class=\"dataframe\">\n",
       "  <thead>\n",
       "    <tr style=\"text-align: left;\">\n",
       "      <th>epoch</th>\n",
       "      <th>train_loss</th>\n",
       "      <th>valid_loss</th>\n",
       "      <th>time</th>\n",
       "    </tr>\n",
       "  </thead>\n",
       "  <tbody>\n",
       "    <tr>\n",
       "      <td>0</td>\n",
       "      <td>0.932776</td>\n",
       "      <td>0.961672</td>\n",
       "      <td>00:09</td>\n",
       "    </tr>\n",
       "    <tr>\n",
       "      <td>1</td>\n",
       "      <td>0.888625</td>\n",
       "      <td>0.882614</td>\n",
       "      <td>00:10</td>\n",
       "    </tr>\n",
       "    <tr>\n",
       "      <td>2</td>\n",
       "      <td>0.771066</td>\n",
       "      <td>0.832743</td>\n",
       "      <td>00:09</td>\n",
       "    </tr>\n",
       "    <tr>\n",
       "      <td>3</td>\n",
       "      <td>0.599807</td>\n",
       "      <td>0.822374</td>\n",
       "      <td>00:09</td>\n",
       "    </tr>\n",
       "    <tr>\n",
       "      <td>4</td>\n",
       "      <td>0.504981</td>\n",
       "      <td>0.822528</td>\n",
       "      <td>00:10</td>\n",
       "    </tr>\n",
       "  </tbody>\n",
       "</table>"
      ],
      "text/plain": [
       "<IPython.core.display.HTML object>"
      ]
     },
     "metadata": {},
     "output_type": "display_data"
    }
   ],
   "source": [
    "model = DotProductBias(n_users, n_movies, 50)\n",
    "learn = Learner(dls, model, loss_func=MSELossFlat())\n",
    "learn.fit_one_cycle(5, 5e-3, wd=0.1)"
   ]
  },
  {
   "cell_type": "markdown",
   "id": "a8c22792",
   "metadata": {
    "papermill": {
     "duration": 0.043676,
     "end_time": "2023-08-12T20:32:49.531947",
     "exception": false,
     "start_time": "2023-08-12T20:32:49.488271",
     "status": "completed"
    },
    "tags": []
   },
   "source": [
    "Much better!"
   ]
  },
  {
   "cell_type": "markdown",
   "id": "0fbdd320",
   "metadata": {
    "papermill": {
     "duration": 0.044125,
     "end_time": "2023-08-12T20:32:49.621098",
     "exception": false,
     "start_time": "2023-08-12T20:32:49.576973",
     "status": "completed"
    },
    "tags": []
   },
   "source": [
    "### Creating Our Own Embedding Module"
   ]
  },
  {
   "cell_type": "markdown",
   "id": "5420c18d",
   "metadata": {
    "papermill": {
     "duration": 0.043659,
     "end_time": "2023-08-12T20:32:49.708913",
     "exception": false,
     "start_time": "2023-08-12T20:32:49.665254",
     "status": "completed"
    },
    "tags": []
   },
   "source": [
    "So far, we've used `Embedding` without thinking about how it really works. Let's re-create `DotProductBias` *without* using this class. We'll need a randomly initialized weight matrix for each of the embeddings. We have to be careful, however. Recall from <<chapter_mnist_basics>> that optimizers require that they can get all the parameters of a module from the module's `parameters` method. However, this does not happen fully automatically. If we just add a tensor as an attribute to a `Module`, it will not be included in `parameters`:"
   ]
  },
  {
   "cell_type": "code",
   "execution_count": 28,
   "id": "f4cfa283",
   "metadata": {
    "execution": {
     "iopub.execute_input": "2023-08-12T20:32:49.798740Z",
     "iopub.status.busy": "2023-08-12T20:32:49.798293Z",
     "iopub.status.idle": "2023-08-12T20:32:49.807559Z",
     "shell.execute_reply": "2023-08-12T20:32:49.806435Z"
    },
    "papermill": {
     "duration": 0.057317,
     "end_time": "2023-08-12T20:32:49.810199",
     "exception": false,
     "start_time": "2023-08-12T20:32:49.752882",
     "status": "completed"
    },
    "tags": []
   },
   "outputs": [
    {
     "data": {
      "text/plain": [
       "(#0) []"
      ]
     },
     "execution_count": 28,
     "metadata": {},
     "output_type": "execute_result"
    }
   ],
   "source": [
    "class T(Module):\n",
    "    def __init__(self): self.a = torch.ones(3)\n",
    "\n",
    "L(T().parameters())"
   ]
  },
  {
   "cell_type": "markdown",
   "id": "53ffb70f",
   "metadata": {
    "papermill": {
     "duration": 0.044696,
     "end_time": "2023-08-12T20:32:49.899423",
     "exception": false,
     "start_time": "2023-08-12T20:32:49.854727",
     "status": "completed"
    },
    "tags": []
   },
   "source": [
    "To tell `Module` that we want to treat a tensor as a parameter, we have to wrap it in the `nn.Parameter` class. This class doesn't actually add any functionality (other than automatically calling `requires_grad_` for us). It's only used as a \"marker\" to show what to include in `parameters`:"
   ]
  },
  {
   "cell_type": "code",
   "execution_count": 29,
   "id": "b87d7cf1",
   "metadata": {
    "execution": {
     "iopub.execute_input": "2023-08-12T20:32:49.992251Z",
     "iopub.status.busy": "2023-08-12T20:32:49.991675Z",
     "iopub.status.idle": "2023-08-12T20:32:50.000536Z",
     "shell.execute_reply": "2023-08-12T20:32:49.999565Z"
    },
    "papermill": {
     "duration": 0.059483,
     "end_time": "2023-08-12T20:32:50.003329",
     "exception": false,
     "start_time": "2023-08-12T20:32:49.943846",
     "status": "completed"
    },
    "tags": []
   },
   "outputs": [
    {
     "data": {
      "text/plain": [
       "(#1) [Parameter containing:\n",
       "tensor([1., 1., 1.], requires_grad=True)]"
      ]
     },
     "execution_count": 29,
     "metadata": {},
     "output_type": "execute_result"
    }
   ],
   "source": [
    "class T(Module):\n",
    "    def __init__(self): self.a = nn.Parameter(torch.ones(3))\n",
    "\n",
    "L(T().parameters())"
   ]
  },
  {
   "cell_type": "markdown",
   "id": "80c9c2b8",
   "metadata": {
    "papermill": {
     "duration": 0.04382,
     "end_time": "2023-08-12T20:32:50.093880",
     "exception": false,
     "start_time": "2023-08-12T20:32:50.050060",
     "status": "completed"
    },
    "tags": []
   },
   "source": [
    "All PyTorch modules use `nn.Parameter` for any trainable parameters, which is why we haven't needed to explicitly use this wrapper up until now:"
   ]
  },
  {
   "cell_type": "code",
   "execution_count": 30,
   "id": "0d1b0405",
   "metadata": {
    "execution": {
     "iopub.execute_input": "2023-08-12T20:32:50.183783Z",
     "iopub.status.busy": "2023-08-12T20:32:50.183344Z",
     "iopub.status.idle": "2023-08-12T20:32:50.192930Z",
     "shell.execute_reply": "2023-08-12T20:32:50.192076Z"
    },
    "papermill": {
     "duration": 0.057402,
     "end_time": "2023-08-12T20:32:50.195307",
     "exception": false,
     "start_time": "2023-08-12T20:32:50.137905",
     "status": "completed"
    },
    "tags": []
   },
   "outputs": [
    {
     "data": {
      "text/plain": [
       "(#1) [Parameter containing:\n",
       "tensor([[-0.3292],\n",
       "        [-0.8623],\n",
       "        [ 0.0592]], requires_grad=True)]"
      ]
     },
     "execution_count": 30,
     "metadata": {},
     "output_type": "execute_result"
    }
   ],
   "source": [
    "class T(Module):\n",
    "    def __init__(self): self.a = nn.Linear(1, 3, bias=False)\n",
    "\n",
    "t = T()\n",
    "L(t.parameters())"
   ]
  },
  {
   "cell_type": "code",
   "execution_count": 31,
   "id": "ec7ed96b",
   "metadata": {
    "execution": {
     "iopub.execute_input": "2023-08-12T20:32:50.286597Z",
     "iopub.status.busy": "2023-08-12T20:32:50.285504Z",
     "iopub.status.idle": "2023-08-12T20:32:50.293276Z",
     "shell.execute_reply": "2023-08-12T20:32:50.292066Z"
    },
    "papermill": {
     "duration": 0.055805,
     "end_time": "2023-08-12T20:32:50.295716",
     "exception": false,
     "start_time": "2023-08-12T20:32:50.239911",
     "status": "completed"
    },
    "tags": []
   },
   "outputs": [
    {
     "data": {
      "text/plain": [
       "torch.nn.parameter.Parameter"
      ]
     },
     "execution_count": 31,
     "metadata": {},
     "output_type": "execute_result"
    }
   ],
   "source": [
    "type(t.a.weight)"
   ]
  },
  {
   "cell_type": "markdown",
   "id": "e8cee79c",
   "metadata": {
    "papermill": {
     "duration": 0.043829,
     "end_time": "2023-08-12T20:32:50.383542",
     "exception": false,
     "start_time": "2023-08-12T20:32:50.339713",
     "status": "completed"
    },
    "tags": []
   },
   "source": [
    "We can create a tensor as a parameter, with random initialization, like so:"
   ]
  },
  {
   "cell_type": "code",
   "execution_count": 32,
   "id": "77cb36c1",
   "metadata": {
    "execution": {
     "iopub.execute_input": "2023-08-12T20:32:50.474941Z",
     "iopub.status.busy": "2023-08-12T20:32:50.474497Z",
     "iopub.status.idle": "2023-08-12T20:32:50.480246Z",
     "shell.execute_reply": "2023-08-12T20:32:50.479072Z"
    },
    "papermill": {
     "duration": 0.054751,
     "end_time": "2023-08-12T20:32:50.482618",
     "exception": false,
     "start_time": "2023-08-12T20:32:50.427867",
     "status": "completed"
    },
    "tags": []
   },
   "outputs": [],
   "source": [
    "def create_params(size):\n",
    "    return nn.Parameter(torch.zeros(*size).normal_(0, 0.01))"
   ]
  },
  {
   "cell_type": "markdown",
   "id": "29fe8e28",
   "metadata": {
    "papermill": {
     "duration": 0.044463,
     "end_time": "2023-08-12T20:32:50.572095",
     "exception": false,
     "start_time": "2023-08-12T20:32:50.527632",
     "status": "completed"
    },
    "tags": []
   },
   "source": [
    "Let's use this to create `DotProductBias` again, but without `Embedding`:"
   ]
  },
  {
   "cell_type": "code",
   "execution_count": 33,
   "id": "58a38753",
   "metadata": {
    "execution": {
     "iopub.execute_input": "2023-08-12T20:32:50.734737Z",
     "iopub.status.busy": "2023-08-12T20:32:50.734272Z",
     "iopub.status.idle": "2023-08-12T20:32:50.743853Z",
     "shell.execute_reply": "2023-08-12T20:32:50.742960Z"
    },
    "papermill": {
     "duration": 0.129157,
     "end_time": "2023-08-12T20:32:50.746364",
     "exception": false,
     "start_time": "2023-08-12T20:32:50.617207",
     "status": "completed"
    },
    "tags": []
   },
   "outputs": [],
   "source": [
    "class DotProductBias(Module):\n",
    "    def __init__(self, n_users, n_movies, n_factors, y_range=(0,5.5)):\n",
    "        self.user_factors = create_params([n_users, n_factors])\n",
    "        self.user_bias = create_params([n_users])\n",
    "        self.movie_factors = create_params([n_movies, n_factors])\n",
    "        self.movie_bias = create_params([n_movies])\n",
    "        self.y_range = y_range\n",
    "        \n",
    "    def forward(self, x):\n",
    "        users = self.user_factors[x[:,0]]\n",
    "        movies = self.movie_factors[x[:,1]]\n",
    "        res = (users*movies).sum(dim=1)\n",
    "        res += self.user_bias[x[:,0]] + self.movie_bias[x[:,1]]\n",
    "        return sigmoid_range(res, *self.y_range)"
   ]
  },
  {
   "cell_type": "markdown",
   "id": "de65bea1",
   "metadata": {
    "papermill": {
     "duration": 0.044194,
     "end_time": "2023-08-12T20:32:50.835059",
     "exception": false,
     "start_time": "2023-08-12T20:32:50.790865",
     "status": "completed"
    },
    "tags": []
   },
   "source": [
    "Then let's train it again to check we get around the same results we saw in the previous section:"
   ]
  },
  {
   "cell_type": "code",
   "execution_count": 34,
   "id": "a3cbaa5e",
   "metadata": {
    "execution": {
     "iopub.execute_input": "2023-08-12T20:32:50.927069Z",
     "iopub.status.busy": "2023-08-12T20:32:50.926610Z",
     "iopub.status.idle": "2023-08-12T20:33:40.452726Z",
     "shell.execute_reply": "2023-08-12T20:33:40.451516Z"
    },
    "papermill": {
     "duration": 49.574955,
     "end_time": "2023-08-12T20:33:40.455340",
     "exception": false,
     "start_time": "2023-08-12T20:32:50.880385",
     "status": "completed"
    },
    "tags": []
   },
   "outputs": [
    {
     "data": {
      "text/html": [
       "\n",
       "<style>\n",
       "    /* Turns off some styling */\n",
       "    progress {\n",
       "        /* gets rid of default border in Firefox and Opera. */\n",
       "        border: none;\n",
       "        /* Needs to be in here for Safari polyfill so background images work as expected. */\n",
       "        background-size: auto;\n",
       "    }\n",
       "    .progress-bar-interrupted, .progress-bar-interrupted::-webkit-progress-bar {\n",
       "        background: #F44336;\n",
       "    }\n",
       "</style>\n"
      ],
      "text/plain": [
       "<IPython.core.display.HTML object>"
      ]
     },
     "metadata": {},
     "output_type": "display_data"
    },
    {
     "data": {
      "text/html": [
       "<table border=\"1\" class=\"dataframe\">\n",
       "  <thead>\n",
       "    <tr style=\"text-align: left;\">\n",
       "      <th>epoch</th>\n",
       "      <th>train_loss</th>\n",
       "      <th>valid_loss</th>\n",
       "      <th>time</th>\n",
       "    </tr>\n",
       "  </thead>\n",
       "  <tbody>\n",
       "    <tr>\n",
       "      <td>0</td>\n",
       "      <td>0.929254</td>\n",
       "      <td>0.953444</td>\n",
       "      <td>00:09</td>\n",
       "    </tr>\n",
       "    <tr>\n",
       "      <td>1</td>\n",
       "      <td>0.865246</td>\n",
       "      <td>0.878304</td>\n",
       "      <td>00:10</td>\n",
       "    </tr>\n",
       "    <tr>\n",
       "      <td>2</td>\n",
       "      <td>0.720294</td>\n",
       "      <td>0.838921</td>\n",
       "      <td>00:10</td>\n",
       "    </tr>\n",
       "    <tr>\n",
       "      <td>3</td>\n",
       "      <td>0.582796</td>\n",
       "      <td>0.829129</td>\n",
       "      <td>00:09</td>\n",
       "    </tr>\n",
       "    <tr>\n",
       "      <td>4</td>\n",
       "      <td>0.474043</td>\n",
       "      <td>0.829031</td>\n",
       "      <td>00:09</td>\n",
       "    </tr>\n",
       "  </tbody>\n",
       "</table>"
      ],
      "text/plain": [
       "<IPython.core.display.HTML object>"
      ]
     },
     "metadata": {},
     "output_type": "display_data"
    }
   ],
   "source": [
    "model = DotProductBias(n_users, n_movies, 50)\n",
    "learn = Learner(dls, model, loss_func=MSELossFlat())\n",
    "learn.fit_one_cycle(5, 5e-3, wd=0.1)"
   ]
  },
  {
   "cell_type": "markdown",
   "id": "6d21dc38",
   "metadata": {
    "papermill": {
     "duration": 0.044939,
     "end_time": "2023-08-12T20:33:40.545859",
     "exception": false,
     "start_time": "2023-08-12T20:33:40.500920",
     "status": "completed"
    },
    "tags": []
   },
   "source": [
    "Now, let's take a look at what our model has learned."
   ]
  },
  {
   "cell_type": "markdown",
   "id": "c7079938",
   "metadata": {
    "papermill": {
     "duration": 0.044658,
     "end_time": "2023-08-12T20:33:40.635419",
     "exception": false,
     "start_time": "2023-08-12T20:33:40.590761",
     "status": "completed"
    },
    "tags": []
   },
   "source": [
    "## Interpreting Embeddings and Biases"
   ]
  },
  {
   "cell_type": "markdown",
   "id": "6fa30960",
   "metadata": {
    "papermill": {
     "duration": 0.044307,
     "end_time": "2023-08-12T20:33:40.724907",
     "exception": false,
     "start_time": "2023-08-12T20:33:40.680600",
     "status": "completed"
    },
    "tags": []
   },
   "source": [
    "Our model is already useful, in that it can provide us with movie recommendations for our users—but it is also interesting to see what parameters it has discovered. The easiest to interpret are the biases. Here are the movies with the lowest values in the bias vector:"
   ]
  },
  {
   "cell_type": "code",
   "execution_count": 35,
   "id": "c5b2e739",
   "metadata": {
    "execution": {
     "iopub.execute_input": "2023-08-12T20:33:40.817397Z",
     "iopub.status.busy": "2023-08-12T20:33:40.816874Z",
     "iopub.status.idle": "2023-08-12T20:33:40.832241Z",
     "shell.execute_reply": "2023-08-12T20:33:40.831190Z"
    },
    "papermill": {
     "duration": 0.064699,
     "end_time": "2023-08-12T20:33:40.834851",
     "exception": false,
     "start_time": "2023-08-12T20:33:40.770152",
     "status": "completed"
    },
    "tags": []
   },
   "outputs": [
    {
     "data": {
      "text/plain": [
       "['Lawnmower Man 2: Beyond Cyberspace (1996)',\n",
       " 'Children of the Corn: The Gathering (1996)',\n",
       " 'Mortal Kombat: Annihilation (1997)',\n",
       " 'Amityville 3-D (1983)',\n",
       " 'Beautician and the Beast, The (1997)']"
      ]
     },
     "execution_count": 35,
     "metadata": {},
     "output_type": "execute_result"
    }
   ],
   "source": [
    "movie_bias = learn.model.movie_bias.squeeze()\n",
    "idxs = movie_bias.argsort()[:5]\n",
    "[dls.classes['title'][i] for i in idxs]"
   ]
  },
  {
   "cell_type": "markdown",
   "id": "2cd83bf4",
   "metadata": {
    "papermill": {
     "duration": 0.044426,
     "end_time": "2023-08-12T20:33:40.923996",
     "exception": false,
     "start_time": "2023-08-12T20:33:40.879570",
     "status": "completed"
    },
    "tags": []
   },
   "source": [
    "Think about what this means. What it's saying is that for each of these movies, even when a user is very well matched to its latent factors (which, as we will see in a moment, tend to represent things like level of action, age of movie, and so forth), they still generally don't like it. We could have simply sorted the movies directly by their average rating, but looking at the learned bias tells us something much more interesting. It tells us not just whether a movie is of a kind that people tend not to enjoy watching, but that people tend not to like watching it even if it is of a kind that they would otherwise enjoy! By the same token, here are the movies with the highest bias:"
   ]
  },
  {
   "cell_type": "code",
   "execution_count": 36,
   "id": "41e063f5",
   "metadata": {
    "execution": {
     "iopub.execute_input": "2023-08-12T20:33:41.015168Z",
     "iopub.status.busy": "2023-08-12T20:33:41.014683Z",
     "iopub.status.idle": "2023-08-12T20:33:41.023393Z",
     "shell.execute_reply": "2023-08-12T20:33:41.022360Z"
    },
    "papermill": {
     "duration": 0.057269,
     "end_time": "2023-08-12T20:33:41.025877",
     "exception": false,
     "start_time": "2023-08-12T20:33:40.968608",
     "status": "completed"
    },
    "tags": []
   },
   "outputs": [
    {
     "data": {
      "text/plain": [
       "['Titanic (1997)',\n",
       " 'Shawshank Redemption, The (1994)',\n",
       " 'Silence of the Lambs, The (1991)',\n",
       " 'L.A. Confidential (1997)',\n",
       " \"Schindler's List (1993)\"]"
      ]
     },
     "execution_count": 36,
     "metadata": {},
     "output_type": "execute_result"
    }
   ],
   "source": [
    "idxs = movie_bias.argsort(descending=True)[:5]\n",
    "[dls.classes['title'][i] for i in idxs]"
   ]
  },
  {
   "cell_type": "markdown",
   "id": "e7197ba1",
   "metadata": {
    "papermill": {
     "duration": 0.044775,
     "end_time": "2023-08-12T20:33:41.116440",
     "exception": false,
     "start_time": "2023-08-12T20:33:41.071665",
     "status": "completed"
    },
    "tags": []
   },
   "source": [
    "So, for instance, even if you don't normally enjoy detective movies, you might enjoy *LA Confidential*!\n",
    "\n",
    "It is not quite so easy to directly interpret the embedding matrices. There are just too many factors for a human to look at. But there is a technique that can pull out the most important underlying *directions* in such a matrix, called *principal component analysis* (PCA). We will not be going into this in detail in this book, because it is not particularly important for you to understand to be a deep learning practitioner, but if you are interested then we suggest you check out the fast.ai course [Computational Linear Algebra for Coders](https://github.com/fastai/numerical-linear-algebra). Here's what our movies look like based on two of the strongest PCA components."
   ]
  },
  {
   "cell_type": "code",
   "execution_count": 37,
   "id": "88add276",
   "metadata": {
    "execution": {
     "iopub.execute_input": "2023-08-12T20:33:41.208836Z",
     "iopub.status.busy": "2023-08-12T20:33:41.207895Z",
     "iopub.status.idle": "2023-08-12T20:33:42.180261Z",
     "shell.execute_reply": "2023-08-12T20:33:42.178956Z"
    },
    "hide_input": true,
    "papermill": {
     "duration": 1.023254,
     "end_time": "2023-08-12T20:33:42.184833",
     "exception": false,
     "start_time": "2023-08-12T20:33:41.161579",
     "status": "completed"
    },
    "tags": []
   },
   "outputs": [
    {
     "data": {
      "image/png": "[encoded data removed]",
      "text/plain": [
       "<Figure size 864x864 with 1 Axes>"
      ]
     },
     "metadata": {
      "needs_background": "light"
     },
     "output_type": "display_data"
    }
   ],
   "source": [
    "g = ratings.groupby('title')['rating'].count()\n",
    "top_movies = g.sort_values(ascending=False).index.values[:1000]\n",
    "top_idxs = tensor([learn.dls.classes['title'].o2i[m] for m in top_movies])\n",
    "movie_w = learn.model.movie_factors[top_idxs].cpu().detach()\n",
    "movie_pca = movie_w.pca(3)\n",
    "fac0,fac1,fac2 = movie_pca.t()\n",
    "idxs = list(range(50))\n",
    "X = fac0[idxs]\n",
    "Y = fac2[idxs]\n",
    "plt.figure(figsize=(12,12))\n",
    "plt.scatter(X, Y)\n",
    "for i, x, y in zip(top_movies[idxs], X, Y):\n",
    "    plt.text(x,y,i, color=np.random.rand(3)*0.7, fontsize=11)\n",
    "plt.show()"
   ]
  },
  {
   "cell_type": "markdown",
   "id": "f6a160f0",
   "metadata": {
    "papermill": {
     "duration": 0.05092,
     "end_time": "2023-08-12T20:33:42.284058",
     "exception": false,
     "start_time": "2023-08-12T20:33:42.233138",
     "status": "completed"
    },
    "tags": []
   },
   "source": [
    "We can see here that the model seems to have discovered a concept of *classic* versus *pop culture* movies, or perhaps it is *critically acclaimed* that is represented here."
   ]
  },
  {
   "cell_type": "markdown",
   "id": "1fadcdd4",
   "metadata": {
    "papermill": {
     "duration": 0.046908,
     "end_time": "2023-08-12T20:33:42.378356",
     "exception": false,
     "start_time": "2023-08-12T20:33:42.331448",
     "status": "completed"
    },
    "tags": []
   },
   "source": [
    "> j: No matter how many models I train, I never stop getting moved and surprised by how these randomly initialized bunches of numbers, trained with such simple mechanics, manage to discover things about my data all by themselves. It almost seems like cheating, that I can create code that does useful things without ever actually telling it how to do those things!"
   ]
  },
  {
   "cell_type": "markdown",
   "id": "cddaa5c7",
   "metadata": {
    "papermill": {
     "duration": 0.046937,
     "end_time": "2023-08-12T20:33:42.472658",
     "exception": false,
     "start_time": "2023-08-12T20:33:42.425721",
     "status": "completed"
    },
    "tags": []
   },
   "source": [
    "We defined our model from scratch to teach you what is inside, but you can directly use the fastai library to build it. We'll look at how to do that next."
   ]
  },
  {
   "cell_type": "markdown",
   "id": "66ed44d6",
   "metadata": {
    "papermill": {
     "duration": 0.046695,
     "end_time": "2023-08-12T20:33:42.566580",
     "exception": false,
     "start_time": "2023-08-12T20:33:42.519885",
     "status": "completed"
    },
    "tags": []
   },
   "source": [
    "### Using fastai.collab"
   ]
  },
  {
   "cell_type": "markdown",
   "id": "8ba03476",
   "metadata": {
    "papermill": {
     "duration": 0.048457,
     "end_time": "2023-08-12T20:33:42.662200",
     "exception": false,
     "start_time": "2023-08-12T20:33:42.613743",
     "status": "completed"
    },
    "tags": []
   },
   "source": [
    "We can create and train a collaborative filtering model using the exact structure shown earlier by using fastai's `collab_learner`:"
   ]
  },
  {
   "cell_type": "code",
   "execution_count": 38,
   "id": "c4ed578c",
   "metadata": {
    "execution": {
     "iopub.execute_input": "2023-08-12T20:33:42.759654Z",
     "iopub.status.busy": "2023-08-12T20:33:42.759248Z",
     "iopub.status.idle": "2023-08-12T20:33:42.772224Z",
     "shell.execute_reply": "2023-08-12T20:33:42.771240Z"
    },
    "papermill": {
     "duration": 0.064793,
     "end_time": "2023-08-12T20:33:42.774931",
     "exception": false,
     "start_time": "2023-08-12T20:33:42.710138",
     "status": "completed"
    },
    "tags": []
   },
   "outputs": [],
   "source": [
    "learn = collab_learner(dls, n_factors=50, y_range=(0, 5.5))"
   ]
  },
  {
   "cell_type": "code",
   "execution_count": 39,
   "id": "7304ca37",
   "metadata": {
    "execution": {
     "iopub.execute_input": "2023-08-12T20:33:42.872570Z",
     "iopub.status.busy": "2023-08-12T20:33:42.871554Z",
     "iopub.status.idle": "2023-08-12T20:34:33.758080Z",
     "shell.execute_reply": "2023-08-12T20:34:33.756772Z"
    },
    "papermill": {
     "duration": 50.937912,
     "end_time": "2023-08-12T20:34:33.760987",
     "exception": false,
     "start_time": "2023-08-12T20:33:42.823075",
     "status": "completed"
    },
    "tags": []
   },
   "outputs": [
    {
     "data": {
      "text/html": [
       "\n",
       "<style>\n",
       "    /* Turns off some styling */\n",
       "    progress {\n",
       "        /* gets rid of default border in Firefox and Opera. */\n",
       "        border: none;\n",
       "        /* Needs to be in here for Safari polyfill so background images work as expected. */\n",
       "        background-size: auto;\n",
       "    }\n",
       "    .progress-bar-interrupted, .progress-bar-interrupted::-webkit-progress-bar {\n",
       "        background: #F44336;\n",
       "    }\n",
       "</style>\n"
      ],
      "text/plain": [
       "<IPython.core.display.HTML object>"
      ]
     },
     "metadata": {},
     "output_type": "display_data"
    },
    {
     "data": {
      "text/html": [
       "<table border=\"1\" class=\"dataframe\">\n",
       "  <thead>\n",
       "    <tr style=\"text-align: left;\">\n",
       "      <th>epoch</th>\n",
       "      <th>train_loss</th>\n",
       "      <th>valid_loss</th>\n",
       "      <th>time</th>\n",
       "    </tr>\n",
       "  </thead>\n",
       "  <tbody>\n",
       "    <tr>\n",
       "      <td>0</td>\n",
       "      <td>0.939463</td>\n",
       "      <td>0.954959</td>\n",
       "      <td>00:10</td>\n",
       "    </tr>\n",
       "    <tr>\n",
       "      <td>1</td>\n",
       "      <td>0.841215</td>\n",
       "      <td>0.876151</td>\n",
       "      <td>00:10</td>\n",
       "    </tr>\n",
       "    <tr>\n",
       "      <td>2</td>\n",
       "      <td>0.724404</td>\n",
       "      <td>0.832099</td>\n",
       "      <td>00:10</td>\n",
       "    </tr>\n",
       "    <tr>\n",
       "      <td>3</td>\n",
       "      <td>0.597228</td>\n",
       "      <td>0.816953</td>\n",
       "      <td>00:10</td>\n",
       "    </tr>\n",
       "    <tr>\n",
       "      <td>4</td>\n",
       "      <td>0.481373</td>\n",
       "      <td>0.817286</td>\n",
       "      <td>00:10</td>\n",
       "    </tr>\n",
       "  </tbody>\n",
       "</table>"
      ],
      "text/plain": [
       "<IPython.core.display.HTML object>"
      ]
     },
     "metadata": {},
     "output_type": "display_data"
    }
   ],
   "source": [
    "learn.fit_one_cycle(5, 5e-3, wd=0.1)"
   ]
  },
  {
   "cell_type": "markdown",
   "id": "9450c091",
   "metadata": {
    "papermill": {
     "duration": 0.048108,
     "end_time": "2023-08-12T20:34:33.858019",
     "exception": false,
     "start_time": "2023-08-12T20:34:33.809911",
     "status": "completed"
    },
    "tags": []
   },
   "source": [
    "The names of the layers can be seen by printing the model:"
   ]
  },
  {
   "cell_type": "code",
   "execution_count": 40,
   "id": "bbbf7cc6",
   "metadata": {
    "execution": {
     "iopub.execute_input": "2023-08-12T20:34:33.955967Z",
     "iopub.status.busy": "2023-08-12T20:34:33.955568Z",
     "iopub.status.idle": "2023-08-12T20:34:33.963540Z",
     "shell.execute_reply": "2023-08-12T20:34:33.962135Z"
    },
    "papermill": {
     "duration": 0.060316,
     "end_time": "2023-08-12T20:34:33.966192",
     "exception": false,
     "start_time": "2023-08-12T20:34:33.905876",
     "status": "completed"
    },
    "tags": []
   },
   "outputs": [
    {
     "data": {
      "text/plain": [
       "EmbeddingDotBias(\n",
       "  (u_weight): Embedding(944, 50)\n",
       "  (i_weight): Embedding(1665, 50)\n",
       "  (u_bias): Embedding(944, 1)\n",
       "  (i_bias): Embedding(1665, 1)\n",
       ")"
      ]
     },
     "execution_count": 40,
     "metadata": {},
     "output_type": "execute_result"
    }
   ],
   "source": [
    "learn.model"
   ]
  },
  {
   "cell_type": "markdown",
   "id": "86e4e80d",
   "metadata": {
    "papermill": {
     "duration": 0.048676,
     "end_time": "2023-08-12T20:34:34.064245",
     "exception": false,
     "start_time": "2023-08-12T20:34:34.015569",
     "status": "completed"
    },
    "tags": []
   },
   "source": [
    "We can use these to replicate any of the analyses we did in the previous section—for instance:"
   ]
  },
  {
   "cell_type": "code",
   "execution_count": 41,
   "id": "4a59ed86",
   "metadata": {
    "execution": {
     "iopub.execute_input": "2023-08-12T20:34:34.164084Z",
     "iopub.status.busy": "2023-08-12T20:34:34.163378Z",
     "iopub.status.idle": "2023-08-12T20:34:34.172585Z",
     "shell.execute_reply": "2023-08-12T20:34:34.171609Z"
    },
    "papermill": {
     "duration": 0.062364,
     "end_time": "2023-08-12T20:34:34.175168",
     "exception": false,
     "start_time": "2023-08-12T20:34:34.112804",
     "status": "completed"
    },
    "tags": []
   },
   "outputs": [
    {
     "data": {
      "text/plain": [
       "['L.A. Confidential (1997)',\n",
       " 'Titanic (1997)',\n",
       " 'Shawshank Redemption, The (1994)',\n",
       " 'Silence of the Lambs, The (1991)',\n",
       " 'Rear Window (1954)']"
      ]
     },
     "execution_count": 41,
     "metadata": {},
     "output_type": "execute_result"
    }
   ],
   "source": [
    "movie_bias = learn.model.i_bias.weight.squeeze()\n",
    "idxs = movie_bias.argsort(descending=True)[:5]\n",
    "[dls.classes['title'][i] for i in idxs]"
   ]
  },
  {
   "cell_type": "markdown",
   "id": "1f7b597f",
   "metadata": {
    "papermill": {
     "duration": 0.048112,
     "end_time": "2023-08-12T20:34:34.271747",
     "exception": false,
     "start_time": "2023-08-12T20:34:34.223635",
     "status": "completed"
    },
    "tags": []
   },
   "source": [
    "Another interesting thing we can do with these learned embeddings is to look at _distance_."
   ]
  },
  {
   "cell_type": "markdown",
   "id": "a569613c",
   "metadata": {
    "papermill": {
     "duration": 0.048046,
     "end_time": "2023-08-12T20:34:34.368174",
     "exception": false,
     "start_time": "2023-08-12T20:34:34.320128",
     "status": "completed"
    },
    "tags": []
   },
   "source": [
    "### Embedding Distance"
   ]
  },
  {
   "cell_type": "markdown",
   "id": "d58cc2d4",
   "metadata": {
    "papermill": {
     "duration": 0.047838,
     "end_time": "2023-08-12T20:34:34.464232",
     "exception": false,
     "start_time": "2023-08-12T20:34:34.416394",
     "status": "completed"
    },
    "tags": []
   },
   "source": [
    "On a two-dimensional map we can calculate the distance between two coordinates using the formula of Pythagoras: $\\sqrt{x^{2}+y^{2}}$ (assuming that *x* and *y* are the distances between the coordinates on each axis). For a 50-dimensional embedding we can do exactly the same thing, except that we add up the squares of all 50 of the coordinate distances.\n",
    "\n",
    "If there were two movies that were nearly identical, then their embedding vectors would also have to be nearly identical, because the users that would like them would be nearly exactly the same. There is a more general idea here: movie similarity can be defined by the similarity of users that like those movies. And that directly means that the distance between two movies' embedding vectors can define that similarity. We can use this to find the most similar movie to *Silence of the Lambs*:"
   ]
  },
  {
   "cell_type": "code",
   "execution_count": 42,
   "id": "29ef7476",
   "metadata": {
    "execution": {
     "iopub.execute_input": "2023-08-12T20:34:34.563754Z",
     "iopub.status.busy": "2023-08-12T20:34:34.563001Z",
     "iopub.status.idle": "2023-08-12T20:34:34.578024Z",
     "shell.execute_reply": "2023-08-12T20:34:34.576877Z"
    },
    "papermill": {
     "duration": 0.067174,
     "end_time": "2023-08-12T20:34:34.580463",
     "exception": false,
     "start_time": "2023-08-12T20:34:34.513289",
     "status": "completed"
    },
    "tags": []
   },
   "outputs": [
    {
     "data": {
      "text/plain": [
       "'Before the Rain (Pred dozhdot) (1994)'"
      ]
     },
     "execution_count": 42,
     "metadata": {},
     "output_type": "execute_result"
    }
   ],
   "source": [
    "movie_factors = learn.model.i_weight.weight\n",
    "idx = dls.classes['title'].o2i['Silence of the Lambs, The (1991)']\n",
    "distances = nn.CosineSimilarity(dim=1)(movie_factors, movie_factors[idx][None])\n",
    "idx = distances.argsort(descending=True)[1]\n",
    "dls.classes['title'][idx]"
   ]
  },
  {
   "cell_type": "markdown",
   "id": "7709a1f1",
   "metadata": {
    "papermill": {
     "duration": 0.047859,
     "end_time": "2023-08-12T20:34:34.676677",
     "exception": false,
     "start_time": "2023-08-12T20:34:34.628818",
     "status": "completed"
    },
    "tags": []
   },
   "source": [
    "Now that we have succesfully trained a model, let's see how to deal with the situation where we have no data for a user. How can we make recommendations to new users?"
   ]
  },
  {
   "cell_type": "markdown",
   "id": "2d42c16d",
   "metadata": {
    "papermill": {
     "duration": 0.048264,
     "end_time": "2023-08-12T20:34:34.773508",
     "exception": false,
     "start_time": "2023-08-12T20:34:34.725244",
     "status": "completed"
    },
    "tags": []
   },
   "source": [
    "## Bootstrapping a Collaborative Filtering Model"
   ]
  },
  {
   "cell_type": "markdown",
   "id": "a3a42c00",
   "metadata": {
    "papermill": {
     "duration": 0.047834,
     "end_time": "2023-08-12T20:34:34.871060",
     "exception": false,
     "start_time": "2023-08-12T20:34:34.823226",
     "status": "completed"
    },
    "tags": []
   },
   "source": [
    "The biggest challenge with using collaborative filtering models in practice is the *bootstrapping problem*. The most extreme version of this problem is when you have no users, and therefore no history to learn from. What products do you recommend to your very first user?\n",
    "\n",
    "But even if you are a well-established company with a long history of user transactions, you still have the question: what do you do when a new user signs up? And indeed, what do you do when you add a new product to your portfolio? There is no magic solution to this problem, and really the solutions that we suggest are just variations of *use your common sense*. You could assign new users the mean of all of the embedding vectors of your other users, but this has the problem that that particular combination of latent factors may be not at all common (for instance, the average for the science-fiction factor may be high, and the average for the action factor may be low, but it is not that common to find people who like science-fiction without action). Better would probably be to pick some particular user to represent *average taste*.\n",
    "\n",
    "Better still is to use a tabular model based on user meta data to construct your initial embedding vector. When a user signs up, think about what questions you could ask them that could help you to understand their tastes. Then you can create a model where the dependent variable is a user's embedding vector, and the independent variables are the results of the questions that you ask them, along with their signup metadata. We will see in the next section how to create these kinds of tabular models. (You may have noticed that when you sign up for services such as Pandora and Netflix, they tend to ask you a few questions about what genres of movie or music you like; this is how they come up with your initial collaborative filtering recommendations.)"
   ]
  },
  {
   "cell_type": "markdown",
   "id": "552b61b3",
   "metadata": {
    "papermill": {
     "duration": 0.047751,
     "end_time": "2023-08-12T20:34:34.967251",
     "exception": false,
     "start_time": "2023-08-12T20:34:34.919500",
     "status": "completed"
    },
    "tags": []
   },
   "source": [
    "One thing to be careful of is that a small number of extremely enthusiastic users may end up effectively setting the recommendations for your whole user base. This is a very common problem, for instance, in movie recommendation systems. People that watch anime tend to watch a whole lot of it, and don't watch very much else, and spend a lot of time putting their ratings on websites. As a result, anime tends to be heavily overrepresented in a lot of *best ever movies* lists. In this particular case, it can be fairly obvious that you have a problem of representation bias, but if the bias is occurring in the latent factors then it may not be obvious at all.\n",
    "\n",
    "Such a problem can change the entire makeup of your user base, and the behavior of your system. This is particularly true because of positive feedback loops. If a small number of your users tend to set the direction of your recommendation system, then they are naturally going to end up attracting more people like them to your system. And that will, of course, amplify the original representation bias. This type of bias has a natural tendency to be amplified exponentially. You may have seen examples of company executives expressing surprise at how their online platforms rapidly deteriorated in such a way that they expressed values at odds with the values of the founders. In the presence of these kinds of feedback loops, it is easy to see how such a divergence can happen both quickly and in a way that is hidden until it is too late.\n",
    "\n",
    "In a self-reinforcing system like this, we should probably expect these kinds of feedback loops to be the norm, not the exception. Therefore, you should assume that you will see them, plan for that, and identify up front how you will deal with these issues. Try to think about all of the ways in which feedback loops may be represented in your system, and how you might be able to identify them in your data. In the end, this is coming back to our original advice about how to avoid disaster when rolling out any kind of machine learning system. It's all about ensuring that there are humans in the loop; that there is careful monitoring, and a gradual and thoughtful rollout."
   ]
  },
  {
   "cell_type": "markdown",
   "id": "f93a32b5",
   "metadata": {
    "papermill": {
     "duration": 0.04856,
     "end_time": "2023-08-12T20:34:35.065182",
     "exception": false,
     "start_time": "2023-08-12T20:34:35.016622",
     "status": "completed"
    },
    "tags": []
   },
   "source": [
    "Our dot product model works quite well, and it is the basis of many successful real-world recommendation systems. This approach to collaborative filtering is known as *probabilistic matrix factorization* (PMF). Another approach, which generally works similarly well given the same data, is deep learning."
   ]
  },
  {
   "cell_type": "markdown",
   "id": "50815542",
   "metadata": {
    "papermill": {
     "duration": 0.048018,
     "end_time": "2023-08-12T20:34:35.161803",
     "exception": false,
     "start_time": "2023-08-12T20:34:35.113785",
     "status": "completed"
    },
    "tags": []
   },
   "source": [
    "## Deep Learning for Collaborative Filtering"
   ]
  },
  {
   "cell_type": "markdown",
   "id": "e40e0fc7",
   "metadata": {
    "papermill": {
     "duration": 0.0479,
     "end_time": "2023-08-12T20:34:35.257653",
     "exception": false,
     "start_time": "2023-08-12T20:34:35.209753",
     "status": "completed"
    },
    "tags": []
   },
   "source": [
    "To turn our architecture into a deep learning model, the first step is to take the results of the embedding lookup and concatenate those activations together. This gives us a matrix which we can then pass through linear layers and nonlinearities in the usual way.\n",
    "\n",
    "Since we'll be concatenating the embeddings, rather than taking their dot product, the two embedding matrices can have different sizes (i.e., different numbers of latent factors). fastai has a function `get_emb_sz` that returns recommended sizes for embedding matrices for your data, based on a heuristic that fast.ai has found tends to work well in practice:"
   ]
  },
  {
   "cell_type": "code",
   "execution_count": 43,
   "id": "704c3de1",
   "metadata": {
    "execution": {
     "iopub.execute_input": "2023-08-12T20:34:35.357214Z",
     "iopub.status.busy": "2023-08-12T20:34:35.356406Z",
     "iopub.status.idle": "2023-08-12T20:34:35.364040Z",
     "shell.execute_reply": "2023-08-12T20:34:35.362830Z"
    },
    "papermill": {
     "duration": 0.061157,
     "end_time": "2023-08-12T20:34:35.366820",
     "exception": false,
     "start_time": "2023-08-12T20:34:35.305663",
     "status": "completed"
    },
    "tags": []
   },
   "outputs": [
    {
     "data": {
      "text/plain": [
       "[(944, 74), (1665, 102)]"
      ]
     },
     "execution_count": 43,
     "metadata": {},
     "output_type": "execute_result"
    }
   ],
   "source": [
    "embs = get_emb_sz(dls)\n",
    "embs"
   ]
  },
  {
   "cell_type": "markdown",
   "id": "45deeedc",
   "metadata": {
    "papermill": {
     "duration": 0.048108,
     "end_time": "2023-08-12T20:34:35.464203",
     "exception": false,
     "start_time": "2023-08-12T20:34:35.416095",
     "status": "completed"
    },
    "tags": []
   },
   "source": [
    "Let's implement this class:"
   ]
  },
  {
   "cell_type": "code",
   "execution_count": 44,
   "id": "5f5b21f7",
   "metadata": {
    "execution": {
     "iopub.execute_input": "2023-08-12T20:34:35.565175Z",
     "iopub.status.busy": "2023-08-12T20:34:35.564381Z",
     "iopub.status.idle": "2023-08-12T20:34:35.574110Z",
     "shell.execute_reply": "2023-08-12T20:34:35.573000Z"
    },
    "papermill": {
     "duration": 0.062416,
     "end_time": "2023-08-12T20:34:35.576715",
     "exception": false,
     "start_time": "2023-08-12T20:34:35.514299",
     "status": "completed"
    },
    "tags": []
   },
   "outputs": [],
   "source": [
    "class CollabNN(Module):\n",
    "    def __init__(self, user_sz, item_sz, y_range=(0,5.5), n_act=100):\n",
    "        self.user_factors = Embedding(*user_sz)\n",
    "        self.item_factors = Embedding(*item_sz)\n",
    "        self.layers = nn.Sequential(\n",
    "            nn.Linear(user_sz[1]+item_sz[1], n_act),\n",
    "            nn.ReLU(),\n",
    "            nn.Linear(n_act, 1))\n",
    "        self.y_range = y_range\n",
    "        \n",
    "    def forward(self, x):\n",
    "        embs = self.user_factors(x[:,0]),self.item_factors(x[:,1])\n",
    "        x = self.layers(torch.cat(embs, dim=1))\n",
    "        return sigmoid_range(x, *self.y_range)"
   ]
  },
  {
   "cell_type": "markdown",
   "id": "adc20e8c",
   "metadata": {
    "papermill": {
     "duration": 0.048301,
     "end_time": "2023-08-12T20:34:35.674125",
     "exception": false,
     "start_time": "2023-08-12T20:34:35.625824",
     "status": "completed"
    },
    "tags": []
   },
   "source": [
    "And use it to create a model:"
   ]
  },
  {
   "cell_type": "code",
   "execution_count": 45,
   "id": "7128bd3d",
   "metadata": {
    "execution": {
     "iopub.execute_input": "2023-08-12T20:34:35.774326Z",
     "iopub.status.busy": "2023-08-12T20:34:35.773864Z",
     "iopub.status.idle": "2023-08-12T20:34:35.785467Z",
     "shell.execute_reply": "2023-08-12T20:34:35.784507Z"
    },
    "papermill": {
     "duration": 0.065582,
     "end_time": "2023-08-12T20:34:35.788015",
     "exception": false,
     "start_time": "2023-08-12T20:34:35.722433",
     "status": "completed"
    },
    "tags": []
   },
   "outputs": [],
   "source": [
    "model = CollabNN(*embs)"
   ]
  },
  {
   "cell_type": "markdown",
   "id": "6e2f962c",
   "metadata": {
    "papermill": {
     "duration": 0.048015,
     "end_time": "2023-08-12T20:34:35.885151",
     "exception": false,
     "start_time": "2023-08-12T20:34:35.837136",
     "status": "completed"
    },
    "tags": []
   },
   "source": [
    "`CollabNN` creates our `Embedding` layers in the same way as previous classes in this chapter, except that we now use the `embs` sizes. `self.layers` is identical to the mini-neural net we created in <<chapter_mnist_basics>> for MNIST. Then, in `forward`, we apply the embeddings, concatenate the results, and pass this through the mini-neural net. Finally, we apply `sigmoid_range` as we have in previous models.\n",
    "\n",
    "Let's see if it trains:"
   ]
  },
  {
   "cell_type": "code",
   "execution_count": 46,
   "id": "913c1d55",
   "metadata": {
    "execution": {
     "iopub.execute_input": "2023-08-12T20:34:35.985685Z",
     "iopub.status.busy": "2023-08-12T20:34:35.984889Z",
     "iopub.status.idle": "2023-08-12T20:35:34.730485Z",
     "shell.execute_reply": "2023-08-12T20:35:34.729162Z"
    },
    "papermill": {
     "duration": 58.798895,
     "end_time": "2023-08-12T20:35:34.733105",
     "exception": false,
     "start_time": "2023-08-12T20:34:35.934210",
     "status": "completed"
    },
    "tags": []
   },
   "outputs": [
    {
     "data": {
      "text/html": [
       "\n",
       "<style>\n",
       "    /* Turns off some styling */\n",
       "    progress {\n",
       "        /* gets rid of default border in Firefox and Opera. */\n",
       "        border: none;\n",
       "        /* Needs to be in here for Safari polyfill so background images work as expected. */\n",
       "        background-size: auto;\n",
       "    }\n",
       "    .progress-bar-interrupted, .progress-bar-interrupted::-webkit-progress-bar {\n",
       "        background: #F44336;\n",
       "    }\n",
       "</style>\n"
      ],
      "text/plain": [
       "<IPython.core.display.HTML object>"
      ]
     },
     "metadata": {},
     "output_type": "display_data"
    },
    {
     "data": {
      "text/html": [
       "<table border=\"1\" class=\"dataframe\">\n",
       "  <thead>\n",
       "    <tr style=\"text-align: left;\">\n",
       "      <th>epoch</th>\n",
       "      <th>train_loss</th>\n",
       "      <th>valid_loss</th>\n",
       "      <th>time</th>\n",
       "    </tr>\n",
       "  </thead>\n",
       "  <tbody>\n",
       "    <tr>\n",
       "      <td>0</td>\n",
       "      <td>0.943857</td>\n",
       "      <td>0.951898</td>\n",
       "      <td>00:11</td>\n",
       "    </tr>\n",
       "    <tr>\n",
       "      <td>1</td>\n",
       "      <td>0.914170</td>\n",
       "      <td>0.900519</td>\n",
       "      <td>00:11</td>\n",
       "    </tr>\n",
       "    <tr>\n",
       "      <td>2</td>\n",
       "      <td>0.850523</td>\n",
       "      <td>0.883037</td>\n",
       "      <td>00:11</td>\n",
       "    </tr>\n",
       "    <tr>\n",
       "      <td>3</td>\n",
       "      <td>0.814549</td>\n",
       "      <td>0.875490</td>\n",
       "      <td>00:11</td>\n",
       "    </tr>\n",
       "    <tr>\n",
       "      <td>4</td>\n",
       "      <td>0.763638</td>\n",
       "      <td>0.878803</td>\n",
       "      <td>00:11</td>\n",
       "    </tr>\n",
       "  </tbody>\n",
       "</table>"
      ],
      "text/plain": [
       "<IPython.core.display.HTML object>"
      ]
     },
     "metadata": {},
     "output_type": "display_data"
    }
   ],
   "source": [
    "learn = Learner(dls, model, loss_func=MSELossFlat())\n",
    "learn.fit_one_cycle(5, 5e-3, wd=0.01)"
   ]
  },
  {
   "cell_type": "markdown",
   "id": "4df4aea8",
   "metadata": {
    "papermill": {
     "duration": 0.048495,
     "end_time": "2023-08-12T20:35:34.831922",
     "exception": false,
     "start_time": "2023-08-12T20:35:34.783427",
     "status": "completed"
    },
    "tags": []
   },
   "source": [
    "fastai provides this model in `fastai.collab` if you pass `use_nn=True` in your call to `collab_learner` (including calling `get_emb_sz` for you), and it lets you easily create more layers. For instance, here we're creating two hidden layers, of size 100 and 50, respectively:"
   ]
  },
  {
   "cell_type": "code",
   "execution_count": 47,
   "id": "b8a98e5f",
   "metadata": {
    "execution": {
     "iopub.execute_input": "2023-08-12T20:35:34.932493Z",
     "iopub.status.busy": "2023-08-12T20:35:34.931979Z",
     "iopub.status.idle": "2023-08-12T20:36:39.616097Z",
     "shell.execute_reply": "2023-08-12T20:36:39.615148Z"
    },
    "papermill": {
     "duration": 64.737869,
     "end_time": "2023-08-12T20:36:39.618579",
     "exception": false,
     "start_time": "2023-08-12T20:35:34.880710",
     "status": "completed"
    },
    "tags": []
   },
   "outputs": [
    {
     "data": {
      "text/html": [
       "\n",
       "<style>\n",
       "    /* Turns off some styling */\n",
       "    progress {\n",
       "        /* gets rid of default border in Firefox and Opera. */\n",
       "        border: none;\n",
       "        /* Needs to be in here for Safari polyfill so background images work as expected. */\n",
       "        background-size: auto;\n",
       "    }\n",
       "    .progress-bar-interrupted, .progress-bar-interrupted::-webkit-progress-bar {\n",
       "        background: #F44336;\n",
       "    }\n",
       "</style>\n"
      ],
      "text/plain": [
       "<IPython.core.display.HTML object>"
      ]
     },
     "metadata": {},
     "output_type": "display_data"
    },
    {
     "data": {
      "text/html": [
       "<table border=\"1\" class=\"dataframe\">\n",
       "  <thead>\n",
       "    <tr style=\"text-align: left;\">\n",
       "      <th>epoch</th>\n",
       "      <th>train_loss</th>\n",
       "      <th>valid_loss</th>\n",
       "      <th>time</th>\n",
       "    </tr>\n",
       "  </thead>\n",
       "  <tbody>\n",
       "    <tr>\n",
       "      <td>0</td>\n",
       "      <td>1.002696</td>\n",
       "      <td>1.001509</td>\n",
       "      <td>00:12</td>\n",
       "    </tr>\n",
       "    <tr>\n",
       "      <td>1</td>\n",
       "      <td>0.878693</td>\n",
       "      <td>0.930466</td>\n",
       "      <td>00:13</td>\n",
       "    </tr>\n",
       "    <tr>\n",
       "      <td>2</td>\n",
       "      <td>0.886416</td>\n",
       "      <td>0.900862</td>\n",
       "      <td>00:12</td>\n",
       "    </tr>\n",
       "    <tr>\n",
       "      <td>3</td>\n",
       "      <td>0.821012</td>\n",
       "      <td>0.875082</td>\n",
       "      <td>00:12</td>\n",
       "    </tr>\n",
       "    <tr>\n",
       "      <td>4</td>\n",
       "      <td>0.797446</td>\n",
       "      <td>0.875093</td>\n",
       "      <td>00:12</td>\n",
       "    </tr>\n",
       "  </tbody>\n",
       "</table>"
      ],
      "text/plain": [
       "<IPython.core.display.HTML object>"
      ]
     },
     "metadata": {},
     "output_type": "display_data"
    }
   ],
   "source": [
    "learn = collab_learner(dls, use_nn=True, y_range=(0, 5.5), layers=[100,50])\n",
    "learn.fit_one_cycle(5, 5e-3, wd=0.1)"
   ]
  },
  {
   "cell_type": "markdown",
   "id": "a4b1ffd0",
   "metadata": {
    "papermill": {
     "duration": 0.049043,
     "end_time": "2023-08-12T20:36:39.718469",
     "exception": false,
     "start_time": "2023-08-12T20:36:39.669426",
     "status": "completed"
    },
    "tags": []
   },
   "source": [
    "`learn.model` is an object of type `EmbeddingNN`. Let's take a look at fastai's code for this class:"
   ]
  },
  {
   "cell_type": "code",
   "execution_count": 48,
   "id": "fc0dc0eb",
   "metadata": {
    "execution": {
     "iopub.execute_input": "2023-08-12T20:36:39.818951Z",
     "iopub.status.busy": "2023-08-12T20:36:39.818541Z",
     "iopub.status.idle": "2023-08-12T20:36:39.825396Z",
     "shell.execute_reply": "2023-08-12T20:36:39.824100Z"
    },
    "papermill": {
     "duration": 0.060519,
     "end_time": "2023-08-12T20:36:39.828304",
     "exception": false,
     "start_time": "2023-08-12T20:36:39.767785",
     "status": "completed"
    },
    "tags": []
   },
   "outputs": [],
   "source": [
    "@delegates(TabularModel)\n",
    "class EmbeddingNN(TabularModel):\n",
    "    def __init__(self, emb_szs, layers, **kwargs):\n",
    "        super().__init__(emb_szs, layers=layers, n_cont=0, out_sz=1, **kwargs)"
   ]
  },
  {
   "cell_type": "markdown",
   "id": "0e7803eb",
   "metadata": {
    "papermill": {
     "duration": 0.048863,
     "end_time": "2023-08-12T20:36:39.926386",
     "exception": false,
     "start_time": "2023-08-12T20:36:39.877523",
     "status": "completed"
    },
    "tags": []
   },
   "source": [
    "Wow, that's not a lot of code! This class *inherits* from `TabularModel`, which is where it gets all its functionality from. In `__init__` it calls the same method in `TabularModel`, passing `n_cont=0` and `out_sz=1`; other than that, it only passes along whatever arguments it received."
   ]
  },
  {
   "cell_type": "markdown",
   "id": "24e2dfcd",
   "metadata": {
    "papermill": {
     "duration": 0.049381,
     "end_time": "2023-08-12T20:36:40.025382",
     "exception": false,
     "start_time": "2023-08-12T20:36:39.976001",
     "status": "completed"
    },
    "tags": []
   },
   "source": [
    "### Sidebar: kwargs and Delegates"
   ]
  },
  {
   "cell_type": "markdown",
   "id": "ddea8bef",
   "metadata": {
    "papermill": {
     "duration": 0.051425,
     "end_time": "2023-08-12T20:36:40.126962",
     "exception": false,
     "start_time": "2023-08-12T20:36:40.075537",
     "status": "completed"
    },
    "tags": []
   },
   "source": [
    "`EmbeddingNN` includes `**kwargs` as a parameter to `__init__`. In Python `**kwargs` in a parameter list means \"put any additional keyword arguments into a dict called `kwargs`. And `**kwargs` in an argument list means \"insert all key/value pairs in the `kwargs` dict as named arguments here\". This approach is used in many popular libraries, such as `matplotlib`, in which the main `plot` function simply has the signature `plot(*args, **kwargs)`. The [`plot` documentation](https://matplotlib.org/api/pyplot_api.html#matplotlib.pyplot.plot) says \"The `kwargs` are `Line2D` properties\" and then lists those properties.\n",
    "\n",
    "We're using `**kwargs` in `EmbeddingNN` to avoid having to write all the arguments to `TabularModel` a second time, and keep them in sync. However, this makes our API quite difficult to work with, because now Jupyter Notebook doesn't know what parameters are available. Consequently things like tab completion of parameter names and pop-up lists of signatures won't work.\n",
    "\n",
    "fastai resolves this by providing a special `@delegates` decorator, which automatically changes the signature of the class or function (`EmbeddingNN` in this case) to insert all of its keyword arguments into the signature."
   ]
  },
  {
   "cell_type": "markdown",
   "id": "165b17be",
   "metadata": {
    "papermill": {
     "duration": 0.04941,
     "end_time": "2023-08-12T20:36:40.227214",
     "exception": false,
     "start_time": "2023-08-12T20:36:40.177804",
     "status": "completed"
    },
    "tags": []
   },
   "source": [
    "### End sidebar"
   ]
  },
  {
   "cell_type": "markdown",
   "id": "a97423b1",
   "metadata": {
    "papermill": {
     "duration": 0.048998,
     "end_time": "2023-08-12T20:36:40.325435",
     "exception": false,
     "start_time": "2023-08-12T20:36:40.276437",
     "status": "completed"
    },
    "tags": []
   },
   "source": [
    "Although the results of `EmbeddingNN` are a bit worse than the dot product approach (which shows the power of carefully constructing an architecture for a domain), it does allow us to do something very important: we can now directly incorporate other user and movie information, date and time information, or any other information that may be relevant to the recommendation. That's exactly what `TabularModel` does. In fact, we've now seen that `EmbeddingNN` is just a `TabularModel`, with `n_cont=0` and `out_sz=1`. So, we'd better spend some time learning about `TabularModel`, and how to use it to get great results! We'll do that in the next chapter."
   ]
  },
  {
   "cell_type": "markdown",
   "id": "430e2667",
   "metadata": {
    "papermill": {
     "duration": 0.048756,
     "end_time": "2023-08-12T20:36:40.423552",
     "exception": false,
     "start_time": "2023-08-12T20:36:40.374796",
     "status": "completed"
    },
    "tags": []
   },
   "source": [
    "## Conclusion"
   ]
  },
  {
   "cell_type": "markdown",
   "id": "090f3a8d",
   "metadata": {
    "papermill": {
     "duration": 0.048803,
     "end_time": "2023-08-12T20:36:40.521555",
     "exception": false,
     "start_time": "2023-08-12T20:36:40.472752",
     "status": "completed"
    },
    "tags": []
   },
   "source": [
    "For our first non-computer vision application, we looked at recommendation systems and saw how gradient descent can learn intrinsic factors or biases about items from a history of ratings. Those can then give us information about the data. \n",
    "\n",
    "We also built our first model in PyTorch. We will do a lot more of this in the next section of the book, but first, let's finish our dive into the other general applications of deep learning, continuing with tabular data."
   ]
  },
  {
   "cell_type": "markdown",
   "id": "3b120874",
   "metadata": {
    "papermill": {
     "duration": 0.04874,
     "end_time": "2023-08-12T20:36:40.619420",
     "exception": false,
     "start_time": "2023-08-12T20:36:40.570680",
     "status": "completed"
    },
    "tags": []
   },
   "source": [
    "## Questionnaire"
   ]
  },
  {
   "cell_type": "markdown",
   "id": "5cae01f9",
   "metadata": {
    "papermill": {
     "duration": 0.048865,
     "end_time": "2023-08-12T20:36:40.717470",
     "exception": false,
     "start_time": "2023-08-12T20:36:40.668605",
     "status": "completed"
    },
    "tags": []
   },
   "source": [
    "1. What problem does collaborative filtering solve?\n",
    "1. How does it solve it?\n",
    "1. Why might a collaborative filtering predictive model fail to be a very useful recommendation system?\n",
    "1. What does a crosstab representation of collaborative filtering data look like?\n",
    "1. Write the code to create a crosstab representation of the MovieLens data (you might need to do some web searching!).\n",
    "1. What is a latent factor? Why is it \"latent\"?\n",
    "1. What is a dot product? Calculate a dot product manually using pure Python with lists.\n",
    "1. What does `pandas.DataFrame.merge` do?\n",
    "1. What is an embedding matrix?\n",
    "1. What is the relationship between an embedding and a matrix of one-hot-encoded vectors?\n",
    "1. Why do we need `Embedding` if we could use one-hot-encoded vectors for the same thing?\n",
    "1. What does an embedding contain before we start training (assuming we're not using a pretained model)?\n",
    "1. Create a class (without peeking, if possible!) and use it.\n",
    "1. What does `x[:,0]` return?\n",
    "1. Rewrite the `DotProduct` class (without peeking, if possible!) and train a model with it.\n",
    "1. What is a good loss function to use for MovieLens? Why? \n",
    "1. What would happen if we used cross-entropy loss with MovieLens? How would we need to change the model?\n",
    "1. What is the use of bias in a dot product model?\n",
    "1. What is another name for weight decay?\n",
    "1. Write the equation for weight decay (without peeking!).\n",
    "1. Write the equation for the gradient of weight decay. Why does it help reduce weights?\n",
    "1. Why does reducing weights lead to better generalization?\n",
    "1. What does `argsort` do in PyTorch?\n",
    "1. Does sorting the movie biases give the same result as averaging overall movie ratings by movie? Why/why not?\n",
    "1. How do you print the names and details of the layers in a model?\n",
    "1. What is the \"bootstrapping problem\" in collaborative filtering?\n",
    "1. How could you deal with the bootstrapping problem for new users? For new movies?\n",
    "1. How can feedback loops impact collaborative filtering systems?\n",
    "1. When using a neural network in collaborative filtering, why can we have different numbers of factors for movies and users?\n",
    "1. Why is there an `nn.Sequential` in the `CollabNN` model?\n",
    "1. What kind of model should we use if we want to add metadata about users and items, or information such as date and time, to a collaborative filtering model?"
   ]
  },
  {
   "cell_type": "markdown",
   "id": "559af405",
   "metadata": {
    "papermill": {
     "duration": 0.04904,
     "end_time": "2023-08-12T20:36:40.816294",
     "exception": false,
     "start_time": "2023-08-12T20:36:40.767254",
     "status": "completed"
    },
    "tags": []
   },
   "source": [
    "### Further Research\n",
    "\n",
    "1. Take a look at all the differences between the `Embedding` version of `DotProductBias` and the `create_params` version, and try to understand why each of those changes is required. If you're not sure, try reverting each change to see what happens. (NB: even the type of brackets used in `forward` has changed!)\n",
    "1. Find three other areas where collaborative filtering is being used, and find out what the pros and cons of this approach are in those areas.\n",
    "1. Complete this notebook using the full MovieLens dataset, and compare your results to online benchmarks. See if you can improve your accuracy. Look on the book's website and the fast.ai forum for ideas. Note that there are more columns in the full dataset—see if you can use those too (the next chapter might give you ideas).\n",
    "1. Create a model for MovieLens that works with cross-entropy loss, and compare it to the model in this chapter."
   ]
  },
  {
   "cell_type": "code",
   "execution_count": null,
   "id": "8cf72d50",
   "metadata": {
    "papermill": {
     "duration": 0.048828,
     "end_time": "2023-08-12T20:36:40.914364",
     "exception": false,
     "start_time": "2023-08-12T20:36:40.865536",
     "status": "completed"
    },
    "tags": []
   },
   "outputs": [],
   "source": []
  }
 ],
 "metadata": {
  "kernelspec": {
   "display_name": "Python 3",
   "language": "python",
   "name": "python3"
  },
  "language_info": {
   "codemirror_mode": {
    "name": "ipython",
    "version": 3
   },
   "file_extension": ".py",
   "mimetype": "text/x-python",
   "name": "python",
   "nbconvert_exporter": "python",
   "pygments_lexer": "ipython3",
   "version": "3.7.12"
  },
  "papermill": {
   "default_parameters": {},
   "duration": 450.080349,
   "end_time": "2023-08-12T20:36:41.989600",
   "environment_variables": {},
   "exception": null,
   "input_path": "__notebook__.ipynb",
   "output_path": "__notebook__.ipynb",
   "parameters": {},
   "start_time": "2023-08-12T20:29:11.909251",
   "version": "2.3.4"
  }
 },
 "nbformat": 4,
 "nbformat_minor": 5
}
